{
 "cells": [
  {
   "cell_type": "markdown",
   "metadata": {
    "colab_type": "text",
    "id": "7JmD-2NDTtR-"
   },
   "source": [
    "# <font color=\"red\"> MBA em IA e Big Data</font>\n",
    "## <span style=\"color:red\">Linguagens e Ferramentas para Inteligência Artificial e Big Data (Python e SQL)</span>\n",
    "\n",
    "### <span style=\"color:darkred\">Numpy: parte 2</span>\n",
    "\n",
    "*Moacir Antonelli Ponti*<br>\n",
    "*ICMC/USP São Carlos*\n",
    "\n",
    "*(com materiais do Prof. Luis Gustavo Nonato)*"
   ]
  },
  {
   "cell_type": "markdown",
   "metadata": {
    "colab_type": "text",
    "id": "6wQg5Q-lTtSE"
   },
   "source": [
    "- *Broadcasting*\n",
    "- Comparações\n",
    "- Reduções\n",
    "- Aritmética vetorial"
   ]
  },
  {
   "cell_type": "markdown",
   "metadata": {
    "colab_type": "text",
    "id": "Akb2qd_yTtSM"
   },
   "source": [
    "# Broadcasting (extensão)\n",
    "\n",
    "Garante eficiência computacional por extensão de arrays\n",
    "- operações aritméticas: soma, subtração, multiplicação e divisão) são feitas elemento a elemento (*element-wise*)\n",
    "- __broadcasting__ transforma os operandos de modo que tenham as mesmas dimensões"
   ]
  },
  {
   "cell_type": "markdown",
   "metadata": {
    "colab_type": "text",
    "id": "XaP6VFaeTtSP"
   },
   "source": [
    "### Operações entre um array e um escalar"
   ]
  },
  {
   "cell_type": "markdown",
   "metadata": {
    "colab_type": "text",
    "id": "UXiLTghxTtSU"
   },
   "source": [
    "Ao operar um escalar `s` e um array `A`, `numpy` replica o escalar em um array com a mesma dimensão de A\n",
    "\n",
    "Abaixo, a matriz `A` é somada com o escalar `3`. \n",
    "\n",
    "O __broadcasting__ replica o escalar um array 5x5 e então os dois arrays são somados elemento a elemento.\n",
    "```python\n",
    "A = np.arange(25).reshape(5,5) # matriz 5x5\n",
    "s = 3                          # escalar\n",
    "B = s+A                        # matriz 5x5\n",
    "```\n",
    "$$\n",
    "B = s + A = \\left[\\begin{array}{ccccc}\n",
    "3 & 3 & 3 & 3 & 3\\\\\n",
    "3 & 3 & 3 & 3 & 3\\\\\n",
    "3 & 3 & 3 & 3 & 3\\\\\n",
    "3 & 3 & 3 & 3 & 3\\\\\n",
    "3 & 3 & 3 & 3 & 3\n",
    "\\end{array}\\right] + \n",
    "\\left[\\begin{array}{ccccc} \n",
    "0  & 1 & 2 & 3 & 4 \\\\\n",
    "5  & 6 & 7 & 8 & 9\\\\\n",
    "10 & 11 & 12 & 13 & 14\\\\\n",
    "15 & 16 & 17 & 18 & 19\\\\\n",
    "20 & 21 & 22 & 23 & 24\n",
    "\\end{array}\\right]\n",
    "$$"
   ]
  },
  {
   "cell_type": "code",
   "execution_count": 2,
   "metadata": {
    "colab": {
     "base_uri": "https://localhost:8080/",
     "height": 210
    },
    "colab_type": "code",
    "executionInfo": {
     "elapsed": 798,
     "status": "ok",
     "timestamp": 1595609618250,
     "user": {
      "displayName": "Luis Gustavo Nonato",
      "photoUrl": "",
      "userId": "16109025348268293164"
     },
     "user_tz": 180
    },
    "id": "cgIoikR7TtSW",
    "outputId": "65e1118f-1108-4ac4-a442-4fd7f8e90758"
   },
   "outputs": [
    {
     "name": "stdout",
     "output_type": "stream",
     "text": [
      "[[ 0  1  2  3  4]\n",
      " [ 5  6  7  8  9]\n",
      " [10 11 12 13 14]\n",
      " [15 16 17 18 19]\n",
      " [20 21 22 23 24]] \n",
      "\n",
      "[[ 3  4  5  6  7]\n",
      " [ 8  9 10 11 12]\n",
      " [13 14 15 16 17]\n",
      " [18 19 20 21 22]\n",
      " [23 24 25 26 27]]\n"
     ]
    }
   ],
   "source": [
    "import numpy as np\n",
    "\n",
    "# Cria uma matriz 5x5 com números aleatórios\n",
    "A = np.arange(25).reshape(5,5)\n",
    "\n",
    "# define um escalar\n",
    "s = 3\n",
    "\n",
    "# O opeador \"+\" é aplicado elemento por elemento (caso contrário não seria definido)\n",
    "B = s + A\n",
    "\n",
    "print(A,'\\n')\n",
    "print(B)"
   ]
  },
  {
   "cell_type": "markdown",
   "metadata": {
    "colab_type": "text",
    "id": "sEtVwSHBTtSl"
   },
   "source": [
    "#### Operações entre arrays\n",
    "Em pares de arrays também ocorre extensão, porém restrições devem ser respeitadas:\n",
    "- Os dois arrays devem possuir dimensões compatíveis em algum(s) dos eixos\n",
    "- O broadcasting é aplicado nos demais eixos para que ambos os arrays tenham as mesmas dimensões\n",
    "```python\n",
    "A = np.arange(25).reshape(5,5) # matriz 5x5\n",
    "v = np.arange(5)               # array com 5 elementos\n",
    "B = v*A                        # matriz 5x5\n",
    "```\n",
    "$$\n",
    "B = v * A \n",
    "$$\n",
    "\n",
    "$$\n",
    "\\downarrow\n",
    "$$\n",
    "\n",
    "$$\n",
    "\\left[\\begin{array}{ccccc}\n",
    "0  & 1 & 2 & 3 & 4\n",
    "\\end{array}\\right] * \n",
    "\\left[\\begin{array}{ccccc} \n",
    "0  & 1 & 2 & 3 & 4 \\\\\n",
    "5  & 6 & 7 & 8 & 9\\\\\n",
    "10 & 11 & 12 & 13 & 14\\\\\n",
    "15 & 16 & 17 & 18 & 19\\\\\n",
    "20 & 21 & 22 & 23 & 24\n",
    "\\end{array}\\right] \n",
    "$$\n",
    "\n",
    "$$\n",
    "\\downarrow\n",
    "$$\n",
    "\n",
    "$$\n",
    "\\left[\\begin{array}{ccccc}\n",
    "0  & 1 & 2 & 3 & 4\\\\\n",
    "0  & 1 & 2 & 3 & 4\\\\\n",
    "0  & 1 & 2 & 3 & 4\\\\\n",
    "0  & 1 & 2 & 3 & 4\\\\\n",
    "0  & 1 & 2 & 3 & 4\n",
    "\\end{array}\\right] * \n",
    "\\left[\\begin{array}{ccccc} \n",
    "0  & 1 & 2 & 3 & 4 \\\\\n",
    "5  & 6 & 7 & 8 & 9\\\\\n",
    "10 & 11 & 12 & 13 & 14\\\\\n",
    "15 & 16 & 17 & 18 & 19\\\\\n",
    "20 & 21 & 22 & 23 & 24\n",
    "\\end{array}\\right]\n",
    "$$\n",
    "\n",
    "__Cuidado__: o operador `*` corresponde a uma multiplicação elemento por elemento, e *não* uma multiplicação matricial."
   ]
  },
  {
   "cell_type": "code",
   "execution_count": 3,
   "metadata": {
    "colab": {
     "base_uri": "https://localhost:8080/",
     "height": 332
    },
    "colab_type": "code",
    "executionInfo": {
     "elapsed": 660,
     "status": "ok",
     "timestamp": 1595609744603,
     "user": {
      "displayName": "Luis Gustavo Nonato",
      "photoUrl": "",
      "userId": "16109025348268293164"
     },
     "user_tz": 180
    },
    "id": "YZ9nvlbSTtSo",
    "outputId": "7613a0ff-6ca8-48cc-cbf1-7a3a5dc9a048"
   },
   "outputs": [
    {
     "name": "stdout",
     "output_type": "stream",
     "text": [
      "Matriz A: (5, 5)\n",
      "Array \"v\":  (5,)\n",
      "OBS: a segunda dimensão de \"v\" é livre \n",
      "---------------\n",
      "v = \n",
      " [0 1 2 3 4]\n",
      "A = \n",
      " [[ 0  1  2  3  4]\n",
      " [ 5  6  7  8  9]\n",
      " [10 11 12 13 14]\n",
      " [15 16 17 18 19]\n",
      " [20 21 22 23 24]]\n",
      "B = \n",
      " [[ 0  1  4  9 16]\n",
      " [ 0  6 14 24 36]\n",
      " [ 0 11 24 39 56]\n",
      " [ 0 16 34 54 76]\n",
      " [ 0 21 44 69 96]]\n"
     ]
    }
   ],
   "source": [
    "A = np.arange(25).reshape(5,5) # matriz 5x5\n",
    "print('Matriz A:', A.shape)\n",
    "\n",
    "v = np.arange(5)  # array com 5 elementos\n",
    "                  # como a segunda dimensão não foi especificada, \"v\" é interpretado \n",
    "                  # como um sendo 1x5 (uma linha e 5 colunas)\n",
    "        \n",
    "print('Array \"v\": ', v.shape)\n",
    "print('OBS: a segunda dimensão de \"v\" é livre ')\n",
    "\n",
    "# A operação \"*\" é realizada elemento a elemento, \n",
    "# - estendendo o array \"v\" para gerar novas linhas\n",
    "B = v * A\n",
    "\n",
    "print(5*'---')\n",
    "print('v = \\n',v)\n",
    "print('A = \\n',A)\n",
    "print('B = \\n',B)"
   ]
  },
  {
   "cell_type": "markdown",
   "metadata": {
    "colab_type": "text",
    "id": "uqQFqHadTtSu"
   },
   "source": [
    "__Broadcasting__ é feito nas colunas quando temos um array coluna\n",
    "```python\n",
    "v = np.arange(5).reshape(5,1) # array com 5 elementos 5 x 1\n",
    "                              # i.e. 5 linhas e uma coluna\n",
    "```\n",
    "$$\n",
    "B = v * A \n",
    "$$\n",
    "\n",
    "$$\n",
    "\\downarrow\n",
    "$$\n",
    "\n",
    "$$\n",
    "\\left[\\begin{array}{c}\n",
    "0  \\\\ 1 \\\\ 2 \\\\ 3 \\\\ 4\n",
    "\\end{array}\\right] * \n",
    "\\left[\\begin{array}{ccccc} \n",
    "0  & 1 & 2 & 3 & 4 \\\\\n",
    "5  & 6 & 7 & 8 & 9\\\\\n",
    "10 & 11 & 12 & 13 & 14\\\\\n",
    "15 & 16 & 17 & 18 & 19\\\\\n",
    "20 & 21 & 22 & 23 & 24\n",
    "\\end{array}\\right] \n",
    "$$\n",
    "\n",
    "$$\n",
    "\\downarrow\n",
    "$$\n",
    "\n",
    "$$\n",
    "\\left[\\begin{array}{ccccc}\n",
    "0  & 0 & 0 & 0 & 0\\\\\n",
    "1  & 1 & 1 & 1 & 1\\\\\n",
    "2  & 2 & 2 & 2 & 2\\\\\n",
    "3  & 3 & 3 & 3 & 3\\\\\n",
    "4  & 4 & 4 & 4 & 4\n",
    "\\end{array}\\right] * \n",
    "\\left[\\begin{array}{ccccc} \n",
    "0  & 1 & 2 & 3 & 4 \\\\\n",
    "5  & 6 & 7 & 8 & 9\\\\\n",
    "10 & 11 & 12 & 13 & 14\\\\\n",
    "15 & 16 & 17 & 18 & 19\\\\\n",
    "20 & 21 & 22 & 23 & 24\n",
    "\\end{array}\\right]\n",
    "$$"
   ]
  },
  {
   "cell_type": "code",
   "execution_count": 4,
   "metadata": {
    "colab": {
     "base_uri": "https://localhost:8080/",
     "height": 350
    },
    "colab_type": "code",
    "executionInfo": {
     "elapsed": 682,
     "status": "ok",
     "timestamp": 1595609855495,
     "user": {
      "displayName": "Luis Gustavo Nonato",
      "photoUrl": "",
      "userId": "16109025348268293164"
     },
     "user_tz": 180
    },
    "id": "M6nymOhLTtSw",
    "outputId": "4b3685b7-4f85-4de8-edec-089679f337ce"
   },
   "outputs": [
    {
     "name": "stdout",
     "output_type": "stream",
     "text": [
      "(5, 5)\n",
      "(5, 1)\n",
      "[[0]\n",
      " [1]\n",
      " [2]\n",
      " [3]\n",
      " [4]] \n",
      "\n",
      "[[ 0  1  2  3  4]\n",
      " [ 5  6  7  8  9]\n",
      " [10 11 12 13 14]\n",
      " [15 16 17 18 19]\n",
      " [20 21 22 23 24]] \n",
      "\n",
      "[[ 0  0  0  0  0]\n",
      " [ 5  6  7  8  9]\n",
      " [20 22 24 26 28]\n",
      " [45 48 51 54 57]\n",
      " [80 84 88 92 96]]\n"
     ]
    }
   ],
   "source": [
    "A = np.arange(25).reshape(5,5) # matriz 5x5\n",
    "print(A.shape)\n",
    "\n",
    "v = np.arange(5).reshape(5,1) # array com 5 elementos 5x1\n",
    "print(v.shape)\n",
    "\n",
    "# A operação \"*\" é feita elemento por elemento, \n",
    "# broadcasting em \"v\" gerar novas colunas\n",
    "B =  v * A\n",
    "\n",
    "print(v,'\\n')\n",
    "print(A,'\\n')\n",
    "print(B)"
   ]
  },
  {
   "cell_type": "markdown",
   "metadata": {
    "colab_type": "text",
    "id": "IIhV0ULpTtS3"
   },
   "source": [
    "Quando os dois operandos são arrays unidimensionais, sendo um deles array linha e o outro array coluna __Broadcasting__ é aplicado em ambos:\n",
    "```python\n",
    "v = np.arange(5)  # array com 5 elementos 1x5 (uma linha e 5 colunas)\n",
    "w = np.arange(3).reshape(3,1) # array com 3 elementos 3x1\n",
    "```\n",
    "$$\n",
    "Z = v + w\n",
    "$$\n",
    "\n",
    "$$\n",
    "\\downarrow\n",
    "$$\n",
    "\n",
    "$$\n",
    "\\left[\\begin{array}{ccccc}\n",
    "0  & 1 & 2 & 3 & 4\n",
    "\\end{array}\\right] + \n",
    "\\left[\\begin{array}{c} \n",
    "0  \\\\\n",
    "1 \\\\\n",
    "2\n",
    "\\end{array}\\right] \n",
    "$$\n",
    "\n",
    "$$\n",
    "\\downarrow\n",
    "$$\n",
    "\n",
    "$$\n",
    "\\left[\\begin{array}{ccccc}\n",
    "0  & 1 & 2 & 3 & 4\\\\\n",
    "0  & 1 & 2 & 3 & 4\\\\\n",
    "0  & 1 & 2 & 3 & 4\n",
    "\\end{array}\\right] + \n",
    "\\left[\\begin{array}{ccccc} \n",
    "0 & 0 & 0 & 0 & 0 \\\\\n",
    "1 & 1 & 1 & 1 & 1\\\\\n",
    "2 & 2 & 2 & 2 & 2\n",
    "\\end{array}\\right]\n",
    "$$"
   ]
  },
  {
   "cell_type": "code",
   "execution_count": 5,
   "metadata": {
    "colab": {
     "base_uri": "https://localhost:8080/",
     "height": 280
    },
    "colab_type": "code",
    "executionInfo": {
     "elapsed": 690,
     "status": "ok",
     "timestamp": 1595609949107,
     "user": {
      "displayName": "Luis Gustavo Nonato",
      "photoUrl": "",
      "userId": "16109025348268293164"
     },
     "user_tz": 180
    },
    "id": "f-m6VfAjTtS5",
    "outputId": "65ecfc8a-9e3d-40e5-c6cb-230b13391512"
   },
   "outputs": [
    {
     "name": "stdout",
     "output_type": "stream",
     "text": [
      "(5,)\n",
      "(3, 1)\n",
      "array v:\n",
      " [0 1 2 3 4] \n",
      "\n",
      "array w:\n",
      " [[0]\n",
      " [1]\n",
      " [2]] \n",
      "\n",
      "array Z = v+w\n",
      " [[0 1 2 3 4]\n",
      " [1 2 3 4 5]\n",
      " [2 3 4 5 6]]\n",
      "(3, 5)\n"
     ]
    }
   ],
   "source": [
    "v = np.arange(5)  # array com 5 elementos\n",
    "                  # como a segunda dimensão não foi especificada, \"v\" é interpretado \n",
    "                  # como um sendo 1x5 (uma linha e 5 colunas)\n",
    "print(v.shape)\n",
    "\n",
    "w = np.arange(3).reshape(3,1) # array com 3 elementos \n",
    "                              # como a segunda dimensão foi especificada, \"v\" é um array \n",
    "                              # com 3 linhas e uma coluna\n",
    "print(w.shape)\n",
    "\n",
    "# A operação \"+\" é feita elemento por elemento, broadcasting \"v\" e \"w\" simultaneamente\n",
    "# Neste caso \"w\" é um vetor coluna e \"v\" é tratado como vetor linha\n",
    "Z =  v + w\n",
    "\n",
    "print('array v:\\n',v,'\\n')\n",
    "print('array w:\\n',w,'\\n')\n",
    "print('array Z = v+w\\n',Z)  \n",
    "print(Z.shape) # note que o resultado é uma matriz 3x5"
   ]
  },
  {
   "cell_type": "markdown",
   "metadata": {
    "colab_type": "text",
    "id": "NUA_UY_PTtTM"
   },
   "source": [
    "## Operadores relacionais\n",
    "\n",
    "Operadores `==`, `>`,`<`,`>=`,`<=`, e `!=` são aplicados elemento a elemento."
   ]
  },
  {
   "cell_type": "code",
   "execution_count": 6,
   "metadata": {
    "colab": {},
    "colab_type": "code",
    "id": "V39GDaNJTtTN",
    "outputId": "b1a98088-c7f3-43e5-ba47-630bce187b61"
   },
   "outputs": [
    {
     "name": "stdout",
     "output_type": "stream",
     "text": [
      "[[0 1]\n",
      " [2 3]] \n",
      "\n",
      "[[6 5]\n",
      " [4 3]] \n",
      "\n",
      "[[False False]\n",
      " [False  True]]\n"
     ]
    }
   ],
   "source": [
    "A = np.arange(4).reshape(2,2)      # matriz 2x2\n",
    "B = np.arange(6,2,-1).reshape(2,2) # matriz 2x2\n",
    "\n",
    "M = (B == A)\n",
    "\n",
    "print(A,'\\n')\n",
    "print(B,'\\n')\n",
    "print(M)"
   ]
  },
  {
   "cell_type": "markdown",
   "metadata": {
    "colab_type": "text",
    "id": "NGSDcV0UTtTT"
   },
   "source": [
    "#### Igualdade do array com `np.array_equal()`"
   ]
  },
  {
   "cell_type": "code",
   "execution_count": 7,
   "metadata": {
    "colab": {},
    "colab_type": "code",
    "id": "XwYlugoQTtTV",
    "outputId": "a7535fc2-cc27-46df-f68e-cfa8960282ac"
   },
   "outputs": [
    {
     "name": "stdout",
     "output_type": "stream",
     "text": [
      "False\n",
      "True\n"
     ]
    }
   ],
   "source": [
    "A = np.arange(4).reshape(2,2)      # matrix 2x2\n",
    "B = np.arange(6,2,-1).reshape(2,2) # matrix 2x2\n",
    "C = np.copy(A)\n",
    "\n",
    "# Resposta é apenas um valor booleano\n",
    "print(np.array_equal(A,B))\n",
    "print(np.array_equal(A,C))"
   ]
  },
  {
   "cell_type": "markdown",
   "metadata": {
    "colab_type": "text",
    "id": "zdY2B7jrTtTr"
   },
   "source": [
    "# Redução\n",
    "\n",
    "> Métodos aplicados ao array como um todo ou somente às linhas ou colunas.\n",
    "\n",
    "O parâmetro 'axis' controla a direção: \n",
    "- 'axis' não especificado: retorna um valor único, opera sobre todo o array\n",
    "- 'axis=0' redução nas colunas (percorre as linhas): retorna um array com número de elementos igual ao número de colunas\n",
    "- 'axis=1' redução nas linhas (percorre as colunas): retorna um array com número de elementos igual ao número de linhas\n",
    "\n",
    "\n",
    "### Redução lógica\n",
    "- `all`: verifica se **todos** os elementos do array satisfazem a condição (True)\n",
    "- `any`: verifica se **algum** elemento do array satisfaz a condição (True)"
   ]
  },
  {
   "cell_type": "code",
   "execution_count": 8,
   "metadata": {},
   "outputs": [
    {
     "name": "stdout",
     "output_type": "stream",
     "text": [
      "[[False False]\n",
      " [False  True]]\n"
     ]
    }
   ],
   "source": [
    "# np.array_equal(A,B) é equivalente a:\n",
    "D = (A==B)\n",
    "print(D)"
   ]
  },
  {
   "cell_type": "code",
   "execution_count": 9,
   "metadata": {},
   "outputs": [
    {
     "name": "stdout",
     "output_type": "stream",
     "text": [
      "False\n"
     ]
    }
   ],
   "source": [
    "print(np.all(D))"
   ]
  },
  {
   "cell_type": "code",
   "execution_count": 10,
   "metadata": {
    "colab": {},
    "colab_type": "code",
    "id": "kQWjbt2ETtTs",
    "outputId": "2a4f644f-67bd-40de-9000-9fc155af150d"
   },
   "outputs": [
    {
     "name": "stdout",
     "output_type": "stream",
     "text": [
      "[[ 0  1  2  3  4]\n",
      " [ 5  6  7  8  9]\n",
      " [10 11 12 13 14]\n",
      " [15 16 17 18 19]\n",
      " [20 21 22 23 24]] \n",
      "\n",
      "[[False  True  True  True  True]\n",
      " [ True  True  True  True  True]\n",
      " [ True  True  True  True  True]\n",
      " [ True  True  True  True  True]\n",
      " [ True  True  True  True  True]] \n",
      "\n",
      "Todos os elementos são TRUE?  False\n",
      "Algum elemento é TRUE?  True\n",
      "Todos os elementos de cada coluna são TRUE?  [False  True  True  True  True]\n",
      "Algum elemento de cada linha é TRUE?  [ True  True  True  True  True]\n"
     ]
    }
   ],
   "source": [
    "A = np.arange(25).reshape(5,5)\n",
    "print(A,'\\n')\n",
    "\n",
    "M = A > 0\n",
    "print(M,'\\n')\n",
    "\n",
    "print('Todos os elementos são TRUE? ', np.all(M))\n",
    "print('Algum elemento é TRUE? ',np.any(M))\n",
    "\n",
    "print('Todos os elementos de cada coluna são TRUE? ',np.all(M,axis=0))\n",
    "print('Algum elemento de cada linha é TRUE? ',np.any(M,axis=1))"
   ]
  },
  {
   "cell_type": "markdown",
   "metadata": {
    "colab_type": "text",
    "id": "JNuFyl9mTtTa"
   },
   "source": [
    "#### Mais reduções\n",
    "\n",
    "Aritméticas e estatísticas: \n",
    "\n",
    "`sum`, `mean`, `median`, `std` (desvio padrão), `min`,  `max`, `argmin`, `argmax` "
   ]
  },
  {
   "cell_type": "code",
   "execution_count": 11,
   "metadata": {
    "colab": {},
    "colab_type": "code",
    "id": "9FpLslV5TtTc",
    "outputId": "e65312cb-04c6-4ab0-f567-5a472e5f8eed"
   },
   "outputs": [
    {
     "name": "stdout",
     "output_type": "stream",
     "text": [
      "[[0. 1. 2. 3. 4.]\n",
      " [0. 1. 2. 3. 4.]\n",
      " [0. 1. 2. 3. 4.]\n",
      " [0. 1. 2. 3. 4.]\n",
      " [0. 1. 2. 3. 4.]\n",
      " [0. 1. 2. 3. 4.]] \n",
      "\n",
      "Soma de todos os valores:  60.0\n",
      "Soma dos valores das colunas:  [ 0.  6. 12. 18. 24.]\n",
      "Soma dos valores das linhas:  [10. 10. 10. 10. 10. 10.]\n"
     ]
    }
   ],
   "source": [
    "A = np.zeros((6,5))  # matriz 5x5 de zeros\n",
    "A[:] = np.arange(5)  # broadcasting o array [0,1,2,3,4] nas linhas\n",
    "\n",
    "print(A,'\\n')\n",
    "\n",
    "print('Soma de todos os valores: ', np.sum(A)) # todos os elementos\n",
    "print('Soma dos valores das colunas: ', np.sum(A,axis=0)) # soma os valores das colunas\n",
    "print('Soma dos valores das linhas: ', np.sum(A,axis=1)) # soma os valores das linhas"
   ]
  },
  {
   "cell_type": "code",
   "execution_count": 12,
   "metadata": {
    "colab": {},
    "colab_type": "code",
    "id": "4-EFfFzmTtTg",
    "outputId": "bec29db4-1f81-4e10-c0b1-16b4ffd891cf"
   },
   "outputs": [
    {
     "name": "stdout",
     "output_type": "stream",
     "text": [
      "[[11 12 15  1 19]\n",
      " [ 3 10  8  9 18]\n",
      " [ 4 10 22  9 13]\n",
      " [22 28 22 26 27]\n",
      " [16  9  5 18 28]] \n",
      "\n",
      "Maior valor dentre todos na matriz:  28\n",
      "Posição do maior valor dentre todos na matriz:  16\n",
      "Maior valor em cada coluna:  [22 28 22 26 28]\n",
      "Posição do maior valor em cada coluna:  [3 3 2 3 4]\n"
     ]
    }
   ],
   "source": [
    "A = np.random.randint(low=0,high=30,size=(5,5)) # matriz 5x5 com números inteiros \n",
    "                                                # randomicos no intervalor entre 0 e 30\n",
    "print(A,'\\n')\n",
    "\n",
    "# todos os elementos\n",
    "print('Maior valor dentre todos na matriz: ',np.max(A))    # maior valor da matriz\n",
    "print('Posição do maior valor dentre todos na matriz: ',np.argmax(A)) # lineariza a matriz com A.ravel() e \n",
    "                                                                      # retorna a posicão do maior valor\n",
    "# Por coluna\n",
    "print('Maior valor em cada coluna: ',np.max(A,axis=0))  # maior valor em cada coluna\n",
    "print('Posição do maior valor em cada coluna: ',np.argmax(A,axis=0)) # posição do maior valor em cada coluna"
   ]
  },
  {
   "cell_type": "code",
   "execution_count": 13,
   "metadata": {
    "colab": {},
    "colab_type": "code",
    "id": "JI-qzsLBTtTl",
    "outputId": "a884cf87-aa84-4c7f-e2bc-27bca75467d5"
   },
   "outputs": [
    {
     "name": "stdout",
     "output_type": "stream",
     "text": [
      "[[16. 18.  3. 13. 20.]\n",
      " [17. 17. 23. 12. 10.]\n",
      " [12.  7. 21. 20. 23.]\n",
      " [21. 28. 29.  8. 11.]\n",
      " [16.  8. 11.  6. 14.]] \n",
      "\n",
      "Media de todos os valores:  15.36\n",
      "Media por coluna:  [16.4 15.6 17.4 11.8 15.6]\n",
      "Media por linha:  [14.  15.8 16.6 19.4 11. ]\n"
     ]
    }
   ],
   "source": [
    "A = np.random.randint(low=0,high=30,size=(5,5)).astype(float)\n",
    "print(A,'\\n')\n",
    "\n",
    "print('Media de todos os valores: ',np.mean(A))   # média de todos os valores\n",
    "print('Media por coluna: ',np.mean(A,axis=0))     # média por coluna\n",
    "print('Media por linha: ',np.mean(A,axis=1))      # média por linha"
   ]
  },
  {
   "cell_type": "markdown",
   "metadata": {
    "colab_type": "text",
    "id": "iNOtVRONTtTy"
   },
   "source": [
    "## Ordenação  `sort()`\n",
    "\n",
    "\n",
    "- Quando o método é invocado utilizando a própria variável, a ordenação é feita diretamente no array (`inplace`). Por exemplo:\n",
    "\n",
    "- Usando o `numpy.sort()` uma cópia ordenada do array é gerada (o array original não é modificado).\n",
    "\n",
    "Por padrão a ordenação é feita em cada linha (`axis=1` é o valor padrão do parâmetro 'axis') "
   ]
  },
  {
   "cell_type": "code",
   "execution_count": 14,
   "metadata": {
    "colab": {},
    "colab_type": "code",
    "id": "-bcr0Z0dTtTz",
    "outputId": "b2443350-c931-43b0-b4c6-3689864478c8"
   },
   "outputs": [
    {
     "name": "stdout",
     "output_type": "stream",
     "text": [
      "Array original \"A\": \n",
      " [[22 17  5 24  1]\n",
      " [11 27 18 18  1]\n",
      " [25  1 17 26 29]\n",
      " [23 25 19 26 17]\n",
      " [25 15  0 19 10]] \n",
      "\n",
      "\"B\" é cópia de \"A\" com valores das linhas ordenados. Array \"A\" não é alterado:\n",
      "B = \n",
      " [[ 1  5 17 22 24]\n",
      " [ 1 11 18 18 27]\n",
      " [ 1 17 25 26 29]\n",
      " [17 19 23 25 26]\n",
      " [ 0 10 15 19 25]] \n",
      "\n",
      "A = \n",
      " [[22 17  5 24  1]\n",
      " [11 27 18 18  1]\n",
      " [25  1 17 26 29]\n",
      " [23 25 19 26 17]\n",
      " [25 15  0 19 10]] \n",
      "\n"
     ]
    }
   ],
   "source": [
    "A = np.random.randint(low=0,high=30,size=(5,5))\n",
    "print('Array original \"A\": \\n',A,'\\n')\n",
    "\n",
    "B = np.sort(A) # `B` é uma cópia de `A` com linhas ordenas\n",
    "print('\"B\" é cópia de \"A\" com valores das linhas ordenados. Array \"A\" não é alterado:')\n",
    "print('B = \\n',B,'\\n')\n",
    "print('A = \\n',A,'\\n')"
   ]
  },
  {
   "cell_type": "code",
   "execution_count": 15,
   "metadata": {
    "colab": {},
    "colab_type": "code",
    "id": "-8Q-bAyuTtT3",
    "outputId": "86d4e348-0e8e-4e9f-fdf1-ef69af148b47"
   },
   "outputs": [
    {
     "name": "stdout",
     "output_type": "stream",
     "text": [
      "Os valores das linhas do array \"A\" são ordenados: \n",
      " A =\n",
      " [[ 1  5 17 22 24]\n",
      " [ 1 11 18 18 27]\n",
      " [ 1 17 25 26 29]\n",
      " [17 19 23 25 26]\n",
      " [ 0 10 15 19 25]] \n",
      "\n",
      "Os valores das colunas são ordenadas:  \n",
      " A =\n",
      " [[ 0  5 15 18 24]\n",
      " [ 1 10 17 19 25]\n",
      " [ 1 11 18 22 26]\n",
      " [ 1 17 23 25 27]\n",
      " [17 19 25 26 29]] \n",
      "\n"
     ]
    }
   ],
   "source": [
    "A.sort()  # as linhas de `A` são ordenadas modificando o array original\n",
    "print('Os valores das linhas do array \"A\" são ordenados: \\n A =\\n',A,'\\n')\n",
    "\n",
    "A.sort(axis=0) # as COLUNAS de `A` são ordenadas modificando o array original\n",
    "print('Os valores das colunas são ordenadas:  \\n A =\\n',A,'\\n')"
   ]
  },
  {
   "cell_type": "markdown",
   "metadata": {
    "colab_type": "text",
    "id": "48eEDznhTtUD"
   },
   "source": [
    "## Aritmétrica vetorial e matricial\n",
    "\n",
    "> A multiplicação matriz e vetor (ou matriz e matriz) como definida na álgebra matricial é feita utilizando o método `dot()`\n",
    "\n",
    "As dimensões devem ser compatíveis"
   ]
  },
  {
   "cell_type": "markdown",
   "metadata": {
    "colab_type": "text",
    "id": "u6fh7cWwTtUE"
   },
   "source": [
    "$$\n",
    "b1 = \\left[\\begin{array}{cc}\n",
    "           1 & 1 \\\\\n",
    "           2 & 2\n",
    "    \\end{array}\\right]\\cdot\n",
    "    \\left[\\begin{array}{c}\n",
    "           1  \\\\\n",
    "           2 \n",
    "    \\end{array}\\right] = \\left[\\begin{array}{c}\n",
    "           3  \\\\\n",
    "           6 \n",
    "    \\end{array}\\right]\n",
    "$$\n",
    "\n",
    "$$\n",
    "b2 = \\left[\\begin{array}{cc}\n",
    "           1 & 2 \n",
    "    \\end{array}\\right]\\cdot\n",
    "\\left[\\begin{array}{cc}\n",
    "           1 & 1 \\\\\n",
    "           2 & 2\n",
    "    \\end{array}\\right]\\cdot\n",
    "     = \\left[\\begin{array}{cc}\n",
    "           5 & 5\n",
    "    \\end{array}\\right]\n",
    "$$"
   ]
  },
  {
   "cell_type": "code",
   "execution_count": 16,
   "metadata": {
    "colab": {},
    "colab_type": "code",
    "id": "GwKWI7mlTtUF",
    "outputId": "c4355140-0a3c-40a4-e4ba-d533388c1665"
   },
   "outputs": [
    {
     "name": "stdout",
     "output_type": "stream",
     "text": [
      "Matriz 2x2 A:\n",
      " [[1. 1.]\n",
      " [2. 2.]]\n",
      "Vetor 2x1 v:\n",
      " [[1]\n",
      " [2]]\n",
      "\n",
      " Multiplicando a matriz A pelo vetor v resulta em um vetor 2x1\n",
      "[[3.]\n",
      " [6.]] (2, 1)\n",
      "\n",
      " Multiplicando o vetor transposto v.T pela matriz A pelo resulta em um vetor 1x2\n",
      "[[5. 5.]] (1, 2)\n"
     ]
    }
   ],
   "source": [
    "A = np.zeros((2,2))      # matrix 2x2 de zeros  \n",
    "v = np.array([1,2]).reshape(2,1) # array 2x1\n",
    "A[:] = v                # broadcasting o array 2x1 nas colunas da matriz 'A'\n",
    "\n",
    "print('Matriz 2x2 A:\\n',A)\n",
    "print('Vetor 2x1 v:\\n',v)\n",
    "\n",
    "print('\\n Multiplicando a matriz A pelo vetor v resulta em um vetor 2x1')\n",
    "b1 = np.dot(A,v)   # v e b1 são vetores colunas \n",
    "print(b1,b1.shape)\n",
    "\n",
    "#### Atenção ####\n",
    "# O produto np.dot(v,A) não é válido, pois as dimensões não são compatíveis \n",
    "# (produto de vetor 2x1 com matriz 2x2 não existe tente gerar o produto e veja a mensagem de erro)\n",
    "\n",
    "# Para compadibilizarmos as dimensão precisamos transpor o vetor v\n",
    "# (produto de vetor 1x2 com matriz 2x2 é bem definido e resulta em um vetor 1x2\n",
    "print('\\n Multiplicando o vetor transposto v.T pela matriz A pelo resulta em um vetor 1x2')\n",
    "b2 = np.dot(v.T, A) # v.T é um vetor linha, assim como b2\n",
    "print(b2,b2.shape)"
   ]
  },
  {
   "cell_type": "markdown",
   "metadata": {},
   "source": [
    "---\n",
    "\n",
    "#### <font color=\"blue\">Exercício 2.8</font>\n",
    "\n",
    "Dados dois arrays conforme abaixo que são notas (de 1 a 10) dadas a 4 diferentes serviços fornecidos por empresas concorrentes A e B. As notas de cada serviço estão organizadas nas 4 linhas dos arrays.\n",
    "\n",
    "A empresa `A` coletou 20 notas, e `B` coletou 10 notas para cada serviço (simuladas aleatoriamente no código abaixo).\n",
    "\n",
    "Os 4 serviços possuem pesos que é determinado pela lista `pesos` listada abaixo.\n",
    "\n",
    "A empresa A deseja se comparar com a empresa B com base na média das notas da empresa B. Para isso:\n",
    "1. usando redução, obtenha a média das notas de cada serviço da empresa B;\n",
    "2. para cada serviço, calcule qual foi a menor nota observada por A considerando apenas as notas de A que foram maiores do que a média de B para aquele serviço;\n",
    "3. armazene essas notas mínimas em um novo array de 4 elementos, e exiba esse array na tela;\n",
    "4. utilizando multiplicação vetorial, calcule e exiba na tela a soma das notas mínimas ponderadas pelos pesos \n",
    "\n",
    "---"
   ]
  },
  {
   "cell_type": "code",
   "execution_count": 17,
   "metadata": {},
   "outputs": [
    {
     "name": "stdout",
     "output_type": "stream",
     "text": [
      "[[9 7 4 8 1 5 6 5 1 3 4 7 8 5 5 2 6 7 1 6]\n",
      " [7 7 6 6 2 3 5 5 6 9 3 1 9 8 5 5 3 6 7 4]\n",
      " [1 4 4 7 1 2 9 3 8 5 2 1 6 2 6 9 9 3 5 5]\n",
      " [8 4 4 1 3 1 6 6 5 1 7 4 6 7 7 6 2 7 1 7]] \n",
      "\n",
      "[[9 8 8 1 7 4 1 6 6 1]\n",
      " [9 6 6 7 7 8 7 5 3 3]\n",
      " [7 5 7 9 6 5 8 9 8 3]\n",
      " [5 3 5 2 6 7 6 4 1 5]] \n",
      "\n",
      "[0.15, 0.25, 0.3, 0.3] \n",
      "\n"
     ]
    }
   ],
   "source": [
    "A = np.random.randint(low=1,high=10,size=(4,20))\n",
    "B = np.random.randint(low=1,high=10,size=(4,10))\n",
    "pesos = [0.15, 0.25, 0.3, 0.3]\n",
    "print(A, '\\n')\n",
    "print(B, '\\n')\n",
    "print(pesos, '\\n')"
   ]
  },
  {
   "cell_type": "code",
   "execution_count": 33,
   "metadata": {},
   "outputs": [
    {
     "data": {
      "text/plain": "array([5.1, 6.1, 6.7, 4.4])"
     },
     "execution_count": 33,
     "metadata": {},
     "output_type": "execute_result"
    }
   ],
   "source": [
    "#1\n",
    "media_nota_b = np.mean(B, axis=1)\n",
    "media_nota_b"
   ]
  },
  {
   "cell_type": "code",
   "execution_count": 36,
   "outputs": [
    {
     "data": {
      "text/plain": "array([6, 7, 7, 5])"
     },
     "execution_count": 36,
     "metadata": {},
     "output_type": "execute_result"
    }
   ],
   "source": [
    "#2\n",
    "menor_nota_a = []\n",
    "for i, nota in enumerate(A):\n",
    "    nota = nota[nota > media_nota_b[i]]\n",
    "    menor_nota_a.append(np.min(nota))\n",
    "\n",
    "menor_nota_a"
   ],
   "metadata": {
    "collapsed": false,
    "pycharm": {
     "name": "#%%\n"
    }
   }
  },
  {
   "cell_type": "code",
   "execution_count": 37,
   "outputs": [
    {
     "data": {
      "text/plain": "array([6, 7, 7, 5])"
     },
     "execution_count": 37,
     "metadata": {},
     "output_type": "execute_result"
    }
   ],
   "source": [
    "#3\n",
    "menor_nota_a = np.array(menor_nota_a)\n",
    "menor_nota_a"
   ],
   "metadata": {
    "collapsed": false,
    "pycharm": {
     "name": "#%%\n"
    }
   }
  },
  {
   "cell_type": "code",
   "execution_count": 42,
   "outputs": [
    {
     "name": "stdout",
     "output_type": "stream",
     "text": [
      "6.25\n"
     ]
    }
   ],
   "source": [
    "#4\n",
    "com_pesos = menor_nota_a * pesos\n",
    "print(np.sum(com_pesos))"
   ],
   "metadata": {
    "collapsed": false,
    "pycharm": {
     "name": "#%%\n"
    }
   }
  },
  {
   "cell_type": "code",
   "execution_count": 43,
   "outputs": [
    {
     "name": "stdout",
     "output_type": "stream",
     "text": [
      "6.25\n"
     ]
    }
   ],
   "source": [
    "com_pesos = menor_nota_a.dot(pesos)\n",
    "com_pesos\n",
    "print(com_pesos)\n"
   ],
   "metadata": {
    "collapsed": false,
    "pycharm": {
     "name": "#%%\n"
    }
   }
  },
  {
   "cell_type": "code",
   "execution_count": 45,
   "outputs": [
    {
     "data": {
      "text/plain": "array([[0.72969849, 0.36856154],\n       [0.87076971, 0.38303487],\n       [0.27354838, 0.15476955],\n       [0.44900772, 0.11069799],\n       [0.36013611, 0.4124821 ],\n       [0.57396247, 0.666706  ],\n       [0.28924032, 0.19646029],\n       [0.20307105, 0.76298499]])"
     },
     "execution_count": 45,
     "metadata": {},
     "output_type": "execute_result"
    }
   ],
   "source": [],
   "metadata": {
    "collapsed": false,
    "pycharm": {
     "name": "#%%\n"
    }
   }
  }
 ],
 "metadata": {
  "colab": {
   "collapsed_sections": [],
   "name": "Numpy II.ipynb",
   "provenance": []
  },
  "kernelspec": {
   "name": "pycharm-98ce8c0d",
   "language": "python",
   "display_name": "PyCharm (pytonmba)"
  },
  "language_info": {
   "codemirror_mode": {
    "name": "ipython",
    "version": 3
   },
   "file_extension": ".py",
   "mimetype": "text/x-python",
   "name": "python",
   "nbconvert_exporter": "python",
   "pygments_lexer": "ipython3",
   "version": "3.9.5"
  },
  "toc": {
   "base_numbering": 1,
   "nav_menu": {},
   "number_sections": true,
   "sideBar": true,
   "skip_h1_title": false,
   "title_cell": "Table of Contents",
   "title_sidebar": "Contents",
   "toc_cell": false,
   "toc_position": {},
   "toc_section_display": true,
   "toc_window_display": false
  }
 },
 "nbformat": 4,
 "nbformat_minor": 1
}