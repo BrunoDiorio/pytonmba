{
 "cells": [
  {
   "cell_type": "markdown",
   "metadata": {
    "colab_type": "text",
    "id": "x8VUohVKQh5l"
   },
   "source": [
    "# <font color=\"red\"> MBA em IA e Big Data</font>\n",
    "## <span style=\"color:red\">Linguagens e Ferramentas para Inteligência Artificial e Big Data (Python e SQL)</span>\n",
    "\n",
    "### <span style=\"color:darkred\">Python II, Pandas II e Numpy</span>\n",
    "\n",
    "## Exercícios com soluções\n",
    "\n",
    "*Moacir Antonelli Ponti*<br>\n",
    "*ICMC/USP São Carlos*"
   ]
  },
  {
   "cell_type": "markdown",
   "metadata": {
    "colab_type": "text",
    "id": "P1gGG6yeQh5m"
   },
   "source": [
    "#### <span style=\"color:red\">Recomenda-se fortemente que os exercícios sejam feitos sem consultar as respostas antecipadamente.</span>"
   ]
  },
  {
   "cell_type": "markdown",
   "metadata": {},
   "source": [
    "# Parte 1 - Python \n",
    "\n",
    "### Exercício 1)\n",
    "\n",
    "Codifique uma função que use comprehension para retornar uma lista com `n` valores numéricos iniciando em 0 e  com passo `p` permitindo um número float como passo. Arredonde cada número para 5 casas decimais usando a função `round(,5)`\n",
    "\n",
    "Exemplo para n=8, p=0.05\n",
    "```\n",
    "[0.0, 0.05, 0.1, 0.15, 0.2, 0.25, 0.3, 0.35, 0.4]\n",
    "```"
   ]
  },
  {
   "cell_type": "code",
   "execution_count": 4,
   "metadata": {},
   "outputs": [
    {
     "name": "stdout",
     "output_type": "stream",
     "text": [
      "9\n",
      "[0.0, 0.05, 0.1, 0.15, 0.2, 0.25, 0.3, 0.35, 0.4]\n"
     ]
    }
   ],
   "source": [
    "def frange(n,p):\n",
    "    lista = [round(x*p,5) for x in range(n+1)]\n",
    "    return lista\n",
    "\n",
    "lista = frange(8,0.05)\n",
    "print(len(lista))\n",
    "print(lista)"
   ]
  },
  {
   "cell_type": "markdown",
   "metadata": {
    "colab_type": "text",
    "id": "WHG7tm3QQh5m"
   },
   "source": [
    "### Exercício 2)\n",
    "\n",
    "A partir de um vetor com números inteiros aleatórios, calcular seu `log` e criar uma lista com o resultado.\n",
    "* se o número for 0 substituir o valor por `nan` (not a number) da biblioteca `math` para indicar que o resultado não é numérico"
   ]
  },
  {
   "cell_type": "code",
   "execution_count": 5,
   "metadata": {
    "colab": {},
    "colab_type": "code",
    "id": "pTVOXvzVQh5m",
    "outputId": "6cd1207a-a389-4e1b-ef41-7d404b39c46a"
   },
   "outputs": [
    {
     "name": "stdout",
     "output_type": "stream",
     "text": [
      "[3, 3, 9, 7, 6, 9, 1, 0, 9, 2, 8, 4, 9, 6, 10, 0, 0, 6, 8, 5, 8, 2, 8, 0, 9]\n"
     ]
    }
   ],
   "source": [
    "import random as rd\n",
    "\n",
    "n = 25\n",
    "rand_num = [rd.randint(0,10) for _ in range(n)]\n",
    "print(rand_num)"
   ]
  },
  {
   "cell_type": "code",
   "execution_count": 6,
   "metadata": {},
   "outputs": [
    {
     "name": "stdout",
     "output_type": "stream",
     "text": [
      "[1.0986122886681098, 1.0986122886681098, 2.1972245773362196, 1.9459101490553132, 1.791759469228055, 2.1972245773362196, 0.0, nan, 2.1972245773362196, 0.6931471805599453, 2.0794415416798357, 1.3862943611198906, 2.1972245773362196, 1.791759469228055, 2.302585092994046, nan, nan, 1.791759469228055, 2.0794415416798357, 1.6094379124341003, 2.0794415416798357, 0.6931471805599453, 2.0794415416798357, nan, 2.1972245773362196]\n"
     ]
    }
   ],
   "source": [
    "from math import nan, log\n",
    "log_num = [log(x) if x != 0 else nan for x in rand_num]\n",
    "print(log_num)"
   ]
  },
  {
   "cell_type": "markdown",
   "metadata": {
    "colab_type": "text",
    "id": "M72PbdAnQh5u"
   },
   "source": [
    "### Exercício 3)\n",
    "\n",
    "\n",
    "Codifique uma função que receba como argumento duas listas de números com o mesmo tamanho. Use comprehension para retornar uma nova lista que é a multiplicação elemento-a-elemento das duas listas.  Caso as listas não possuam o mesmo tamanho emita uma mensagem de erro e retorne a constante `math.nan` do módulo `math`.\n",
    "\n",
    "Exemplo:\n",
    "```\n",
    "l1 = [1, 2, 3, 4, 5]\n",
    "l2 = [5, 5, 5, 10, 10]\n",
    "multiplica_listas(l1,l2)\n",
    "\n",
    "  [5, 10, 15, 40, 50]\n",
    "```"
   ]
  },
  {
   "cell_type": "code",
   "execution_count": 7,
   "metadata": {
    "colab": {},
    "colab_type": "code",
    "id": "5HFGhEvMQh5u",
    "outputId": "82715598-d6f1-42e8-dfa5-0577147830ea"
   },
   "outputs": [],
   "source": [
    "from math import nan\n",
    "import sys\n",
    "\n",
    "def multiplica_listas(l1,l2):\n",
    "    if (len(l1) != len(l2)):\n",
    "        print('Erro: Listas devem ter o mesmo tamanho', file=sys.stderr)\n",
    "        return nan\n",
    "    else:\n",
    "        return [x*y for x,y in zip(l1,l2)]"
   ]
  },
  {
   "cell_type": "code",
   "execution_count": 8,
   "metadata": {},
   "outputs": [
    {
     "name": "stdout",
     "output_type": "stream",
     "text": [
      "[5, 10, 15, 40, 50]\n",
      "nan\n"
     ]
    },
    {
     "name": "stderr",
     "output_type": "stream",
     "text": [
      "Erro: Listas devem ter o mesmo tamanho\n"
     ]
    }
   ],
   "source": [
    "l1 = [1, 2, 3, 4, 5]\n",
    "l2 = [5, 5, 5, 10, 10]\n",
    "\n",
    "print(multiplica_listas(l1,l2))\n",
    "\n",
    "l3 = [3, 4, 5]\n",
    "print(multiplica_listas(l1,l3))"
   ]
  },
  {
   "cell_type": "markdown",
   "metadata": {},
   "source": [
    "### Exercício 4)\n",
    "\n",
    "Codifique uma comprehension que simule uma matriz de tamanho n x n, cujos elementos são dados por `(i+j*i)`, sendo `i` o índice da linha e `j` o índice da coluna. Para simular isso com uma lista de listas, o `i` corresponde ao índice da lista principal e o `j` aos índices das listas aninhadas.\n",
    "\n",
    "Por exemplo, seja a segunda lista (posição i=1), o seu terceiro elemento (posição j=2) seria obtido por `1+2*1 = 3`\n",
    "\n",
    "Exemplo com n = 3:\n",
    "```\n",
    "  [[0, 0, 0],\n",
    "   [1, 2, 3],\n",
    "   [2, 4, 6]] \n",
    "```"
   ]
  },
  {
   "cell_type": "code",
   "execution_count": 9,
   "metadata": {},
   "outputs": [
    {
     "name": "stdout",
     "output_type": "stream",
     "text": [
      "[[0, 0, 0], [1, 2, 3], [2, 4, 6]]\n"
     ]
    }
   ],
   "source": [
    "n = 3\n",
    "matriz = [[i+j*i for j in range(n)] for i in range(n)]\n",
    "print(matriz)"
   ]
  },
  {
   "cell_type": "markdown",
   "metadata": {},
   "source": [
    "---\n",
    "\n",
    "##  <font color=\"red\">Solução do Desafio</font>\n",
    "\n",
    "Temos uma série de pontos 3D organizados numa lista e gostaríamos de computar as distâncias entre todos os pontos pareados.\n",
    "\n",
    "Calcular a distância entre dois pontos $p1 = (x_1,y_1,z_1)$ e  $p2 = (x_2,y_2,z_2)$ usando a fórmula\n",
    "\n",
    "$$d(p1,p2) = |x_1 - x_2| +|y_1 - y_2| + |z_1 - z_2|,$$\n",
    "em que $|.|$ representa o valor absoluto.\n",
    "\n",
    "Exemplo com 2 pontos organizados em listas:\n",
    "```\n",
    "[[1.0, 1.0, 1.0],\n",
    " [3.0, 3.0, 3.0]]\n",
    "```\n",
    "\n",
    "A saída deve ser:\n",
    "```\n",
    "[[0.0, 6.0],\n",
    " [6.0, 0.0]]\n",
    "```\n",
    "\n",
    "Note que a diagonal principal tem sempre valor zero já que representa a distância de um ponto para ele mesmo, e que a matriz é simétrica pois a distância entre dois pontos p1 e p2 é tal que: d(p1,p2) = d(p2,p1).\n",
    "\n",
    "Para isso utilize uma única linha contendo comprehensions aninhadas e com iteração em paralelo"
   ]
  },
  {
   "cell_type": "code",
   "execution_count": 10,
   "metadata": {},
   "outputs": [
    {
     "name": "stdout",
     "output_type": "stream",
     "text": [
      "[0.0, 3.0, 3.0, 3.0]\n",
      "[3.0, 0.0, 4.0, 4.0]\n",
      "[3.0, 4.0, 0.0, 6.0]\n",
      "[3.0, 4.0, 6.0, 0.0]\n"
     ]
    }
   ],
   "source": [
    "from math import fabs, fsum\n",
    "\n",
    "pontos3d = [ [1.0, 1.0, 1.0],\n",
    "             [0.0, 1.0, 3.0],\n",
    "             [2.0, 2.0, 2.0],\n",
    "             [0.0, 0.0, 0.0] ]\n",
    "\n",
    "dists = [[fsum([fabs(a-b) for a,b in zip(p1,p2)]) for p2 in pontos3d] for p1 in pontos3d ]\n",
    "\n",
    "for linha in dists:\n",
    "    print(linha)"
   ]
  },
  {
   "cell_type": "markdown",
   "metadata": {
    "colab_type": "text",
    "id": "8ZD-mCMPQh5w"
   },
   "source": [
    "### Exercício 5)\n",
    "\n",
    "Escreva uma expressão lambda que permita receber uma string contendo duas palavras relativas ao nome de uma pessoa e seu sobrenome. Essas são separadas por um ou mais espaços em branco. A expressão deve retornar o nome no formato: \"SOBRENOME, N.\"\n",
    "\n",
    "Exemplo:\n",
    "```\n",
    "nome = 'Dennis   ritchie'\n",
    "```\n",
    "\n",
    "Retorno:\n",
    "```\n",
    "RITCHIE, D.\n",
    "```\n",
    "\n",
    "A seguir escreva um comprehension que percorra uma lista contendo nomes e gere uma nova lista com os nomes no formato \"SOBRENOME, N.\"\n",
    "\n",
    "Exemplo:\n",
    "```\n",
    "nomes = ['Dennis   ritchie', 'ALAN  Turing', 'betty Holberton']\n",
    "```\n",
    "\n",
    "Retorno:\n",
    "```\n",
    "['RITCHIE, D.', 'TURING, A.', 'HOLBERTON, B.']\n",
    "```"
   ]
  },
  {
   "cell_type": "code",
   "execution_count": 11,
   "metadata": {},
   "outputs": [
    {
     "data": {
      "text/plain": [
       "'PONTI, M.'"
      ]
     },
     "execution_count": 11,
     "metadata": {},
     "output_type": "execute_result"
    }
   ],
   "source": [
    "f = lambda nome: nome.split()[-1].upper()+', '+nome.split()[0][0]+'.'\n",
    "f('Moacir Ponti')"
   ]
  },
  {
   "cell_type": "code",
   "execution_count": 12,
   "metadata": {},
   "outputs": [
    {
     "name": "stdout",
     "output_type": "stream",
     "text": [
      "['HOLBERTON, B.', 'TURING, A.', 'RITCHIE, D.', 'HOPPER, G.', 'KNUTH, D.', 'BABBAGE, C.', 'LOVELACE, A.', 'HINTON, G.', 'KOLLER, D.']\n"
     ]
    }
   ],
   "source": [
    "cientistas_da_computacao = ['Betty Holberton', 'Alan Turing', 'Dennis Ritchie', 'Grace Hopper', 'Donald Knuth', 'Charles Babbage', 'Ada Lovelace', 'Geoffrey Hinton', 'Daphne Koller']\n",
    "formato = [f(nome) for nome in cientistas_da_computacao]\n",
    "print(formato)"
   ]
  },
  {
   "cell_type": "code",
   "execution_count": 13,
   "metadata": {},
   "outputs": [
    {
     "name": "stdout",
     "output_type": "stream",
     "text": [
      "HOLBERTON, B.\n",
      "TURING, A.\n",
      "RITCHIE, D.\n",
      "HOPPER, G.\n",
      "KNUTH, D.\n",
      "BABBAGE, C.\n",
      "LOVELACE, A.\n",
      "HINTON, G.\n",
      "KOLLER, D.\n"
     ]
    }
   ],
   "source": [
    "f = lambda nome: nome.split()[-1].upper()+', '+nome.split()[0][0]+'.'\n",
    "formato = [f(nome) for nome in cientistas_da_computacao]\n",
    "for autor in formato:\n",
    "    print(autor)"
   ]
  },
  {
   "cell_type": "markdown",
   "metadata": {},
   "source": [
    "----\n",
    "\n",
    "# Parte 2 - Numpy\n"
   ]
  },
  {
   "cell_type": "markdown",
   "metadata": {},
   "source": [
    "### Exercício 6) \n",
    "\n",
    "Dada uma lista de tuplas, em que cada tupla é formada por um par (str,list). Ver um exemplo abaixo.\n",
    "\n",
    "```\n",
    "l_tup = [('a',[8, 4, 6, 1]), ('b',[1, 2, 3, 4]), ('c',[5, 3, 3, 3])]\n",
    "```\n",
    "* Converta a lista de tuplas em um numpy array bidimensional em que cada lista é transformada em uma linha do array, ignorando a string. \n",
    "* Percorra cada linha do array resultante usando `for`, exibindo na tela os 3 últimos elementos de cada array\n",
    "\n",
    "Seu código deve funcionar para qualquer número de tuplas na lista, assuma que as listas tem sempre o mesmo número de elementos, todos numéricos.\n"
   ]
  },
  {
   "cell_type": "code",
   "execution_count": 14,
   "metadata": {},
   "outputs": [],
   "source": [
    "l_tup = [('a',[8, 4, 6, 1]), ('b',[1, 2, 3, 4]), ('c',[5, 3, 3, 3])]"
   ]
  },
  {
   "cell_type": "code",
   "execution_count": 15,
   "metadata": {},
   "outputs": [
    {
     "name": "stdout",
     "output_type": "stream",
     "text": [
      "[4 6 1]\n",
      "[2 3 4]\n",
      "[3 3 3]\n"
     ]
    }
   ],
   "source": [
    "import numpy as np\n",
    "\n",
    "arr = np.array([el[1] for el in l_tup])\n",
    "\n",
    "for l in arr:\n",
    "    print(l[-3:])"
   ]
  },
  {
   "cell_type": "markdown",
   "metadata": {
    "colab_type": "text",
    "id": "aYaioiBSQh5y"
   },
   "source": [
    "### Exercício 7) \n",
    "\n",
    "Use o método `randint` do `numpy` para criar um array bidimensional com 6x10 elementos inteiros entre 1 e 5. \n",
    "\n",
    "A seguir, considerando apenas a submatriz formada pelas linhas: 2 até 6 e as colunas 2, 5 e 8, copie para uma matriz unidimensional os valores maiores ou iguais a 4."
   ]
  },
  {
   "cell_type": "code",
   "execution_count": 16,
   "metadata": {
    "colab": {},
    "colab_type": "code",
    "id": "CMmRYn0-Qh5z",
    "outputId": "ff66b28a-6014-4e3b-89cd-3134cc76c075",
    "scrolled": true
   },
   "outputs": [
    {
     "name": "stdout",
     "output_type": "stream",
     "text": [
      "[[3 1 3 5 1 5 5 3 5 1]\n",
      " [3 5 1 2 4 5 4 4 5 1]\n",
      " [3 1 4 5 4 4 5 5 4 3]\n",
      " [3 1 4 4 2 4 4 5 5 1]\n",
      " [1 3 4 3 1 2 4 5 5 2]\n",
      " [2 2 1 1 4 3 3 1 5 2]]\n"
     ]
    }
   ],
   "source": [
    "x = np.random.randint(1,6,60).reshape(6,10)\n",
    "print(x)"
   ]
  },
  {
   "cell_type": "code",
   "execution_count": 17,
   "metadata": {},
   "outputs": [
    {
     "name": "stdout",
     "output_type": "stream",
     "text": [
      "[4 4 4 4 4 5 4 5 5]\n"
     ]
    }
   ],
   "source": [
    "subx = x[2:,[2,5,8]]\n",
    "vec = np.copy(subx[subx>=4])\n",
    "print(vec)"
   ]
  },
  {
   "cell_type": "markdown",
   "metadata": {},
   "source": [
    "# Exercício 8)\n",
    "\n",
    "\n",
    "Dados dois arrays conforme abaixo que são notas (de 1 a 10) dadas a 4 diferentes serviços fornecidos por empresas concorrentes A e B. As notas de cada serviço estão organizadas nas 4 linhas dos arrays.\n",
    "\n",
    "A empresa `A` coletou 10 notas, e `B` coletou 6 notas para cada serviço (simuladas aleatoriamente no código abaixo).\n",
    "\n",
    "Os 4 serviços possuem pesos que é determinado pela lista `pesos` listada abaixo.\n",
    "\n",
    "A empresa A deseja se comparar com a empresa B com base na média das notas da empresa B. Para isso:\n",
    "1. usando redução, obtenha a média das notas de cada serviço da empresa B;\n",
    "2. para cada serviço, calcule qual foi a menor nota observada por A considerando apenas as notas de A que foram maiores do que a média de B para aquele serviço;\n",
    "3. armazene essas notas mínimas em um novo array de 4 elementos, e exiba esse array na tela;\n",
    "4. utilizando multiplicação vetorial, calcule e exiba na tela a soma das notas mínimas ponderadas pelos pesos \n"
   ]
  },
  {
   "cell_type": "code",
   "execution_count": 33,
   "metadata": {
    "scrolled": true
   },
   "outputs": [
    {
     "name": "stdout",
     "output_type": "stream",
     "text": [
      "[[ 9  1  8  3  6  4  3  4  1  2]\n",
      " [ 7  5  5  4  7  7  6  2  5  6]\n",
      " [ 6  7  4  5  1  9  5  8  7  2]\n",
      " [ 5  5 10  4  4  2  2  2  3  4]]\n",
      "[[ 6  4 10  1  4  3]\n",
      " [ 8  1  1 10 10  7]\n",
      " [ 3  7  9  1  5  9]\n",
      " [ 6  5  5  8  2  6]]\n",
      "[0.15, 0.25, 0.3, 0.3]\n"
     ]
    }
   ],
   "source": [
    "A = np.random.randint(low=1,high=11,size=(4,10))\n",
    "B = np.random.randint(low=1,high=11,size=(4,6))\n",
    "pesos = [0.15, 0.25, 0.3, 0.3]\n",
    "print(A)\n",
    "print(B)\n",
    "print(pesos)"
   ]
  },
  {
   "cell_type": "code",
   "execution_count": 40,
   "metadata": {},
   "outputs": [
    {
     "name": "stdout",
     "output_type": "stream",
     "text": [
      "1) Medias de B: [4.67 6.17 5.67 5.33]\n",
      "2/3) Menores notas de A > do que medias de B: [ 6  7  6 10]\n",
      "  pesos= [0.15 0.25 0.3  0.3 ]\n",
      "4) Soma ponderada: 7.45\n"
     ]
    }
   ],
   "source": [
    "####\n",
    "mins = []\n",
    "for i,m in zip(range(B.shape[0]), np.mean(B,axis=1)):\n",
    "    minv = np.min(A[i,:][A[i,:] > m])\n",
    "    mins.append(minv)\n",
    "\n",
    "mins = np.array(mins)\n",
    "pesos = np.array(pesos)\n",
    "print('1) Medias de B:', np.round(np.mean(B,axis=1),2))\n",
    "print('2/3) Menores notas de A > do que medias de B:', mins)\n",
    "print('  pesos=', pesos)\n",
    "print('4) Soma ponderada:', np.round(mins.dot(pesos),2))\n"
   ]
  },
  {
   "cell_type": "markdown",
   "metadata": {},
   "source": [
    "----\n",
    "\n",
    "# Parte 3 - Pandas"
   ]
  },
  {
   "cell_type": "markdown",
   "metadata": {},
   "source": [
    "### Exercício 9) \n",
    "\n",
    "Carregue o arquivo `tips.csv`:\n",
    "1. Filtre as linhas selecionando apenas jantares (time = 'Dinner') e cuja conta foi superior a 40 (total_bill > 40), mostrando o total da conta, número de pessoas na mesa e gorjeta (total_bill, size, tip);\n",
    "2. Obtenha um novo dataframe em que seja mostrada a gorjeta (tip) média e máxima para cada valor de dia da semana (day) e horário (time)"
   ]
  },
  {
   "cell_type": "code",
   "execution_count": 43,
   "metadata": {},
   "outputs": [
    {
     "name": "stdout",
     "output_type": "stream",
     "text": [
      "     total_bill  size    tip\n",
      "59        48.27     4   6.73\n",
      "95        40.17     4   4.73\n",
      "102       44.30     3   2.50\n",
      "156       48.17     6   5.00\n",
      "170       50.81     3  10.00\n",
      "182       45.35     3   3.50\n",
      "184       40.55     2   3.00\n",
      "211       48.33     4   9.00\n",
      "                 mean   amax\n",
      "day  time                   \n",
      "Fri  Dinner  2.940000   4.73\n",
      "     Lunch   2.282500   3.48\n",
      "Sat  Dinner  3.019647  10.00\n",
      "Sun  Dinner  3.255132   6.50\n",
      "Thur Dinner  3.000000   3.00\n",
      "     Lunch   2.780500   6.70\n"
     ]
    }
   ],
   "source": [
    "import pandas as pd\n",
    "\n",
    "dtips = pd.read_csv('tips.csv')\n",
    "\n",
    "print(dtips.loc[(dtips['time']=='Dinner') & (dtips['total_bill']>40), \n",
    "          ['total_bill', 'size', 'tip'] ])\n",
    "\n",
    "avgtip = dtips.groupby(['day','time'])['tip'].agg([np.mean, np.max])\n",
    "print(avgtip)"
   ]
  },
  {
   "cell_type": "markdown",
   "metadata": {},
   "source": [
    "### Exercício 10) \n",
    "\n",
    "Carregue os arquivos `sales1.csv`, `sales1_shipdate.csv`  e `sales2.csv`, os quais possuem informações de vendas realizadas. Devemos juntar as bases de dados e tratá-las. \n",
    "\n",
    "O arquivo `sales1_shipdate.csv` contém as datas de envio das ordens na `sales1.csv`. Já `sales2.csv` contém essa coluna no próprio arquivo\n",
    "\n",
    "Para isso:\n",
    "\n",
    "1. Combine as bases de dados, consolidando-as em um único DataFrame\n",
    "2. Exiba na tela quais atributos possuem dados faltantes após a concatenação\n",
    "    * Sabendo que `Total Revenue` é a multiplicação do preço unitário pela quantidade de unidades, preencha os valores faltantes dessa coluna\n",
    "3. Detecte linhas duplicadas. Remova duplicatas, mantendo a primeira ocorrência, e imprima na tela quantas linhas foram removidas"
   ]
  },
  {
   "cell_type": "code",
   "execution_count": 45,
   "metadata": {},
   "outputs": [
    {
     "name": "stdout",
     "output_type": "stream",
     "text": [
      "<class 'pandas.core.frame.DataFrame'>\n",
      "Int64Index: 102 entries, 0 to 87\n",
      "Data columns (total 12 columns):\n",
      " #   Column          Non-Null Count  Dtype  \n",
      "---  ------          --------------  -----  \n",
      " 0   Country         102 non-null    object \n",
      " 1   Item Type       102 non-null    object \n",
      " 2   Online          93 non-null     float64\n",
      " 3   Order Priority  102 non-null    object \n",
      " 4   Order Date      102 non-null    object \n",
      " 5   Order ID        102 non-null    int64  \n",
      " 6   Units Sold      102 non-null    int64  \n",
      " 7   Unit Price      102 non-null    float64\n",
      " 8   Total Cost      102 non-null    float64\n",
      " 9   Total Profit    102 non-null    float64\n",
      " 10  Ship Date       100 non-null    object \n",
      " 11  Total Revenue   88 non-null     float64\n",
      "dtypes: float64(5), int64(2), object(5)\n",
      "memory usage: 10.4+ KB\n"
     ]
    }
   ],
   "source": [
    "import pandas as pd\n",
    "import numpy as np\n",
    "\n",
    "s1 = pd.read_csv('sales1.csv')\n",
    "s1_ship = pd.read_csv('sales1_shipdate.csv')\n",
    "s2 = pd.read_csv('sales2.csv')\n",
    "\n",
    "## 1 - Combinar as bases de dados\n",
    "\n",
    "# juntar data do envio pelo Order ID\n",
    "s1 = pd.merge(s1,s1_ship,on='Order ID',how='outer')\n",
    "# concatenar os dois DataFrames\n",
    "sales = pd.concat([s1,s2],axis=0)\n",
    "\n",
    "sales.info()"
   ]
  },
  {
   "cell_type": "code",
   "execution_count": 46,
   "metadata": {},
   "outputs": [
    {
     "name": "stdout",
     "output_type": "stream",
     "text": [
      "Online\n",
      "Ship Date\n",
      "Total Revenue\n"
     ]
    }
   ],
   "source": [
    "## 2 - Atributos com dados faltantes \n",
    "\n",
    "for (colName, colData) in sales.iteritems():\n",
    "    if (np.any(pd.isna(colData))):\n",
    "        print(colName)"
   ]
  },
  {
   "cell_type": "code",
   "execution_count": 47,
   "metadata": {},
   "outputs": [
    {
     "name": "stdout",
     "output_type": "stream",
     "text": [
      "                  Country        Item Type  Online Order Priority Order Date  \\\n",
      "0                  Tuvalu        Baby Food     0.0              H  5/28/2010   \n",
      "1                  Brazil           Cereal     1.0              C  8/22/2012   \n",
      "2                  Russia  Office Supplies     0.0              L   5/2/2014   \n",
      "3   Sao Tome and Principe           Fruits     1.0              C  6/20/2014   \n",
      "4                  Rwanda  Office Supplies     0.0              L   2/1/2013   \n",
      "5         Solomon Islands        Baby Food     1.0              C   2/4/2015   \n",
      "6                  Angola        Household     0.0              M  4/23/2011   \n",
      "7            Burkina Faso       Vegetables     1.0              H  7/17/2012   \n",
      "8   Republic of the Congo    Personal Care     0.0              M  7/14/2015   \n",
      "9                 Senegal           Cereal     1.0              H  4/18/2014   \n",
      "10             Kyrgyzstan       Vegetables     1.0              H  6/24/2011   \n",
      "11             Cape Verde          Clothes     0.0              H   8/2/2014   \n",
      "12             Bangladesh          Clothes     1.0              L  1/13/2017   \n",
      "13               Honduras        Household     0.0              H   2/8/2017   \n",
      "\n",
      "     Order ID  Units Sold  Unit Price  Total Cost  Total Profit  Ship Date  \\\n",
      "0   669165933        9925      255.28  1582243.50     951410.50  6/27/2010   \n",
      "1   963881480        2804      205.70   328376.44     248406.36  9/15/2012   \n",
      "2   341417157        1779      651.21   933903.84     224598.75   5/8/2014   \n",
      "3   514321792        8102        9.33    56065.84      19525.82   7/5/2014   \n",
      "4   115456712        5062      651.21  2657347.52     639077.50   2/6/2013   \n",
      "5   547995746        2974      255.28   474115.08     285087.64        NaN   \n",
      "6   135425221        4187      668.27  2104134.98     693911.51  4/27/2011   \n",
      "7   871543967        8082      154.06   734896.26     510216.66  7/27/2012   \n",
      "8   770463311        6070       81.73   343986.90     152114.20  8/25/2015   \n",
      "9   616607081        6593      205.70   772106.23     584073.87  5/30/2014   \n",
      "10  814711606         124      154.06    11275.32       7828.12        NaN   \n",
      "11  939825713        4168      109.28   149381.12     306097.92  8/19/2014   \n",
      "12  187310731        8263      109.28   296145.92     606834.72   3/1/2017   \n",
      "13  522840487        8974      668.27  4509793.96    1487261.02  2/13/2017   \n",
      "\n",
      "    Total Revenue  \n",
      "0             NaN  \n",
      "1             NaN  \n",
      "2             NaN  \n",
      "3             NaN  \n",
      "4             NaN  \n",
      "5             NaN  \n",
      "6             NaN  \n",
      "7             NaN  \n",
      "8             NaN  \n",
      "9             NaN  \n",
      "10            NaN  \n",
      "11            NaN  \n",
      "12            NaN  \n",
      "13            NaN  \n"
     ]
    }
   ],
   "source": [
    "ind_falt = sales['Total Revenue'].isna()\n",
    "print(sales.loc[ind_falt])"
   ]
  },
  {
   "cell_type": "code",
   "execution_count": 48,
   "metadata": {},
   "outputs": [
    {
     "name": "stdout",
     "output_type": "stream",
     "text": [
      "                  Country        Item Type  Online Order Priority Order Date  \\\n",
      "0                  Tuvalu        Baby Food     0.0              H  5/28/2010   \n",
      "1                  Brazil           Cereal     1.0              C  8/22/2012   \n",
      "2                  Russia  Office Supplies     0.0              L   5/2/2014   \n",
      "3   Sao Tome and Principe           Fruits     1.0              C  6/20/2014   \n",
      "4                  Rwanda  Office Supplies     0.0              L   2/1/2013   \n",
      "5         Solomon Islands        Baby Food     1.0              C   2/4/2015   \n",
      "6                  Angola        Household     0.0              M  4/23/2011   \n",
      "7            Burkina Faso       Vegetables     1.0              H  7/17/2012   \n",
      "8   Republic of the Congo    Personal Care     0.0              M  7/14/2015   \n",
      "9                 Senegal           Cereal     1.0              H  4/18/2014   \n",
      "10             Kyrgyzstan       Vegetables     1.0              H  6/24/2011   \n",
      "11             Cape Verde          Clothes     0.0              H   8/2/2014   \n",
      "12             Bangladesh          Clothes     1.0              L  1/13/2017   \n",
      "13               Honduras        Household     0.0              H   2/8/2017   \n",
      "\n",
      "     Order ID  Units Sold  Unit Price  Total Cost  Total Profit  Ship Date  \\\n",
      "0   669165933        9925      255.28  1582243.50     951410.50  6/27/2010   \n",
      "1   963881480        2804      205.70   328376.44     248406.36  9/15/2012   \n",
      "2   341417157        1779      651.21   933903.84     224598.75   5/8/2014   \n",
      "3   514321792        8102        9.33    56065.84      19525.82   7/5/2014   \n",
      "4   115456712        5062      651.21  2657347.52     639077.50   2/6/2013   \n",
      "5   547995746        2974      255.28   474115.08     285087.64        NaN   \n",
      "6   135425221        4187      668.27  2104134.98     693911.51  4/27/2011   \n",
      "7   871543967        8082      154.06   734896.26     510216.66  7/27/2012   \n",
      "8   770463311        6070       81.73   343986.90     152114.20  8/25/2015   \n",
      "9   616607081        6593      205.70   772106.23     584073.87  5/30/2014   \n",
      "10  814711606         124      154.06    11275.32       7828.12        NaN   \n",
      "11  939825713        4168      109.28   149381.12     306097.92  8/19/2014   \n",
      "12  187310731        8263      109.28   296145.92     606834.72   3/1/2017   \n",
      "13  522840487        8974      668.27  4509793.96    1487261.02  2/13/2017   \n",
      "\n",
      "    Total Revenue  \n",
      "0      2533654.00  \n",
      "1       576782.80  \n",
      "2      1158502.59  \n",
      "3        75591.66  \n",
      "4      3296425.02  \n",
      "5       759202.72  \n",
      "6      2798046.49  \n",
      "7      1245112.92  \n",
      "8       496101.10  \n",
      "9      1356180.10  \n",
      "10       19103.44  \n",
      "11      455479.04  \n",
      "12      902980.64  \n",
      "13     5997054.98  \n"
     ]
    }
   ],
   "source": [
    "sales.loc[ind_falt].apply(lambda x: x['Units Sold']*x['Unit Price'], axis=1)\n",
    "sales.loc[ind_falt, 'Total Revenue'] = sales.loc[ind_falt].apply(lambda x: x['Units Sold']*x['Unit Price'], axis=1)\n",
    "print(sales.loc[ind_falt])"
   ]
  },
  {
   "cell_type": "code",
   "execution_count": 49,
   "metadata": {},
   "outputs": [
    {
     "name": "stdout",
     "output_type": "stream",
     "text": [
      "Online\n",
      "Ship Date\n"
     ]
    }
   ],
   "source": [
    "for (colName, colData) in sales.iteritems():\n",
    "    if (np.any(pd.isna(colData))):\n",
    "        print(colName)"
   ]
  },
  {
   "cell_type": "code",
   "execution_count": 51,
   "metadata": {},
   "outputs": [
    {
     "name": "stdout",
     "output_type": "stream",
     "text": [
      "Empty DataFrame\n",
      "Columns: [Country, Item Type, Online, Order Priority, Order Date, Order ID, Units Sold, Unit Price, Total Cost, Total Profit, Ship Date, Total Revenue]\n",
      "Index: []\n",
      "(101, 12)\n",
      "(101, 12)\n"
     ]
    }
   ],
   "source": [
    "## 3 - Tratamento de duplicatas\n",
    "print(sales[sales.duplicated(keep=False)])\n",
    "\n",
    "print(sales.shape)\n",
    "sales = sales.drop_duplicates(keep='first')\n",
    "print(sales.shape)"
   ]
  },
  {
   "cell_type": "code",
   "execution_count": null,
   "metadata": {},
   "outputs": [],
   "source": []
  }
 ],
 "metadata": {
  "colab": {
   "name": "Python I  exercicios solucoes.ipynb",
   "provenance": []
  },
  "kernelspec": {
   "name": "pycharm-98ce8c0d",
   "language": "python",
   "display_name": "PyCharm (pytonmba)"
  },
  "language_info": {
   "codemirror_mode": {
    "name": "ipython",
    "version": 3
   },
   "file_extension": ".py",
   "mimetype": "text/x-python",
   "name": "python",
   "nbconvert_exporter": "python",
   "pygments_lexer": "ipython3",
   "version": "3.9.5"
  },
  "toc": {
   "base_numbering": 1,
   "nav_menu": {},
   "number_sections": true,
   "sideBar": true,
   "skip_h1_title": false,
   "title_cell": "Table of Contents",
   "title_sidebar": "Contents",
   "toc_cell": false,
   "toc_position": {},
   "toc_section_display": true,
   "toc_window_display": false
  }
 },
 "nbformat": 4,
 "nbformat_minor": 1
}