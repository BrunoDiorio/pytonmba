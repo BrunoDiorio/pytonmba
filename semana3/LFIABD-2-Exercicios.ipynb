{
 "cells": [
  {
   "cell_type": "markdown",
   "metadata": {
    "colab_type": "text",
    "id": "x8VUohVKQh5l"
   },
   "source": [
    "# <font color=\"red\"> MBA em IA e Big Data</font>\n",
    "## <span style=\"color:red\">Linguagens e Ferramentas para Inteligência Artificial e Big Data (Python e SQL)</span>\n",
    "\n",
    "### <span style=\"color:darkred\">Python II, Pandas II e Numpy</span>\n",
    "\n",
    "## Exercícios\n",
    "\n",
    "*Moacir Antonelli Ponti*<br>\n",
    "*ICMC/USP São Carlos*"
   ]
  },
  {
   "cell_type": "markdown",
   "metadata": {
    "colab_type": "text",
    "id": "P1gGG6yeQh5m"
   },
   "source": [
    "#### <span style=\"color:red\">Recomenda-se fortemente que os exercícios sejam feitos sem consultar as respostas antecipadamente.</span>"
   ]
  },
  {
   "cell_type": "markdown",
   "metadata": {},
   "source": [
    "# Parte 1 - Python \n",
    "\n",
    "### Exercício 1)\n",
    "\n",
    "Codifique uma função que use comprehension para retornar uma lista com `n` valores numéricos iniciando em 0 e  com passo `p` permitindo um número float como passo. Arredonde cada número para 5 casas decimais usando a função `round(,5)`\n",
    "\n",
    "Exemplo para n=8, p=0.05\n",
    "```\n",
    "[0.0, 0.05, 0.1, 0.15, 0.2, 0.25, 0.3, 0.35, 0.4]\n",
    "```"
   ]
  },
  {
   "cell_type": "code",
   "execution_count": null,
   "metadata": {},
   "outputs": [],
   "source": []
  },
  {
   "cell_type": "markdown",
   "metadata": {
    "colab_type": "text",
    "id": "WHG7tm3QQh5m"
   },
   "source": [
    "### Exercício 2)\n",
    "\n",
    "A partir de um vetor com números inteiros aleatórios, calcular seu `log` e criar uma lista com o resultado.\n",
    "* se o número for 0 substituir o valor por `nan` (not a number) da biblioteca `math` para indicar que o resultado não é numérico"
   ]
  },
  {
   "cell_type": "code",
   "execution_count": null,
   "metadata": {
    "colab": {},
    "colab_type": "code",
    "id": "pTVOXvzVQh5m",
    "outputId": "6cd1207a-a389-4e1b-ef41-7d404b39c46a"
   },
   "outputs": [],
   "source": []
  },
  {
   "cell_type": "markdown",
   "metadata": {
    "colab_type": "text",
    "id": "M72PbdAnQh5u"
   },
   "source": [
    "### Exercício 3)\n",
    "\n",
    "\n",
    "Codifique uma função que receba como argumento duas listas de números com o mesmo tamanho. Use comprehension para retornar uma nova lista que é a multiplicação elemento-a-elemento das duas listas.  Caso as listas não possuam o mesmo tamanho emita uma mensagem de erro e retorne a constante `math.nan` do módulo `math`.\n",
    "\n",
    "Exemplo:\n",
    "```\n",
    "l1 = [1, 2, 3, 4, 5]\n",
    "l2 = [5, 5, 5, 10, 10]\n",
    "multiplica_listas(l1,l2)\n",
    "\n",
    "  [5, 10, 15, 40, 50]\n",
    "```"
   ]
  },
  {
   "cell_type": "code",
   "execution_count": null,
   "metadata": {},
   "outputs": [],
   "source": []
  },
  {
   "cell_type": "markdown",
   "metadata": {},
   "source": [
    "### Exercício 4)\n",
    "\n",
    "Codifique uma comprehension que simule uma matriz de tamanho n x n, cujos elementos são dados por `(i+j*i)`, sendo `i` o índice da linha e `j` o índice da coluna. Para simular isso com uma lista de listas, o `i` corresponde ao índice da lista principal e o `j` aos índices das listas aninhadas.\n",
    "\n",
    "Por exemplo, seja a segunda lista (posição i=1), o seu terceiro elemento (posição j=2) seria obtido por `1+2*1 = 3`\n",
    "\n",
    "Exemplo com n = 3:\n",
    "```\n",
    "  [[0, 0, 0],\n",
    "   [1, 2, 3],\n",
    "   [2, 4, 6]] \n",
    "```"
   ]
  },
  {
   "cell_type": "code",
   "execution_count": null,
   "metadata": {},
   "outputs": [],
   "source": []
  },
  {
   "cell_type": "markdown",
   "metadata": {},
   "source": [
    "---\n",
    "\n",
    "##  <font color=\"red\">Desafio</font>\n",
    "\n",
    "Temos uma série de pontos 3D organizados numa lista e gostaríamos de computar as distâncias entre todos os pontos pareados.\n",
    "\n",
    "Calcular a distância entre dois pontos $p1 = (x_1,y_1,z_1)$ e  $p2 = (x_2,y_2,z_2)$ usando a fórmula\n",
    "\n",
    "$$d(p1,p2) = |x_1 - x_2| +|y_1 - y_2| + |z_1 - z_2|,$$\n",
    "em que $|.|$ representa o valor absoluto.\n",
    "\n",
    "Exemplo com 2 pontos organizados em listas:\n",
    "```\n",
    "[[1.0, 1.0, 1.0],\n",
    " [3.0, 3.0, 3.0]]\n",
    "```\n",
    "\n",
    "A saída deve ser:\n",
    "```\n",
    "[[0.0, 6.0],\n",
    " [6.0, 0.0]]\n",
    "```\n",
    "\n",
    "Note que a diagonal principal tem sempre valor zero já que representa a distância de um ponto para ele mesmo, e que a matriz é simétrica pois a distância entre dois pontos p1 e p2 é tal que: d(p1,p2) = d(p2,p1).\n",
    "\n",
    "Para isso utilize uma única linha contendo comprehensions aninhadas e com iteração em paralelo"
   ]
  },
  {
   "cell_type": "code",
   "execution_count": 2,
   "metadata": {},
   "outputs": [],
   "source": [
    "pontos3d = [ [1.0, 1.0, 1.0],\n",
    "             [0.0, 1.0, 3.0],\n",
    "             [2.0, 2.0, 2.0],\n",
    "             [0.0, 0.0, 0.0] ]\n"
   ]
  },
  {
   "cell_type": "markdown",
   "metadata": {
    "colab_type": "text",
    "id": "8ZD-mCMPQh5w"
   },
   "source": [
    "### Exercício 5)\n",
    "\n",
    "Escreva uma expressão lambda que permita receber uma string contendo duas palavras relativas ao nome de uma pessoa e seu sobrenome. Essas são separadas por um ou mais espaços em branco. A expressão deve retornar o nome no formato: \"SOBRENOME, N.\"\n",
    "\n",
    "Exemplo:\n",
    "```\n",
    "nome = 'Dennis   ritchie'\n",
    "```\n",
    "\n",
    "Retorno:\n",
    "```\n",
    "RITCHIE, D.\n",
    "```\n",
    "\n",
    "A seguir escreva um comprehension que percorra uma lista contendo nomes e gere uma nova lista com os nomes no formato \"SOBRENOME, N.\"\n",
    "\n",
    "Exemplo:\n",
    "```\n",
    "nomes = ['Dennis   ritchie', 'ALAN  Turing', 'betty Holberton']\n",
    "```\n",
    "\n",
    "Retorno:\n",
    "```\n",
    "['RITCHIE, D.', 'TURING, A.', 'HOLBERTON, B.']\n",
    "```"
   ]
  },
  {
   "cell_type": "code",
   "execution_count": null,
   "metadata": {},
   "outputs": [],
   "source": []
  },
  {
   "cell_type": "markdown",
   "metadata": {},
   "source": [
    "----\n",
    "\n",
    "# Parte 2 - Numpy\n"
   ]
  },
  {
   "cell_type": "markdown",
   "metadata": {},
   "source": [
    "## Exercício 6) \n",
    "\n",
    "Dada uma lista de tuplas, em que cada tupla é formada por um par (str,list). Ver um exemplo abaixo.\n",
    "\n",
    "```\n",
    "l_tup = [('a',[8, 4, 6, 1]), ('b',[1, 2, 3, 4]), ('c',[5, 3, 3, 3])]\n",
    "```\n",
    "* Converta a lista de tuplas em um numpy array bidimensional em que cada lista é transformada em uma linha do array, ignorando a string. \n",
    "* Percorra cada linha do array resultante usando `for`, exibindo na tela os 3 últimos elementos de cada array\n",
    "\n",
    "Seu código deve funcionar para qualquer número de tuplas na lista, assuma que as listas tem sempre o mesmo número de elementos, todos numéricos.\n"
   ]
  },
  {
   "cell_type": "code",
   "execution_count": 3,
   "metadata": {},
   "outputs": [],
   "source": [
    "l_tup = [('a',[8, 4, 6, 1]), ('b',[1, 2, 3, 4]), ('c',[5, 3, 3, 3])]"
   ]
  },
  {
   "cell_type": "code",
   "execution_count": null,
   "metadata": {},
   "outputs": [],
   "source": []
  },
  {
   "cell_type": "markdown",
   "metadata": {
    "colab_type": "text",
    "id": "aYaioiBSQh5y"
   },
   "source": [
    "## Exercício 7) \n",
    "\n",
    "Use o método `randint` do `numpy` para criar um array bidimensional com 6x10 elementos inteiros entre 1 e 5. \n",
    "\n",
    "A seguir, considerando apenas a submatriz formada pelas linhas: 2 até 6 e as colunas 2, 5 e 8, copie para uma matriz unidimensional os valores maiores ou iguais a 4."
   ]
  },
  {
   "cell_type": "code",
   "execution_count": null,
   "metadata": {},
   "outputs": [],
   "source": []
  },
  {
   "cell_type": "markdown",
   "metadata": {},
   "source": [
    "# Exercício 8)\n",
    "\n",
    "\n",
    "Dados dois arrays conforme abaixo que são notas (de 1 a 10) dadas a 4 diferentes serviços fornecidos por empresas concorrentes A e B. As notas de cada serviço estão organizadas nas 4 linhas dos arrays.\n",
    "\n",
    "A empresa `A` coletou 10 notas, e `B` coletou 5 notas para cada serviço (simuladas aleatoriamente no código abaixo).\n",
    "\n",
    "Os 4 serviços possuem pesos que é determinado pela lista `pesos` listada abaixo.\n",
    "\n",
    "A empresa A deseja se comparar com a empresa B com base na média das notas da empresa B. Para isso:\n",
    "1. usando redução, obtenha a média das notas de cada serviço da empresa B;\n",
    "2. para cada serviço, calcule qual foi a menor nota observada por A considerando apenas as notas de A que foram maiores do que a média de B para aquele serviço;\n",
    "3. armazene essas notas mínimas em um novo array de 4 elementos, e exiba esse array na tela;\n",
    "4. utilizando multiplicação vetorial, calcule e exiba na tela a soma das notas mínimas ponderadas pelos pesos \n"
   ]
  },
  {
   "cell_type": "code",
   "execution_count": 5,
   "metadata": {
    "scrolled": true
   },
   "outputs": [
    {
     "name": "stdout",
     "output_type": "stream",
     "text": [
      "[[1 8 9 6 2 4 4 3 7 7 8 4 2 9 6 1 3 4 5 8]\n",
      " [8 6 4 1 3 6 1 8 5 5 3 1 2 3 4 6 6 3 2 9]\n",
      " [9 3 6 4 5 8 1 8 7 4 9 8 1 9 5 5 5 7 9 4]\n",
      " [2 2 5 7 8 4 2 7 8 8 1 5 2 8 3 3 1 2 8 6]]\n",
      "[[8 9 9 1 6 3 6 7 7 7]\n",
      " [5 4 6 1 6 6 8 4 3 6]\n",
      " [4 7 3 6 7 6 9 6 7 5]\n",
      " [2 7 8 5 2 8 9 4 4 5]]\n",
      "[0.15, 0.25, 0.3, 0.3]\n"
     ]
    }
   ],
   "source": [
    "import numpy as np\n",
    "A = np.random.randint(low=1,high=10,size=(4,20))\n",
    "B = np.random.randint(low=1,high=10,size=(4,10))\n",
    "pesos = [0.15, 0.25, 0.3, 0.3]\n",
    "print(A)\n",
    "print(B)\n",
    "print(pesos)"
   ]
  },
  {
   "cell_type": "code",
   "execution_count": null,
   "metadata": {},
   "outputs": [],
   "source": []
  },
  {
   "cell_type": "markdown",
   "metadata": {},
   "source": [
    "----\n",
    "\n",
    "# Parte 3 - Pandas"
   ]
  },
  {
   "cell_type": "markdown",
   "metadata": {},
   "source": [
    "### Exercício 9) \n",
    "\n",
    "Carregue o arquivo `tips.csv`:\n",
    "1. Filtre as linhas selecionando apenas jantares (time = 'Dinner') e cuja conta foi superior a 40 (total_bill > 40), mostrando o total da conta, número de pessoas na mesa e gorjeta (total_bill, size, tip);\n",
    "2. Obtenha um novo dataframe em que seja mostrada a gorjeta (tip) média e máxima para cada valor de dia da semana (day) e horário (time)"
   ]
  },
  {
   "cell_type": "code",
   "execution_count": 1,
   "metadata": {},
   "outputs": [],
   "source": [
    "import pandas as pd\n",
    "\n",
    "dtips = pd.read_csv('tips.csv')"
   ]
  },
  {
   "cell_type": "markdown",
   "metadata": {},
   "source": [
    "### Exercício 10) \n",
    "\n",
    "Carregue os arquivos `sales1.csv`, `sales1_shipdate.csv`  e `sales2.csv`, os quais possuem informações de vendas realizadas. Devemos juntar as bases de dados e tratá-las. \n",
    "\n",
    "O arquivo `sales1_shipdate.csv` contém as datas de envio das ordens na `sales1.csv`. Já `sales2.csv` contém essa coluna no próprio arquivo\n",
    "\n",
    "Para isso:\n",
    "\n",
    "1. Combine as bases de dados, consolidando-as em um único DataFrame\n",
    "2. Exiba na tela quais atributos possuem dados faltantes após a concatenação\n",
    "    * Sabendo que `Total Revenue` é a multiplicação do preço unitário pela quantidade de unidades, preencha os valores faltantes dessa coluna\n",
    "3. Detecte linhas duplicadas. Remova duplicatas, mantendo a primeira ocorrência, e imprima na tela quantas linhas foram removidas"
   ]
  },
  {
   "cell_type": "code",
   "execution_count": 2,
   "metadata": {},
   "outputs": [],
   "source": [
    "import pandas as pd\n",
    "import numpy as np\n",
    "\n",
    "s1 = pd.read_csv('sales1.csv')\n",
    "s1_ship = pd.read_csv('sales1_shipdate.csv')\n",
    "s2 = pd.read_csv('sales2.csv')\n",
    "\n",
    "## 1 - Combinar as bases de dados"
   ]
  },
  {
   "cell_type": "code",
   "execution_count": 3,
   "metadata": {},
   "outputs": [],
   "source": [
    "## 2 - Atributos com dados faltantes "
   ]
  },
  {
   "cell_type": "code",
   "execution_count": 4,
   "metadata": {},
   "outputs": [],
   "source": [
    "## 3 - Tratamento de duplicatas"
   ]
  },
  {
   "cell_type": "code",
   "execution_count": null,
   "metadata": {},
   "outputs": [],
   "source": []
  }
 ],
 "metadata": {
  "colab": {
   "name": "Python I  exercicios solucoes.ipynb",
   "provenance": []
  },
  "kernelspec": {
   "display_name": "Python 3",
   "language": "python",
   "name": "python3"
  },
  "language_info": {
   "codemirror_mode": {
    "name": "ipython",
    "version": 3
   },
   "file_extension": ".py",
   "mimetype": "text/x-python",
   "name": "python",
   "nbconvert_exporter": "python",
   "pygments_lexer": "ipython3",
   "version": "3.9.5"
  },
  "toc": {
   "base_numbering": 1,
   "nav_menu": {},
   "number_sections": true,
   "sideBar": true,
   "skip_h1_title": false,
   "title_cell": "Table of Contents",
   "title_sidebar": "Contents",
   "toc_cell": false,
   "toc_position": {},
   "toc_section_display": true,
   "toc_window_display": false
  }
 },
 "nbformat": 4,
 "nbformat_minor": 1
}
