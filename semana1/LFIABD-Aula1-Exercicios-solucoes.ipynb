{
 "cells": [
  {
   "cell_type": "markdown",
   "metadata": {
    "colab_type": "text",
    "id": "x8VUohVKQh5l"
   },
   "source": [
    "# <font color=\"red\"> MBA em IA e Big Data</font>\n",
    "## <span style=\"color:red\">Linguagens e Ferramentas para Inteligência Artificial e Big Data (Python e SQL)</span>\n",
    "\n",
    "### <span style=\"color:darkred\">Python: referências, operações e funções</span>\n",
    "\n",
    "## Exercícios com soluções\n",
    "\n",
    "*Moacir Antonelli Ponti*<br>\n",
    "*ICMC/USP São Carlos*\n",
    "\n",
    "*(com material do Prof. Luis Gustavo Nonato)*"
   ]
  },
  {
   "cell_type": "markdown",
   "metadata": {
    "colab_type": "text",
    "id": "P1gGG6yeQh5m"
   },
   "source": [
    "#### <span style=\"color:red\">Recomenda-se fortemente que os exercícios sejam feitos sem consultar as respostas antecipadamente.</span>"
   ]
  },
  {
   "cell_type": "markdown",
   "metadata": {},
   "source": [
    "# Parte 1 - Python básico\n",
    "\n",
    "### Exercício 1)\n",
    "\n",
    "Qual o tipo do valor resultante das operações abaixo (ou das variáveis as quais foram atribuídos)?\n",
    "\n",
    "a) `False + True`<br>\n",
    "b) `2 * 1e2**2`<br>\n",
    "c) `a = 6/2`<br>\n",
    "d) `x = 6//2 + 6%2`<br>\n",
    "e) `(2 + 4) == 4 or 0 <= 1`<br>"
   ]
  },
  {
   "cell_type": "code",
   "execution_count": 3,
   "metadata": {},
   "outputs": [
    {
     "output_type": "stream",
     "name": "stdout",
     "text": [
      "1 <class 'int'>\n"
     ]
    }
   ],
   "source": [
    "print(False+True, type(False+True))"
   ]
  },
  {
   "cell_type": "code",
   "execution_count": 4,
   "metadata": {},
   "outputs": [
    {
     "output_type": "stream",
     "name": "stdout",
     "text": [
      "20000.0 <class 'float'>\n"
     ]
    }
   ],
   "source": [
    "print(2 * 1e2**2, type(2 * 1e2**2))"
   ]
  },
  {
   "cell_type": "code",
   "execution_count": 5,
   "metadata": {},
   "outputs": [
    {
     "output_type": "stream",
     "name": "stdout",
     "text": [
      "3.0 <class 'float'>\n"
     ]
    }
   ],
   "source": [
    "a = 6/2\n",
    "print(a, type(a))"
   ]
  },
  {
   "cell_type": "code",
   "execution_count": 6,
   "metadata": {},
   "outputs": [
    {
     "output_type": "stream",
     "name": "stdout",
     "text": [
      "3 <class 'int'>\n"
     ]
    }
   ],
   "source": [
    "x = 6//2 + 6%2\n",
    "print(x, type(x))"
   ]
  },
  {
   "cell_type": "code",
   "execution_count": 7,
   "metadata": {},
   "outputs": [
    {
     "output_type": "stream",
     "name": "stdout",
     "text": [
      "True <class 'bool'>\n"
     ]
    }
   ],
   "source": [
    "print((2 + 4) == 4 or 0 <= 1, type((2 + 4) == 4 or 0 <= 1))"
   ]
  },
  {
   "cell_type": "markdown",
   "metadata": {
    "colab_type": "text",
    "id": "WHG7tm3QQh5m"
   },
   "source": [
    "### Exercício 2)\n",
    "\n",
    "Crie uma variável contendo um ano (um valor inteiro entre 0 e 3000)\n",
    "\n",
    "A seguir, se o ano for divisível por 4, exiba na tela 'Pode ser um ano bissexto'; caso contrário exiba 'Definitivamente não é um ano bissexto'\n",
    "\n",
    "__Dica:__ Utilize o operador `%` que retorna o resto da divisão de um número por outro."
   ]
  },
  {
   "cell_type": "code",
   "execution_count": 8,
   "metadata": {
    "colab": {},
    "colab_type": "code",
    "id": "pTVOXvzVQh5m",
    "outputId": "6cd1207a-a389-4e1b-ef41-7d404b39c46a"
   },
   "outputs": [
    {
     "output_type": "stream",
     "name": "stdout",
     "text": [
      "Definitivamente não é um ano bissexto\n"
     ]
    }
   ],
   "source": [
    "ano = 2021\n",
    "if (ano % 4 == 0):\n",
    "    print('Pode ser um ano bissexto')\n",
    "else:\n",
    "    print('Definitivamente não é um ano bissexto')"
   ]
  },
  {
   "cell_type": "markdown",
   "metadata": {
    "colab_type": "text",
    "id": "M72PbdAnQh5u"
   },
   "source": [
    "### Exercício 3)\n",
    "\n",
    "Dada a lista `valores` abaixo, crie uma nova lista chamada `numeros` contendo apenas elementos `float` ou `int`.\n",
    "\n",
    "Note que essa nova lista pode ter menos elementos do que a lista existente.\n",
    "\n",
    "Ao final exiba a nova lista `numeros`\n",
    "\n",
    "__Dica__: Percorra a lista com uma estrutura de repetição e utilize `type()` para retornar o tipo e compare com o desejado. Exemplo:\n",
    "```python\n",
    "type(3) == int\n",
    "```\n",
    "Retorna `True`"
   ]
  },
  {
   "cell_type": "code",
   "execution_count": 9,
   "metadata": {
    "colab": {},
    "colab_type": "code",
    "id": "5HFGhEvMQh5u",
    "outputId": "82715598-d6f1-42e8-dfa5-0577147830ea"
   },
   "outputs": [],
   "source": [
    "valores = ['três', 56, 342, 12.4e-5, 4+3j, ('A', 1, 50.1), -0.19e4, 1000, 960, -406]"
   ]
  },
  {
   "cell_type": "code",
   "execution_count": 10,
   "metadata": {},
   "outputs": [
    {
     "output_type": "stream",
     "name": "stdout",
     "text": [
      "[56, 342, 0.000124, -1900.0, 1000, 960, -406]\n"
     ]
    }
   ],
   "source": [
    "numeros = []\n",
    "for i in valores:\n",
    "    if (type(i) == float or type(i) == int):\n",
    "        numeros.append(i)\n",
    "        \n",
    "print(numeros)"
   ]
  },
  {
   "cell_type": "markdown",
   "metadata": {},
   "source": [
    "### Exercício 4)\n",
    "\n",
    "Escreva uma **função** que receba por parâmetro uma taxa de juros pagas ao ano, calcule e retorne um número inteiro relativo a quantos anos serão necessários para que um investimento nessa taxa dobre de valor. Assuma juros compostos e use uma estrutura de repetição para calcular.\n"
   ]
  },
  {
   "cell_type": "code",
   "execution_count": 11,
   "metadata": {},
   "outputs": [
    {
     "output_type": "stream",
     "name": "stdout",
     "text": [
      "15\n11\n"
     ]
    }
   ],
   "source": [
    "def dobrar_investimento(juros):\n",
    "    valor = 1\n",
    "    anos = 0\n",
    "    while (valor < 2):\n",
    "        anos += 1\n",
    "        valor = valor*(1+juros)\n",
    "    return anos\n",
    "\n",
    "a5 = dobrar_investimento(0.05)\n",
    "print(a5)\n",
    "\n",
    "a7 = dobrar_investimento(0.07)\n",
    "print(a7)"
   ]
  },
  {
   "cell_type": "markdown",
   "metadata": {
    "colab_type": "text",
    "id": "8ZD-mCMPQh5w"
   },
   "source": [
    "### Exercício 5)\n",
    "Considere a lista `linguagens` declarada abaixo. \n",
    "- Utilizando fatiamento, imprima o subconjunto de elementos entre o segundo e o quarto elemento (inclusive)\n",
    "- Gere uma nova lista chamada `maiores4` contendo os elementos da lista `linguagens` que possuam quatro caracteres ou mais, utilizando a função `len()`.\n",
    "- Gere uma nova lista chamada `j_ou_c` contendo os elementos da lista `linguagens` que começam com a letra 'j' ou com a letra 'c'."
   ]
  },
  {
   "cell_type": "code",
   "execution_count": 12,
   "metadata": {
    "colab": {},
    "colab_type": "code",
    "id": "IL6VO3ilQh5w",
    "outputId": "3f5d3c79-4ad0-453a-c5b8-22ac26ed0e9d"
   },
   "outputs": [
    {
     "output_type": "stream",
     "name": "stdout",
     "text": [
      "['java', 'c++', 'javascript', 'c#']\n",
      "Quatro ou mais:  ['python', 'java', 'javascript', 'cobol', 'ruby', 'lisp']\n",
      "Inicia com j ou c:  ['java', 'c++', 'javascript', 'c#', 'cobol']\n"
     ]
    }
   ],
   "source": [
    "linguagens = ['python', 'java', 'c++', 'javascript', 'c#', 'go', 'r', 'cobol', 'ruby', 'lisp']\n",
    "\n",
    "print(linguagens[1:5])\n",
    "\n",
    "quatro_ou_mais = []\n",
    "for elemento in linguagens:\n",
    "    if len(elemento) >= 4:\n",
    "        quatro_ou_mais.append(elemento)\n",
    "        \n",
    "j_ou_c = []    \n",
    "for elemento in linguagens:\n",
    "    if elemento[0] == 'j':\n",
    "        j_ou_c.append(elemento)\n",
    "    if elemento[0] == 'c':\n",
    "        j_ou_c.append(elemento)\n",
    "        \n",
    "print(\"Quatro ou mais: \", quatro_ou_mais)\n",
    "print(\"Inicia com j ou c: \", j_ou_c)"
   ]
  },
  {
   "cell_type": "markdown",
   "metadata": {},
   "source": [
    "---\n",
    "### Exercício 6) \n",
    "\n",
    "Codifique uma função `conta_palavras()` que, a partir de um um texto (string) contendo palavras separadas por vírgulas apenas - considere que não há outras pontuações:\n",
    "1. Inicie criando uma lista de palavras e \n",
    "2. Use um dicionário para contar a frequência de cada palavra no texto, retornando o dicionário obtido.\n",
    "\n",
    "*Dica: use a função `str.split()` para separar uma string em substrings usando como delimitador um caracter especificado por argumento*\n",
    "\n",
    "Exemplo:\n",
    "\n",
    "```\n",
    "nomes = \"ana,fábio,cristina,ana,fábio,ubiratã,ana\"\n",
    "freq = conta_palavras(nomes)\n",
    "print(freq)\n",
    "```\n",
    "Deve gerar:\n",
    "```\n",
    "{'ana': 3, 'fábio': 2, 'cristina': 1, 'ubiratã': 1}\n",
    "```"
   ]
  },
  {
   "cell_type": "code",
   "execution_count": 13,
   "metadata": {},
   "outputs": [
    {
     "output_type": "stream",
     "name": "stdout",
     "text": [
      "{'ana': 3, 'fábio': 2, 'cristina': 1, 'ubiratã': 1}\n"
     ]
    }
   ],
   "source": [
    "def conta_palavras(frase):\n",
    "    pals = frase.split(',')\n",
    "    freq = {}\n",
    "    \n",
    "    for p in pals:\n",
    "        if p not in freq:\n",
    "            freq[p] = 1\n",
    "        else:\n",
    "            freq[p] += 1\n",
    "            \n",
    "    return freq\n",
    "\n",
    "nomes = \"ana,fábio,cristina,ana,fábio,ubiratã,ana\"\n",
    "freq = conta_palavras(nomes)\n",
    "print(freq)"
   ]
  },
  {
   "cell_type": "markdown",
   "metadata": {
    "colab_type": "text",
    "id": "aYaioiBSQh5y"
   },
   "source": [
    "### Exercício 7) \n",
    "Considere a lista `produtos` definida abaixo, onde cada elemento é uma tupla possuindo:\n",
    "* elemento 1: o nome de um produto \n",
    "* elemento 2: e uma lista de preços encontradas no mercado. \n",
    "\n",
    "Calcule a média de preços de cada produto, salvando o resultado em uma nova lista chamada `preco_medio`.\n",
    "\n",
    "Posteriormente, sorteie um dos produtos e exiba na tela o nome e preço médio desse produto sorteado\n",
    "\n",
    "__Dica:__ Utilize a função `fsum()` do módulo `math` para somar os valores daa lista. Por exemplo:\n",
    "```python\n",
    "ls = [1.0,1.0,1.0,1.0,1.0]\n",
    "print(fsum(ls))\n",
    "```\n",
    "resulta no valor 5"
   ]
  },
  {
   "cell_type": "code",
   "execution_count": 14,
   "metadata": {
    "colab": {},
    "colab_type": "code",
    "id": "CMmRYn0-Qh5z",
    "outputId": "ff66b28a-6014-4e3b-89cd-3134cc76c075",
    "scrolled": true
   },
   "outputs": [],
   "source": [
    "produtos = [('soja', [170.1, 183.0, 175.0]),\n",
    "            ('algodao', [143.4]),\n",
    "            ('cacau', [199, 185.1]),\n",
    "            ('café', [880, 750.9, 795.1, 900])]"
   ]
  },
  {
   "cell_type": "code",
   "execution_count": 15,
   "metadata": {},
   "outputs": [
    {
     "output_type": "stream",
     "name": "stdout",
     "text": [
      "soja preço médio= 176.03333333333333\n"
     ]
    }
   ],
   "source": [
    "from math import fsum\n",
    "from random import randint\n",
    "\n",
    "preco_medio = []\n",
    "for p in produtos:\n",
    "    media = fsum(p[1])/len(p[1])\n",
    "    preco_medio.append(media)\n",
    "\n",
    "sorteio = randint(0,len(produtos)-1)\n",
    "print(produtos[sorteio][0], \"preço médio=\", preco_medio[sorteio])"
   ]
  },
  {
   "cell_type": "markdown",
   "metadata": {},
   "source": [
    "----\n",
    "\n",
    "# Parte 2 - Pandas\n",
    "\n",
    "Os exercícios a seguir farão uso do arquivo <font style=\"font-family: monaco\">WorldCups.csv</font>\n",
    "\n",
    "O arquivo <font style=\"font-family: monaco\">WorldCups.csv</font> possui as seguintes colunas:\n",
    "- Year: ano da copa\n",
    "- Country: pais sede\n",
    "- Winner: campeão\n",
    "- RunnersUp: disputou a final com o campeão\n",
    "- Third: terceiro colocado\n",
    "- Fourth: quarto colocado\n",
    "- GoalsScored: número de gols na copa\n",
    "- QualifiedTeams: número de times que disputaram a copa\n",
    "- MatchesPlayed: número de jogos\n",
    "- Attendance: número de espectadores (público)"
   ]
  },
  {
   "cell_type": "markdown",
   "metadata": {},
   "source": [
    "### Exercício 8) \n",
    "Utilizando o <font color='blue'>pandas</font> leia o arquivo <font style=\"font-family: monaco\">WorldCups.csv</font> como DataFrame. \n",
    "- Definina a coluna 'Year' como índice\n",
    "- Exiba as 5 primeiras linhas do DataFrame\n",
    "- Exiba o tipo de dado de cada coluna\n",
    "- Imprima o número de linhas do DataFrame"
   ]
  },
  {
   "cell_type": "code",
   "execution_count": 16,
   "metadata": {},
   "outputs": [],
   "source": [
    "# SOLUÇÃO\n",
    "# Voce precisa colocar o caminho do diretório no drive onde o \n",
    "# arquivo WorldCups.csv está\n",
    "\n",
    "import pandas as pd\n",
    "df = pd.read_csv('WorldCups.csv')"
   ]
  },
  {
   "cell_type": "code",
   "execution_count": 17,
   "metadata": {},
   "outputs": [],
   "source": [
    "df.set_index('Year', inplace=True)"
   ]
  },
  {
   "cell_type": "code",
   "execution_count": 18,
   "metadata": {},
   "outputs": [
    {
     "output_type": "execute_result",
     "data": {
      "text/plain": [
       "          Country      Winner       RunnersUp    Third      Fourth  \\\n",
       "Year                                                                 \n",
       "1930      Uruguay     Uruguay       Argentina      USA  Yugoslavia   \n",
       "1934        Italy       Italy  Czechoslovakia  Germany     Austria   \n",
       "1938       France       Italy         Hungary   Brazil      Sweden   \n",
       "1950       Brazil     Uruguay          Brazil   Sweden       Spain   \n",
       "1954  Switzerland  Germany FR         Hungary  Austria     Uruguay   \n",
       "\n",
       "      GoalsScored  QualifiedTeams  MatchesPlayed  Attendance  \n",
       "Year                                                          \n",
       "1930           70              13             18      590549  \n",
       "1934           70              16             17      363000  \n",
       "1938           84              15             18      375700  \n",
       "1950           88              13             22     1045246  \n",
       "1954          140              16             26      768607  "
      ],
      "text/html": "<div>\n<style scoped>\n    .dataframe tbody tr th:only-of-type {\n        vertical-align: middle;\n    }\n\n    .dataframe tbody tr th {\n        vertical-align: top;\n    }\n\n    .dataframe thead th {\n        text-align: right;\n    }\n</style>\n<table border=\"1\" class=\"dataframe\">\n  <thead>\n    <tr style=\"text-align: right;\">\n      <th></th>\n      <th>Country</th>\n      <th>Winner</th>\n      <th>RunnersUp</th>\n      <th>Third</th>\n      <th>Fourth</th>\n      <th>GoalsScored</th>\n      <th>QualifiedTeams</th>\n      <th>MatchesPlayed</th>\n      <th>Attendance</th>\n    </tr>\n    <tr>\n      <th>Year</th>\n      <th></th>\n      <th></th>\n      <th></th>\n      <th></th>\n      <th></th>\n      <th></th>\n      <th></th>\n      <th></th>\n      <th></th>\n    </tr>\n  </thead>\n  <tbody>\n    <tr>\n      <th>1930</th>\n      <td>Uruguay</td>\n      <td>Uruguay</td>\n      <td>Argentina</td>\n      <td>USA</td>\n      <td>Yugoslavia</td>\n      <td>70</td>\n      <td>13</td>\n      <td>18</td>\n      <td>590549</td>\n    </tr>\n    <tr>\n      <th>1934</th>\n      <td>Italy</td>\n      <td>Italy</td>\n      <td>Czechoslovakia</td>\n      <td>Germany</td>\n      <td>Austria</td>\n      <td>70</td>\n      <td>16</td>\n      <td>17</td>\n      <td>363000</td>\n    </tr>\n    <tr>\n      <th>1938</th>\n      <td>France</td>\n      <td>Italy</td>\n      <td>Hungary</td>\n      <td>Brazil</td>\n      <td>Sweden</td>\n      <td>84</td>\n      <td>15</td>\n      <td>18</td>\n      <td>375700</td>\n    </tr>\n    <tr>\n      <th>1950</th>\n      <td>Brazil</td>\n      <td>Uruguay</td>\n      <td>Brazil</td>\n      <td>Sweden</td>\n      <td>Spain</td>\n      <td>88</td>\n      <td>13</td>\n      <td>22</td>\n      <td>1045246</td>\n    </tr>\n    <tr>\n      <th>1954</th>\n      <td>Switzerland</td>\n      <td>Germany FR</td>\n      <td>Hungary</td>\n      <td>Austria</td>\n      <td>Uruguay</td>\n      <td>140</td>\n      <td>16</td>\n      <td>26</td>\n      <td>768607</td>\n    </tr>\n  </tbody>\n</table>\n</div>"
     },
     "metadata": {},
     "execution_count": 18
    }
   ],
   "source": [
    "df.head()"
   ]
  },
  {
   "cell_type": "code",
   "execution_count": 19,
   "metadata": {},
   "outputs": [
    {
     "output_type": "stream",
     "name": "stdout",
     "text": [
      "Country           object\nWinner            object\nRunnersUp         object\nThird             object\nFourth            object\nGoalsScored        int64\nQualifiedTeams     int64\nMatchesPlayed      int64\nAttendance         int64\ndtype: object\n"
     ]
    }
   ],
   "source": [
    "print(df.dtypes)"
   ]
  },
  {
   "cell_type": "code",
   "execution_count": 20,
   "metadata": {},
   "outputs": [
    {
     "output_type": "stream",
     "name": "stdout",
     "text": [
      "Número de linhas =  20\n"
     ]
    }
   ],
   "source": [
    "print(\"Número de linhas = \", df.shape[0])"
   ]
  },
  {
   "cell_type": "markdown",
   "metadata": {},
   "source": [
    "### Exercício 9) \n",
    "Remova as colunas 'QualifiedTeams' e 'Fourth' do DataFrame. \n",
    "\n",
    "A seguir, com o DataFrame resultante, exiba os vencedores das copas entre os anos 1954 e 1982 (inclusive)"
   ]
  },
  {
   "cell_type": "code",
   "execution_count": 21,
   "metadata": {},
   "outputs": [],
   "source": [
    "df = df.drop(['QualifiedTeams','Fourth'],axis=1)"
   ]
  },
  {
   "cell_type": "code",
   "execution_count": 22,
   "metadata": {},
   "outputs": [
    {
     "output_type": "execute_result",
     "data": {
      "text/plain": [
       "Year\n",
       "1954    Germany FR\n",
       "1958        Brazil\n",
       "1962        Brazil\n",
       "1966       England\n",
       "1970        Brazil\n",
       "1974    Germany FR\n",
       "1978     Argentina\n",
       "1982         Italy\n",
       "Name: Winner, dtype: object"
      ]
     },
     "metadata": {},
     "execution_count": 22
    }
   ],
   "source": [
    "df.loc[1954:1982,'Winner']"
   ]
  },
  {
   "cell_type": "markdown",
   "metadata": {},
   "source": [
    "## Exercício 10)\n",
    "\n",
    "Crie uma nova coluna com a média de gols por partida chamada `AverageGoalsMatch`, dividindo o número de gols pelo número de partidas jogadas.\n",
    "\n",
    "A seguir, encontre e/ou calcule:\n",
    "- os anos em que o Brasil ganhou a copa, armazene em uma lista as média de gols naqueles anos. A seguir imprima a lista na tela.\n",
    "- os anos em que o Brasil jogou uma final (os finalistas estão nas colunas 'Winner' e 'RunnersUp') e imprima na tela os anos e a média de gols de cada ano\n",
    "- a porcentagem de vitórias do Brasil em finais, e imprima na tela"
   ]
  },
  {
   "cell_type": "code",
   "execution_count": 23,
   "metadata": {},
   "outputs": [
    {
     "output_type": "execute_result",
     "data": {
      "text/plain": [
       "           Country      Winner       RunnersUp        Third  GoalsScored  \\\n",
       "Year                                                                       \n",
       "1930       Uruguay     Uruguay       Argentina          USA           70   \n",
       "1934         Italy       Italy  Czechoslovakia      Germany           70   \n",
       "1938        France       Italy         Hungary       Brazil           84   \n",
       "1950        Brazil     Uruguay          Brazil       Sweden           88   \n",
       "1954   Switzerland  Germany FR         Hungary      Austria          140   \n",
       "1958        Sweden      Brazil          Sweden       France          126   \n",
       "1962         Chile      Brazil  Czechoslovakia        Chile           89   \n",
       "1966       England     England      Germany FR     Portugal           89   \n",
       "1970        Mexico      Brazil           Italy   Germany FR           95   \n",
       "1974       Germany  Germany FR     Netherlands       Poland           97   \n",
       "1978     Argentina   Argentina     Netherlands       Brazil          102   \n",
       "1982         Spain       Italy      Germany FR       Poland          146   \n",
       "1986        Mexico   Argentina      Germany FR       France          132   \n",
       "1990         Italy  Germany FR       Argentina        Italy          115   \n",
       "1994           USA      Brazil           Italy       Sweden          141   \n",
       "1998        France      France          Brazil      Croatia          171   \n",
       "2002   Korea/Japan      Brazil         Germany       Turkey          161   \n",
       "2006       Germany       Italy          France      Germany          147   \n",
       "2010  South Africa       Spain     Netherlands      Germany          145   \n",
       "2014        Brazil     Germany       Argentina  Netherlands          171   \n",
       "\n",
       "      MatchesPlayed  Attendance  AverageGoalsMatch  \n",
       "Year                                                \n",
       "1930             18      590549           3.888889  \n",
       "1934             17      363000           4.117647  \n",
       "1938             18      375700           4.666667  \n",
       "1950             22     1045246           4.000000  \n",
       "1954             26      768607           5.384615  \n",
       "1958             35      819810           3.600000  \n",
       "1962             32      893172           2.781250  \n",
       "1966             32     1563135           2.781250  \n",
       "1970             32     1603975           2.968750  \n",
       "1974             38     1865753           2.552632  \n",
       "1978             38     1545791           2.684211  \n",
       "1982             52     2109723           2.807692  \n",
       "1986             52     2394031           2.538462  \n",
       "1990             52     2516215           2.211538  \n",
       "1994             52     3587538           2.711538  \n",
       "1998             64     2785100           2.671875  \n",
       "2002             64     2705197           2.515625  \n",
       "2006             64     3359439           2.296875  \n",
       "2010             64     3178856           2.265625  \n",
       "2014             64     3386810           2.671875  "
      ],
      "text/html": "<div>\n<style scoped>\n    .dataframe tbody tr th:only-of-type {\n        vertical-align: middle;\n    }\n\n    .dataframe tbody tr th {\n        vertical-align: top;\n    }\n\n    .dataframe thead th {\n        text-align: right;\n    }\n</style>\n<table border=\"1\" class=\"dataframe\">\n  <thead>\n    <tr style=\"text-align: right;\">\n      <th></th>\n      <th>Country</th>\n      <th>Winner</th>\n      <th>RunnersUp</th>\n      <th>Third</th>\n      <th>GoalsScored</th>\n      <th>MatchesPlayed</th>\n      <th>Attendance</th>\n      <th>AverageGoalsMatch</th>\n    </tr>\n    <tr>\n      <th>Year</th>\n      <th></th>\n      <th></th>\n      <th></th>\n      <th></th>\n      <th></th>\n      <th></th>\n      <th></th>\n      <th></th>\n    </tr>\n  </thead>\n  <tbody>\n    <tr>\n      <th>1930</th>\n      <td>Uruguay</td>\n      <td>Uruguay</td>\n      <td>Argentina</td>\n      <td>USA</td>\n      <td>70</td>\n      <td>18</td>\n      <td>590549</td>\n      <td>3.888889</td>\n    </tr>\n    <tr>\n      <th>1934</th>\n      <td>Italy</td>\n      <td>Italy</td>\n      <td>Czechoslovakia</td>\n      <td>Germany</td>\n      <td>70</td>\n      <td>17</td>\n      <td>363000</td>\n      <td>4.117647</td>\n    </tr>\n    <tr>\n      <th>1938</th>\n      <td>France</td>\n      <td>Italy</td>\n      <td>Hungary</td>\n      <td>Brazil</td>\n      <td>84</td>\n      <td>18</td>\n      <td>375700</td>\n      <td>4.666667</td>\n    </tr>\n    <tr>\n      <th>1950</th>\n      <td>Brazil</td>\n      <td>Uruguay</td>\n      <td>Brazil</td>\n      <td>Sweden</td>\n      <td>88</td>\n      <td>22</td>\n      <td>1045246</td>\n      <td>4.000000</td>\n    </tr>\n    <tr>\n      <th>1954</th>\n      <td>Switzerland</td>\n      <td>Germany FR</td>\n      <td>Hungary</td>\n      <td>Austria</td>\n      <td>140</td>\n      <td>26</td>\n      <td>768607</td>\n      <td>5.384615</td>\n    </tr>\n    <tr>\n      <th>1958</th>\n      <td>Sweden</td>\n      <td>Brazil</td>\n      <td>Sweden</td>\n      <td>France</td>\n      <td>126</td>\n      <td>35</td>\n      <td>819810</td>\n      <td>3.600000</td>\n    </tr>\n    <tr>\n      <th>1962</th>\n      <td>Chile</td>\n      <td>Brazil</td>\n      <td>Czechoslovakia</td>\n      <td>Chile</td>\n      <td>89</td>\n      <td>32</td>\n      <td>893172</td>\n      <td>2.781250</td>\n    </tr>\n    <tr>\n      <th>1966</th>\n      <td>England</td>\n      <td>England</td>\n      <td>Germany FR</td>\n      <td>Portugal</td>\n      <td>89</td>\n      <td>32</td>\n      <td>1563135</td>\n      <td>2.781250</td>\n    </tr>\n    <tr>\n      <th>1970</th>\n      <td>Mexico</td>\n      <td>Brazil</td>\n      <td>Italy</td>\n      <td>Germany FR</td>\n      <td>95</td>\n      <td>32</td>\n      <td>1603975</td>\n      <td>2.968750</td>\n    </tr>\n    <tr>\n      <th>1974</th>\n      <td>Germany</td>\n      <td>Germany FR</td>\n      <td>Netherlands</td>\n      <td>Poland</td>\n      <td>97</td>\n      <td>38</td>\n      <td>1865753</td>\n      <td>2.552632</td>\n    </tr>\n    <tr>\n      <th>1978</th>\n      <td>Argentina</td>\n      <td>Argentina</td>\n      <td>Netherlands</td>\n      <td>Brazil</td>\n      <td>102</td>\n      <td>38</td>\n      <td>1545791</td>\n      <td>2.684211</td>\n    </tr>\n    <tr>\n      <th>1982</th>\n      <td>Spain</td>\n      <td>Italy</td>\n      <td>Germany FR</td>\n      <td>Poland</td>\n      <td>146</td>\n      <td>52</td>\n      <td>2109723</td>\n      <td>2.807692</td>\n    </tr>\n    <tr>\n      <th>1986</th>\n      <td>Mexico</td>\n      <td>Argentina</td>\n      <td>Germany FR</td>\n      <td>France</td>\n      <td>132</td>\n      <td>52</td>\n      <td>2394031</td>\n      <td>2.538462</td>\n    </tr>\n    <tr>\n      <th>1990</th>\n      <td>Italy</td>\n      <td>Germany FR</td>\n      <td>Argentina</td>\n      <td>Italy</td>\n      <td>115</td>\n      <td>52</td>\n      <td>2516215</td>\n      <td>2.211538</td>\n    </tr>\n    <tr>\n      <th>1994</th>\n      <td>USA</td>\n      <td>Brazil</td>\n      <td>Italy</td>\n      <td>Sweden</td>\n      <td>141</td>\n      <td>52</td>\n      <td>3587538</td>\n      <td>2.711538</td>\n    </tr>\n    <tr>\n      <th>1998</th>\n      <td>France</td>\n      <td>France</td>\n      <td>Brazil</td>\n      <td>Croatia</td>\n      <td>171</td>\n      <td>64</td>\n      <td>2785100</td>\n      <td>2.671875</td>\n    </tr>\n    <tr>\n      <th>2002</th>\n      <td>Korea/Japan</td>\n      <td>Brazil</td>\n      <td>Germany</td>\n      <td>Turkey</td>\n      <td>161</td>\n      <td>64</td>\n      <td>2705197</td>\n      <td>2.515625</td>\n    </tr>\n    <tr>\n      <th>2006</th>\n      <td>Germany</td>\n      <td>Italy</td>\n      <td>France</td>\n      <td>Germany</td>\n      <td>147</td>\n      <td>64</td>\n      <td>3359439</td>\n      <td>2.296875</td>\n    </tr>\n    <tr>\n      <th>2010</th>\n      <td>South Africa</td>\n      <td>Spain</td>\n      <td>Netherlands</td>\n      <td>Germany</td>\n      <td>145</td>\n      <td>64</td>\n      <td>3178856</td>\n      <td>2.265625</td>\n    </tr>\n    <tr>\n      <th>2014</th>\n      <td>Brazil</td>\n      <td>Germany</td>\n      <td>Argentina</td>\n      <td>Netherlands</td>\n      <td>171</td>\n      <td>64</td>\n      <td>3386810</td>\n      <td>2.671875</td>\n    </tr>\n  </tbody>\n</table>\n</div>"
     },
     "metadata": {},
     "execution_count": 23
    }
   ],
   "source": [
    "df['AverageGoalsMatch'] = df['GoalsScored']/df['MatchesPlayed']\n",
    "df"
   ]
  },
  {
   "cell_type": "code",
   "execution_count": 24,
   "metadata": {},
   "outputs": [],
   "source": [
    "# query para buscar vencedor igual a Brazil\n",
    "# poderia também ter sido feito com loc ou iloc\n",
    "ganhou = df.query('Winner == \"Brazil\"')\n",
    "participou = df.query('Winner == \"Brazil\" | RunnersUp == \"Brazil\"')"
   ]
  },
  {
   "cell_type": "code",
   "execution_count": 25,
   "metadata": {},
   "outputs": [
    {
     "output_type": "execute_result",
     "data": {
      "text/plain": [
       "          Country  Winner       RunnersUp       Third  GoalsScored  \\\n",
       "Year                                                                 \n",
       "1958       Sweden  Brazil          Sweden      France          126   \n",
       "1962        Chile  Brazil  Czechoslovakia       Chile           89   \n",
       "1970       Mexico  Brazil           Italy  Germany FR           95   \n",
       "1994          USA  Brazil           Italy      Sweden          141   \n",
       "2002  Korea/Japan  Brazil         Germany      Turkey          161   \n",
       "\n",
       "      MatchesPlayed  Attendance  AverageGoalsMatch  \n",
       "Year                                                \n",
       "1958             35      819810           3.600000  \n",
       "1962             32      893172           2.781250  \n",
       "1970             32     1603975           2.968750  \n",
       "1994             52     3587538           2.711538  \n",
       "2002             64     2705197           2.515625  "
      ],
      "text/html": "<div>\n<style scoped>\n    .dataframe tbody tr th:only-of-type {\n        vertical-align: middle;\n    }\n\n    .dataframe tbody tr th {\n        vertical-align: top;\n    }\n\n    .dataframe thead th {\n        text-align: right;\n    }\n</style>\n<table border=\"1\" class=\"dataframe\">\n  <thead>\n    <tr style=\"text-align: right;\">\n      <th></th>\n      <th>Country</th>\n      <th>Winner</th>\n      <th>RunnersUp</th>\n      <th>Third</th>\n      <th>GoalsScored</th>\n      <th>MatchesPlayed</th>\n      <th>Attendance</th>\n      <th>AverageGoalsMatch</th>\n    </tr>\n    <tr>\n      <th>Year</th>\n      <th></th>\n      <th></th>\n      <th></th>\n      <th></th>\n      <th></th>\n      <th></th>\n      <th></th>\n      <th></th>\n    </tr>\n  </thead>\n  <tbody>\n    <tr>\n      <th>1958</th>\n      <td>Sweden</td>\n      <td>Brazil</td>\n      <td>Sweden</td>\n      <td>France</td>\n      <td>126</td>\n      <td>35</td>\n      <td>819810</td>\n      <td>3.600000</td>\n    </tr>\n    <tr>\n      <th>1962</th>\n      <td>Chile</td>\n      <td>Brazil</td>\n      <td>Czechoslovakia</td>\n      <td>Chile</td>\n      <td>89</td>\n      <td>32</td>\n      <td>893172</td>\n      <td>2.781250</td>\n    </tr>\n    <tr>\n      <th>1970</th>\n      <td>Mexico</td>\n      <td>Brazil</td>\n      <td>Italy</td>\n      <td>Germany FR</td>\n      <td>95</td>\n      <td>32</td>\n      <td>1603975</td>\n      <td>2.968750</td>\n    </tr>\n    <tr>\n      <th>1994</th>\n      <td>USA</td>\n      <td>Brazil</td>\n      <td>Italy</td>\n      <td>Sweden</td>\n      <td>141</td>\n      <td>52</td>\n      <td>3587538</td>\n      <td>2.711538</td>\n    </tr>\n    <tr>\n      <th>2002</th>\n      <td>Korea/Japan</td>\n      <td>Brazil</td>\n      <td>Germany</td>\n      <td>Turkey</td>\n      <td>161</td>\n      <td>64</td>\n      <td>2705197</td>\n      <td>2.515625</td>\n    </tr>\n  </tbody>\n</table>\n</div>"
     },
     "metadata": {},
     "execution_count": 25
    }
   ],
   "source": [
    "ganhou"
   ]
  },
  {
   "cell_type": "code",
   "execution_count": 26,
   "metadata": {},
   "outputs": [
    {
     "output_type": "stream",
     "name": "stdout",
     "text": [
      "média de gols nos anos que ganhou: [3.6, 2.78125, 2.96875, 2.7115384615384617, 2.515625]\n\nanos em que foi para a final e média de gols:\nYear\n1950    4.000000\n1958    3.600000\n1962    2.781250\n1970    2.968750\n1994    2.711538\n1998    2.671875\n2002    2.515625\nName: AverageGoalsMatch, dtype: float64\n\nporcentagem de vitórias em finais: 71.4 %\n"
     ]
    }
   ],
   "source": [
    "# para verificar somente os anos, olhamos somente os rótulos dos DataFrames acima\n",
    "lista_media_gols = list(ganhou['AverageGoalsMatch'].values)\n",
    "print('média de gols nos anos que ganhou:', lista_media_gols)    # anos em que o Brasil venceu\n",
    "\n",
    "print('\\nanos em que foi para a final e média de gols:')\n",
    "print(participou['AverageGoalsMatch']) # anos em que o Brasil disputou uma final\n",
    "\n",
    "# basta dividimos o número de disputas de final pelo número de vitórias\n",
    "print('\\nporcentagem de vitórias em finais:', round((ganhou.shape[0] / participou.shape[0])*100,1), '%') "
   ]
  },
  {
   "cell_type": "code",
   "execution_count": null,
   "metadata": {},
   "outputs": [],
   "source": []
  }
 ],
 "metadata": {
  "colab": {
   "name": "Python I  exercicios solucoes.ipynb",
   "provenance": []
  },
  "kernelspec": {
   "name": "python3",
   "display_name": "Python 3.8.8 64-bit ('bpipi': virtualenv)"
  },
  "language_info": {
   "codemirror_mode": {
    "name": "ipython",
    "version": 3
   },
   "file_extension": ".py",
   "mimetype": "text/x-python",
   "name": "python",
   "nbconvert_exporter": "python",
   "pygments_lexer": "ipython3",
   "version": "3.8.8"
  },
  "toc": {
   "base_numbering": 1,
   "nav_menu": {},
   "number_sections": true,
   "sideBar": true,
   "skip_h1_title": false,
   "title_cell": "Table of Contents",
   "title_sidebar": "Contents",
   "toc_cell": false,
   "toc_position": {},
   "toc_section_display": true,
   "toc_window_display": false
  },
  "interpreter": {
   "hash": "56f943e18a32ea084b4476eca422bb50fb7e1fc98b2d150bdf152e6d8d95d564"
  }
 },
 "nbformat": 4,
 "nbformat_minor": 1
}