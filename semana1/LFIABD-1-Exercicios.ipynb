{
 "cells": [
  {
   "cell_type": "markdown",
   "metadata": {
    "colab_type": "text",
    "id": "x8VUohVKQh5l"
   },
   "source": [
    "# <font color=\"red\"> MBA em IA e Big Data</font>\n",
    "## <span style=\"color:red\">Linguagens e Ferramentas para Inteligência Artificial e Big Data (Python e SQL)</span>\n",
    "\n",
    "### <span style=\"color:darkred\">Python: referências, operações e funções</span>\n",
    "\n",
    "## Exercícios\n",
    "\n",
    "*Moacir Antonelli Ponti*<br>\n",
    "*ICMC/USP São Carlos*\n",
    "\n",
    "*(com material do Prof. Luis Gustavo Nonato)*"
   ]
  },
  {
   "cell_type": "markdown",
   "metadata": {
    "colab_type": "text",
    "id": "P1gGG6yeQh5m"
   },
   "source": [
    "#### <span style=\"color:red\">Recomenda-se fortemente que os exercícios sejam feitos sem consultar as respostas antecipadamente.</span>"
   ]
  },
  {
   "cell_type": "markdown",
   "metadata": {},
   "source": [
    "# Parte 1 - Python básico\n",
    "\n",
    "### Exercício 1)\n",
    "\n",
    "Qual o tipo do valor resultante das operações abaixo (ou das variáveis as quais foram atribuídos)?\n",
    "\n",
    "a) `False + True`<br>\n",
    "b) `2 * 1e2**2`<br>\n",
    "c) `a = 6/2`<br>\n",
    "d) `x = 6//2 + 6%2`<br>\n",
    "e) `(2 + 4) == 4 or 0 <= 1`<br>"
   ]
  },
  {
   "cell_type": "code",
   "execution_count": 1,
   "metadata": {},
   "outputs": [
    {
     "name": "stdout",
     "output_type": "stream",
     "text": [
      "1 <class 'int'>\n"
     ]
    }
   ],
   "source": [
    "# exemplo\n",
    "print(False+True, type(False+True))"
   ]
  },
  {
   "cell_type": "code",
   "execution_count": null,
   "metadata": {},
   "outputs": [],
   "source": []
  },
  {
   "cell_type": "markdown",
   "metadata": {
    "colab_type": "text",
    "id": "WHG7tm3QQh5m"
   },
   "source": [
    "### Exercício 2)\n",
    "\n",
    "Crie uma variável contendo um ano (um valor inteiro entre 0 e 3000)\n",
    "\n",
    "A seguir, se o ano for divisível por 4, exiba na tela 'Pode ser um ano bissexto'; caso contrário exiba 'Definitivamente não é um ano bissexto'\n",
    "\n",
    "__Dica:__ Utilize o operador `%` que retorna o resto da divisão de um número por outro."
   ]
  },
  {
   "cell_type": "code",
   "execution_count": null,
   "metadata": {
    "colab": {},
    "colab_type": "code",
    "id": "pTVOXvzVQh5m",
    "outputId": "6cd1207a-a389-4e1b-ef41-7d404b39c46a"
   },
   "outputs": [],
   "source": []
  },
  {
   "cell_type": "markdown",
   "metadata": {
    "colab_type": "text",
    "id": "M72PbdAnQh5u"
   },
   "source": [
    "### Exercício 3)\n",
    "\n",
    "Dada a lista `valores` abaixo, crie uma nova lista chamada `numeros` contendo apenas elementos `float` ou `int`.\n",
    "\n",
    "Note que essa nova lista pode ter menos elementos do que a lista existente.\n",
    "\n",
    "Ao final exiba a nova lista `numeros`\n",
    "\n",
    "__Dica__: Percorra a lista com uma estrutura de repetição e utilize `type()` para retornar o tipo e compare com o desejado. Exemplo:\n",
    "```python\n",
    "type(3) == int\n",
    "```\n",
    "Retorna `True`"
   ]
  },
  {
   "cell_type": "code",
   "execution_count": 2,
   "metadata": {
    "colab": {},
    "colab_type": "code",
    "id": "5HFGhEvMQh5u",
    "outputId": "82715598-d6f1-42e8-dfa5-0577147830ea"
   },
   "outputs": [],
   "source": [
    "valores = ['três', 56, 342, 12.4e-5, 4+3j, ('A', 1, 50.1), -0.19e4, 1000, 960, -406]"
   ]
  },
  {
   "cell_type": "code",
   "execution_count": null,
   "metadata": {},
   "outputs": [],
   "source": []
  },
  {
   "cell_type": "markdown",
   "metadata": {},
   "source": [
    "### Exercício 4)\n",
    "\n",
    "Escreva uma **função** que receba por parâmetro uma taxa de juros pagas ao ano, calcule e retorne um número inteiro relativo a quantos anos serão necessários para que um investimento nessa taxa dobre de valor. Assuma juros compostos e use uma estrutura de repetição para calcular.\n"
   ]
  },
  {
   "cell_type": "code",
   "execution_count": null,
   "metadata": {},
   "outputs": [],
   "source": []
  },
  {
   "cell_type": "markdown",
   "metadata": {
    "colab_type": "text",
    "id": "8ZD-mCMPQh5w"
   },
   "source": [
    "### Exercício 5)\n",
    "Considere a lista `linguagens` declarada abaixo. \n",
    "- Utilizando fatiamento, imprima o subconjunto de elementos entre o segundo e o quarto elemento (inclusive)\n",
    "- Gere uma nova lista chamada `maiores4` contendo os elementos da lista `linguagens` que possuam quatro caracteres ou mais, utilizando a função `len()`.\n",
    "- Gere uma nova lista chamada `j_ou_c` contendo os elementos da lista `linguagens` que começam com a letra 'j' ou com a letra 'c'."
   ]
  },
  {
   "cell_type": "code",
   "execution_count": 3,
   "metadata": {
    "colab": {},
    "colab_type": "code",
    "id": "IL6VO3ilQh5w",
    "outputId": "3f5d3c79-4ad0-453a-c5b8-22ac26ed0e9d"
   },
   "outputs": [],
   "source": [
    "linguagens = ['python', 'java', 'c++', 'javascript', 'c#', 'go', 'r', 'cobol', 'ruby', 'lisp']\n"
   ]
  },
  {
   "cell_type": "markdown",
   "metadata": {},
   "source": [
    "---\n",
    "### Exercício 6) \n",
    "\n",
    "Codifique uma função `conta_palavras()` que, a partir de um um texto (string) contendo palavras separadas por vírgulas apenas - considere que não há outras pontuações:\n",
    "1. Inicie criando uma lista de palavras e \n",
    "2. Use um dicionário para contar a frequência de cada palavra no texto, retornando o dicionário obtido.\n",
    "\n",
    "*Dica: use a função `str.split()` para separar uma string em substrings usando como delimitador um caracter especificado por argumento*\n",
    "\n",
    "Exemplo:\n",
    "\n",
    "```\n",
    "nomes = \"ana,fábio,cristina,ana,fábio,ubiratã,ana\"\n",
    "freq = conta_palavras(nomes)\n",
    "print(freq)\n",
    "```\n",
    "Deve gerar:\n",
    "```\n",
    "{'ana': 3, 'fábio': 2, 'cristina': 1, 'ubiratã': 1}\n",
    "```"
   ]
  },
  {
   "cell_type": "code",
   "execution_count": null,
   "metadata": {},
   "outputs": [],
   "source": []
  },
  {
   "cell_type": "markdown",
   "metadata": {
    "colab_type": "text",
    "id": "aYaioiBSQh5y"
   },
   "source": [
    "### Exercício 7) \n",
    "Considere a lista `produtos` definida abaixo, onde cada elemento é uma tupla possuindo:\n",
    "* elemento 1: o nome de um produto \n",
    "* elemento 2: e uma lista de preços encontradas no mercado. \n",
    "\n",
    "Calcule a média de preços de cada produto, salvando o resultado em uma nova lista chamada `preco_medio`.\n",
    "\n",
    "Posteriormente, sorteie um dos produtos e exiba na tela o nome e preço médio desse produto sorteado\n",
    "\n",
    "__Dica:__ Utilize a função `fsum()` do módulo `math` para somar os valores daa lista. Por exemplo:\n",
    "```python\n",
    "ls = [1.0,1.0,1.0,1.0,1.0]\n",
    "print(fsum(ls))\n",
    "```\n",
    "resulta no valor 5"
   ]
  },
  {
   "cell_type": "code",
   "execution_count": 10,
   "metadata": {
    "colab": {},
    "colab_type": "code",
    "id": "CMmRYn0-Qh5z",
    "outputId": "ff66b28a-6014-4e3b-89cd-3134cc76c075",
    "scrolled": true
   },
   "outputs": [],
   "source": [
    "produtos = [('soja', [170.1, 183.0, 175.0]),\n",
    "            ('algodao', [143.4]),\n",
    "            ('cacau', [199, 185.1]),\n",
    "            ('café', [880, 750.9, 795.1, 900])]"
   ]
  },
  {
   "cell_type": "code",
   "execution_count": null,
   "metadata": {},
   "outputs": [],
   "source": []
  },
  {
   "cell_type": "markdown",
   "metadata": {},
   "source": [
    "----\n",
    "\n",
    "# Parte 2 - Pandas\n",
    "\n",
    "Os exercícios a seguir farão uso do arquivo <font style=\"font-family: monaco\">WorldCups.csv</font>\n",
    "\n",
    "O arquivo <font style=\"font-family: monaco\">WorldCups.csv</font> possui as seguintes colunas:\n",
    "- Year: ano da copa\n",
    "- Country: pais sede\n",
    "- Winner: campeão\n",
    "- RunnersUp: disputou a final com o campeão\n",
    "- Third: terceiro colocado\n",
    "- Fourth: quarto colocado\n",
    "- GoalsScored: número de gols na copa\n",
    "- QualifiedTeams: número de times que disputaram a copa\n",
    "- MatchesPlayed: número de jogos\n",
    "- Attendance: número de espectadores (público)"
   ]
  },
  {
   "cell_type": "markdown",
   "metadata": {},
   "source": [
    "### Exercício 8) \n",
    "Utilizando o <font color='blue'>pandas</font> leia o arquivo <font style=\"font-family: monaco\">WorldCups.csv</font> como DataFrame. \n",
    "- Definina a coluna 'Year' como índice\n",
    "- Exiba as 5 primeiras linhas do DataFrame\n",
    "- Exiba o tipo de dado de cada coluna\n",
    "- Imprima o número de linhas do DataFrame"
   ]
  },
  {
   "cell_type": "code",
   "execution_count": 4,
   "metadata": {},
   "outputs": [],
   "source": [
    "# SOLUÇÃO\n",
    "# Voce precisa colocar o caminho do diretório no drive onde o \n",
    "# arquivo WorldCups.csv está"
   ]
  },
  {
   "cell_type": "markdown",
   "metadata": {},
   "source": [
    "### Exercício 9) \n",
    "Remova as colunas 'QualifiedTeams' e 'Fourth' do DataFrame. \n",
    "\n",
    "A seguir, com o DataFrame resultante, exiba os vencedores das copas entre os anos 1954 e 1982 (inclusive)"
   ]
  },
  {
   "cell_type": "code",
   "execution_count": null,
   "metadata": {},
   "outputs": [],
   "source": []
  },
  {
   "cell_type": "markdown",
   "metadata": {},
   "source": [
    "## Exercício 10)\n",
    "\n",
    "Crie uma nova coluna com a média de gols por partida chamada `AverageGoalsMatch`, dividindo o número de gols pelo número de partidas jogadas.\n",
    "\n",
    "A seguir, encontre e/ou calcule:\n",
    "- os anos em que o Brasil ganhou a copa, armazene em uma lista e imprima na tela o ano e a média de gols naquele ano\n",
    "- os anos em que o Brasil jogou uma final (os finalistas estão nas colunas 'Winner' e 'RunnersUp'), armazene em uma lista e imprima na tela\n",
    "- a porcentagem de vitórias do Brasil em finais, e imprima na tela"
   ]
  },
  {
   "cell_type": "code",
   "execution_count": null,
   "metadata": {},
   "outputs": [],
   "source": []
  }
 ],
 "metadata": {
  "colab": {
   "name": "Python I  exercicios solucoes.ipynb",
   "provenance": []
  },
  "kernelspec": {
   "display_name": "Python 3",
   "language": "python",
   "name": "python3"
  },
  "language_info": {
   "codemirror_mode": {
    "name": "ipython",
    "version": 3
   },
   "file_extension": ".py",
   "mimetype": "text/x-python",
   "name": "python",
   "nbconvert_exporter": "python",
   "pygments_lexer": "ipython3",
   "version": "3.9.5"
  },
  "toc": {
   "base_numbering": 1,
   "nav_menu": {},
   "number_sections": true,
   "sideBar": true,
   "skip_h1_title": false,
   "title_cell": "Table of Contents",
   "title_sidebar": "Contents",
   "toc_cell": false,
   "toc_position": {},
   "toc_section_display": true,
   "toc_window_display": false
  }
 },
 "nbformat": 4,
 "nbformat_minor": 1
}
