{
 "cells": [
  {
   "cell_type": "markdown",
   "metadata": {
    "colab_type": "text",
    "id": "pRTqGHgAdrDZ"
   },
   "source": [
    "# <font color=\"red\"> MBA em IA e Big Data</font>\n",
    "## <span style=\"color:red\">Linguagens e Ferramentas para Inteligência Artificial e Big Data (Python e SQL)</span>\n",
    "\n",
    "### <span style=\"color:darkred\">Python: módulos e introdução a Pandas</span>\n",
    "\n",
    "*Moacir Antonelli Ponti*<br>\n",
    "*ICMC/USP São Carlos*"
   ]
  },
  {
   "cell_type": "markdown",
   "metadata": {
    "colab_type": "text",
    "id": "6gELkIlGdrDd"
   },
   "source": [
    "---\n",
    "__Conteúdos:__\n",
    "- Módulos e pacotes: math e random\n",
    "- Pandas: introdução com DataFrames\n"
   ]
  },
  {
   "cell_type": "markdown",
   "metadata": {
    "colab_type": "text",
    "id": "wlixoe76drDg"
   },
   "source": [
    "# Módulos Python\n",
    "\n",
    "A linguagem Python vem com funções nativas em sua biblioteca padrão (*standard library*)\n",
    "\n",
    "Porém é possível carregar outros módulos e usar suas funções.\n",
    "\n",
    "Há centenas de módulos que incluem:\n",
    "* Funções matemáticas\n",
    "* Desenvolvimento de interfaces gráficas (GUI)\n",
    "* Geração de números pseudo-aleatórios\n",
    "* Geração de gráficos\n",
    "* Programação de bases de dados e tabelas"
   ]
  },
  {
   "cell_type": "markdown",
   "metadata": {},
   "source": [
    "---\n",
    "## `import`, `from` e `as` \n",
    "Usamos `import` e `from` para carregar funcionalidades de módulos\n",
    "\n",
    "A forma mais simples é usar apenas:\n",
    "\n",
    "`import <modulo>`\n",
    "* Na sequência podemos usar o nome do módulo como *prefixo* para acessar suas funções e constantes"
   ]
  },
  {
   "cell_type": "markdown",
   "metadata": {},
   "source": [
    "Como alternativa ainda podemos usar\n",
    "\n",
    "`import <modulo> as <apelido>`\n",
    "\n",
    "* Torna o nome do módulo mais fácil de digitar"
   ]
  },
  {
   "cell_type": "markdown",
   "metadata": {},
   "source": [
    "E ainda usar `from` para importar apenas parte do módulo\n",
    "\n",
    "`from <modulo> import <parte>`\n",
    "\n",
    "\n",
    "* Essa é uma boa opção pois assim poupamos memória"
   ]
  },
  {
   "cell_type": "markdown",
   "metadata": {},
   "source": [
    "---\n",
    "\n",
    "## `math`\n",
    "\n",
    "https://docs.python.org/3/library/math.html"
   ]
  },
  {
   "cell_type": "code",
   "execution_count": 1,
   "metadata": {},
   "outputs": [
    {
     "name": "stdout",
     "output_type": "stream",
     "text": [
      "3.4339872044851463\n",
      "4.954196310386876\n"
     ]
    }
   ],
   "source": [
    "import math\n",
    "\n",
    "# logaritmo natural\n",
    "print(math.log(31))\n",
    "\n",
    "# especificando a base\n",
    "print(math.log(31, 2))"
   ]
  },
  {
   "cell_type": "code",
   "execution_count": 2,
   "metadata": {},
   "outputs": [
    {
     "name": "stdout",
     "output_type": "stream",
     "text": [
      "0.9999999999999999\n",
      "1.0\n"
     ]
    }
   ],
   "source": [
    "# soma de floats que evita erros de precisão\n",
    "num_floats = [0.1, 0.1, 0.1, 0.1, 0.1, 0.1, 0.1, 0.1, 0.1, 0.1]\n",
    "# usando função padrão\n",
    "print(sum(num_floats))\n",
    "print(math.fsum(num_floats))"
   ]
  },
  {
   "cell_type": "code",
   "execution_count": 3,
   "metadata": {},
   "outputs": [
    {
     "name": "stdout",
     "output_type": "stream",
     "text": [
      "3.141592653589793\n",
      "2.718281828459045\n",
      "inf\n",
      "nan\n"
     ]
    }
   ],
   "source": [
    "# constantes\n",
    "print(math.pi)\n",
    "print(math.e)\n",
    "print(math.inf)\n",
    "print(math.nan)"
   ]
  },
  {
   "cell_type": "markdown",
   "metadata": {},
   "source": [
    "#### Exemplo de uso de `from <modulo> import <parte>`"
   ]
  },
  {
   "cell_type": "code",
   "execution_count": 4,
   "metadata": {},
   "outputs": [
    {
     "name": "stdout",
     "output_type": "stream",
     "text": [
      "3.141592653589793\n"
     ]
    }
   ],
   "source": [
    "from math import pi\n",
    "print(pi)"
   ]
  },
  {
   "cell_type": "code",
   "execution_count": 5,
   "metadata": {},
   "outputs": [
    {
     "name": "stdout",
     "output_type": "stream",
     "text": [
      "6.288619607278353\n",
      "17.944358444926362\n"
     ]
    }
   ],
   "source": [
    "from math import log, sqrt\n",
    "print(log(1001, 3))\n",
    "print(sqrt(322))"
   ]
  },
  {
   "cell_type": "markdown",
   "metadata": {},
   "source": [
    "---\n",
    "\n",
    "## `random`\n",
    "\n",
    "Gera números pseudo-aleatórios para simulações. Há muitas funções, alguns exemplos:\n",
    "\n",
    "* `random()`: número aleatório entre 0 e 1\n",
    "* `uniform(a,b)`: número aleatório float entre a e b, sendo que os valores são equiprováveis\n",
    "* `randint(a,b)`: número aleatório inteiro entre a e b, sendo que os valores são equiprováveis\n",
    "* `shuffle(list)`: embaralha uma lista\n",
    "* `sample(list, k)`: sorteia k elementos de uma lista e retorna essa amostra aleatória\n",
    "* `seed(s)`: define a semente da sequência aleatória, permitindo reproduzir uma mesma simulação"
   ]
  },
  {
   "cell_type": "markdown",
   "metadata": {},
   "source": [
    "#### Exemplo de uso de `import as`"
   ]
  },
  {
   "cell_type": "code",
   "execution_count": 6,
   "metadata": {},
   "outputs": [],
   "source": [
    "# podemos usar `rd` ao invés de `random` para acessar o módulo\n",
    "import random as rd"
   ]
  },
  {
   "cell_type": "code",
   "execution_count": 7,
   "metadata": {},
   "outputs": [
    {
     "name": "stdout",
     "output_type": "stream",
     "text": [
      "0.3341060181651533\n",
      "[0.4225520915969372, 0.2340996042539446, 0.3317146583435743, 0.83860763095296, 0.6326950229541847]\n"
     ]
    }
   ],
   "source": [
    "# sorteia um número aleatório\n",
    "print(rd.random())\n",
    "\n",
    "# exemplo: criando uma lista de números aleatórios\n",
    "num_aleat = []\n",
    "for i in range(5):\n",
    "    num_aleat.append(rd.random())\n",
    "    \n",
    "print(num_aleat)"
   ]
  },
  {
   "cell_type": "code",
   "execution_count": 8,
   "metadata": {
    "scrolled": true
   },
   "outputs": [
    {
     "name": "stdout",
     "output_type": "stream",
     "text": [
      "9\n",
      "[2, 8, 8, 8, 5, 8, 1, 9, 8, 1]\n"
     ]
    }
   ],
   "source": [
    "# sorteia um numero aleatorio inteiro uniforme entre \"a\" e \"b\"\n",
    "print(rd.randint(1,10))\n",
    "\n",
    "# exemplo: criando uma lista de números aleatórios\n",
    "numint_1_10 = []\n",
    "for i in range(10):\n",
    "    numint_1_10.append(rd.randint(1,10))\n",
    "    \n",
    "print(numint_1_10)"
   ]
  },
  {
   "cell_type": "markdown",
   "metadata": {},
   "source": [
    "#### Funções com listas"
   ]
  },
  {
   "cell_type": "code",
   "execution_count": 9,
   "metadata": {},
   "outputs": [
    {
     "name": "stdout",
     "output_type": "stream",
     "text": [
      "[222, 333, 999, 444]\n",
      "[888, 999, 111, 333, 777, 666, 555, 444, 222]\n"
     ]
    }
   ],
   "source": [
    "numeros = [111, 222, 333, 444, 555, 666, 777, 888, 999]\n",
    "\n",
    "print(rd.sample(numeros,4))\n",
    "\n",
    "rd.shuffle(numeros)\n",
    "print(numeros)"
   ]
  },
  {
   "cell_type": "markdown",
   "metadata": {},
   "source": [
    "#### Controlando a geração pseudo-aleatória com `seed()`\n",
    "\n",
    "Os números gerados não são realmente aleatórios, mas pseudo-aleatórios\n",
    "\n",
    "Assim, é possível obter a sequência gerada se definirmos a \"semente\""
   ]
  },
  {
   "cell_type": "code",
   "execution_count": 10,
   "metadata": {},
   "outputs": [
    {
     "name": "stdout",
     "output_type": "stream",
     "text": [
      "[3, 10, 2, 5, 2, 8, 8, 8, 7, 4]\n"
     ]
    }
   ],
   "source": [
    "rd.seed(1)\n",
    "\n",
    "# criando uma lista de números aleatórios\n",
    "numint_1_10 = []\n",
    "for i in range(10):\n",
    "    numint_1_10.append(rd.randint(1,10))\n",
    "    \n",
    "print(numint_1_10)"
   ]
  },
  {
   "cell_type": "markdown",
   "metadata": {},
   "source": [
    "---\n",
    "\n",
    "# `pandas`\n",
    "\n",
    "<font color='blue'>Pandas</font> é um pacote python construído com base no <font color='blue'>numpy</font> e <font color='blue'>matplotlib</font> (a serem vistos posteriormente) que busca organizar dados no formato de tabela\n",
    "\n",
    "O pacote <font color='blue'>pandas</font> fornece ainda um conjunto de funcionalidades para processar e tratar dados\n",
    "\n",
    "O <font colo='blue'>pandas</font> organiza os dados em três tipos de estruturas:\n",
    "- Series\n",
    "- DataFrame\n",
    "- Panel (*não* serão abordados neste curso)"
   ]
  },
  {
   "cell_type": "markdown",
   "metadata": {},
   "source": [
    "## Carregando arquivos\n",
    "Pandas permite carregar (e escrever) arquivos de diversos formatos:\n",
    "- Arquivos de texto\n",
    "- Dados estruturados (JSON, XML, HTML, CSV)\n",
    "- Excel (depende das biblitoecas xlrd e  openpyxl)\n",
    "- Direto de base de dados\n",
    "  - pandas.io.sql  (read_frame)"
   ]
  },
  {
   "cell_type": "markdown",
   "metadata": {},
   "source": [
    "A célula abaixo irá criar um arquivo tipo '.csv' onde os elementos das colunas são separados por vírgula (padrão para arquivos '.csv')"
   ]
  },
  {
   "cell_type": "code",
   "execution_count": 1,
   "metadata": {},
   "outputs": [
    {
     "output_type": "stream",
     "name": "stdout",
     "text": [
      "Overwriting data_access.csv\n"
     ]
    }
   ],
   "source": [
    "%%writefile data_access.csv  \n",
    "day,month,num access,category\n",
    "31,5,9241,student\n",
    "31,5,830,teacher\n",
    "31,5,45,coordinator\n",
    "3,6,9102,student\n",
    "3,6,1022,teacher\n",
    "3,6,30,coordinator\n",
    "4,6,10301,student\n",
    "4,6,781,teacher\n",
    "4,6,81,coordinator"
   ]
  },
  {
   "cell_type": "code",
   "execution_count": 4,
   "metadata": {},
   "outputs": [
    {
     "output_type": "execute_result",
     "data": {
      "text/plain": [
       "   day  month  num access     category\n",
       "0   31      5        9241      student\n",
       "1   31      5         830      teacher\n",
       "2   31      5          45  coordinator\n",
       "3    3      6        9102      student\n",
       "4    3      6        1022      teacher\n",
       "5    3      6          30  coordinator\n",
       "6    4      6       10301      student\n",
       "7    4      6         781      teacher\n",
       "8    4      6          81  coordinator"
      ],
      "text/html": "<div>\n<style scoped>\n    .dataframe tbody tr th:only-of-type {\n        vertical-align: middle;\n    }\n\n    .dataframe tbody tr th {\n        vertical-align: top;\n    }\n\n    .dataframe thead th {\n        text-align: right;\n    }\n</style>\n<table border=\"1\" class=\"dataframe\">\n  <thead>\n    <tr style=\"text-align: right;\">\n      <th></th>\n      <th>day</th>\n      <th>month</th>\n      <th>num access</th>\n      <th>category</th>\n    </tr>\n  </thead>\n  <tbody>\n    <tr>\n      <th>0</th>\n      <td>31</td>\n      <td>5</td>\n      <td>9241</td>\n      <td>student</td>\n    </tr>\n    <tr>\n      <th>1</th>\n      <td>31</td>\n      <td>5</td>\n      <td>830</td>\n      <td>teacher</td>\n    </tr>\n    <tr>\n      <th>2</th>\n      <td>31</td>\n      <td>5</td>\n      <td>45</td>\n      <td>coordinator</td>\n    </tr>\n    <tr>\n      <th>3</th>\n      <td>3</td>\n      <td>6</td>\n      <td>9102</td>\n      <td>student</td>\n    </tr>\n    <tr>\n      <th>4</th>\n      <td>3</td>\n      <td>6</td>\n      <td>1022</td>\n      <td>teacher</td>\n    </tr>\n    <tr>\n      <th>5</th>\n      <td>3</td>\n      <td>6</td>\n      <td>30</td>\n      <td>coordinator</td>\n    </tr>\n    <tr>\n      <th>6</th>\n      <td>4</td>\n      <td>6</td>\n      <td>10301</td>\n      <td>student</td>\n    </tr>\n    <tr>\n      <th>7</th>\n      <td>4</td>\n      <td>6</td>\n      <td>781</td>\n      <td>teacher</td>\n    </tr>\n    <tr>\n      <th>8</th>\n      <td>4</td>\n      <td>6</td>\n      <td>81</td>\n      <td>coordinator</td>\n    </tr>\n  </tbody>\n</table>\n</div>"
     },
     "metadata": {},
     "execution_count": 4
    }
   ],
   "source": [
    "# Carregar um CSV simples\n",
    "import pandas as pd # importamos a bilbioteca\n",
    "\n",
    "df = pd.read_csv('data_access.csv')  # o método read_csv carrega um arquivo no formato '.csv'\n",
    "                                # a primeira linha do arquivo se torna os rótulos das colunas\n",
    "                                # como os indices não foram especificados, são criados automaticamente\n",
    "\n",
    "df"
   ]
  },
  {
   "cell_type": "markdown",
   "metadata": {},
   "source": [
    "## DataFrames\n",
    "<font color='blue'>DataFrames</font> é uma estrutura de dados do <font color='blue'>pandas</font> semelhante a uma planilha de cálculo (como uma planilha excel). \n",
    "\n",
    "Ao invés de interagir com o mouse e teclado, iremos utilizar a linguagem Python.\n",
    "\n",
    "Linhas e colunas são indexadas por rótulos. "
   ]
  },
  {
   "cell_type": "markdown",
   "metadata": {},
   "source": [
    "Dois métodos são muito úteis para analisar rapidamente um DataFrame: <font color='blue'>head</font> e <font color='blue'>dtypes</font>\n",
    "- <font color='blue'>head()</font> - mostra as 5 primeiras linhas do DataFrame.\n",
    "- <font color='blue'>sample(n)</font> - amostra aleatoriamente n linhas do dataframe"
   ]
  },
  {
   "cell_type": "code",
   "execution_count": 5,
   "metadata": {},
   "outputs": [
    {
     "output_type": "execute_result",
     "data": {
      "text/plain": [
       "   day  month  num access     category\n",
       "0   31      5        9241      student\n",
       "1   31      5         830      teacher\n",
       "2   31      5          45  coordinator\n",
       "3    3      6        9102      student\n",
       "4    3      6        1022      teacher"
      ],
      "text/html": "<div>\n<style scoped>\n    .dataframe tbody tr th:only-of-type {\n        vertical-align: middle;\n    }\n\n    .dataframe tbody tr th {\n        vertical-align: top;\n    }\n\n    .dataframe thead th {\n        text-align: right;\n    }\n</style>\n<table border=\"1\" class=\"dataframe\">\n  <thead>\n    <tr style=\"text-align: right;\">\n      <th></th>\n      <th>day</th>\n      <th>month</th>\n      <th>num access</th>\n      <th>category</th>\n    </tr>\n  </thead>\n  <tbody>\n    <tr>\n      <th>0</th>\n      <td>31</td>\n      <td>5</td>\n      <td>9241</td>\n      <td>student</td>\n    </tr>\n    <tr>\n      <th>1</th>\n      <td>31</td>\n      <td>5</td>\n      <td>830</td>\n      <td>teacher</td>\n    </tr>\n    <tr>\n      <th>2</th>\n      <td>31</td>\n      <td>5</td>\n      <td>45</td>\n      <td>coordinator</td>\n    </tr>\n    <tr>\n      <th>3</th>\n      <td>3</td>\n      <td>6</td>\n      <td>9102</td>\n      <td>student</td>\n    </tr>\n    <tr>\n      <th>4</th>\n      <td>3</td>\n      <td>6</td>\n      <td>1022</td>\n      <td>teacher</td>\n    </tr>\n  </tbody>\n</table>\n</div>"
     },
     "metadata": {},
     "execution_count": 5
    }
   ],
   "source": [
    "df.head()"
   ]
  },
  {
   "cell_type": "code",
   "execution_count": 6,
   "metadata": {},
   "outputs": [
    {
     "output_type": "execute_result",
     "data": {
      "text/plain": [
       "   day  month  num access     category\n",
       "0   31      5        9241      student\n",
       "5    3      6          30  coordinator\n",
       "8    4      6          81  coordinator\n",
       "1   31      5         830      teacher"
      ],
      "text/html": "<div>\n<style scoped>\n    .dataframe tbody tr th:only-of-type {\n        vertical-align: middle;\n    }\n\n    .dataframe tbody tr th {\n        vertical-align: top;\n    }\n\n    .dataframe thead th {\n        text-align: right;\n    }\n</style>\n<table border=\"1\" class=\"dataframe\">\n  <thead>\n    <tr style=\"text-align: right;\">\n      <th></th>\n      <th>day</th>\n      <th>month</th>\n      <th>num access</th>\n      <th>category</th>\n    </tr>\n  </thead>\n  <tbody>\n    <tr>\n      <th>0</th>\n      <td>31</td>\n      <td>5</td>\n      <td>9241</td>\n      <td>student</td>\n    </tr>\n    <tr>\n      <th>5</th>\n      <td>3</td>\n      <td>6</td>\n      <td>30</td>\n      <td>coordinator</td>\n    </tr>\n    <tr>\n      <th>8</th>\n      <td>4</td>\n      <td>6</td>\n      <td>81</td>\n      <td>coordinator</td>\n    </tr>\n    <tr>\n      <th>1</th>\n      <td>31</td>\n      <td>5</td>\n      <td>830</td>\n      <td>teacher</td>\n    </tr>\n  </tbody>\n</table>\n</div>"
     },
     "metadata": {},
     "execution_count": 6
    }
   ],
   "source": [
    "df.sample(4)"
   ]
  },
  {
   "cell_type": "markdown",
   "metadata": {},
   "source": [
    "Atributos úteis de um dataframe\n",
    "- `shape`: contém o tamanho do dataframe em uma tupla contendo o número de linhas e de colunas\n",
    "- `dtypes`: contém as colunas e seus tipos\n",
    "- `columns`: contem uma lista com o nome das colunas"
   ]
  },
  {
   "cell_type": "code",
   "execution_count": 7,
   "metadata": {},
   "outputs": [
    {
     "output_type": "execute_result",
     "data": {
      "text/plain": [
       "day            int64\n",
       "month          int64\n",
       "num access     int64\n",
       "category      object\n",
       "dtype: object"
      ]
     },
     "metadata": {},
     "execution_count": 7
    }
   ],
   "source": [
    "df.dtypes"
   ]
  },
  {
   "cell_type": "code",
   "execution_count": 16,
   "metadata": {},
   "outputs": [
    {
     "data": {
      "text/plain": "(9, 4)"
     },
     "execution_count": 16,
     "metadata": {},
     "output_type": "execute_result"
    }
   ],
   "source": [
    "df.shape"
   ]
  },
  {
   "cell_type": "code",
   "execution_count": 17,
   "metadata": {},
   "outputs": [
    {
     "data": {
      "text/plain": "Index(['day', 'month', 'num access', 'category'], dtype='object')"
     },
     "execution_count": 17,
     "metadata": {},
     "output_type": "execute_result"
    }
   ],
   "source": [
    "df.columns"
   ]
  },
  {
   "cell_type": "markdown",
   "metadata": {},
   "source": [
    "### Acessando Colunas\n",
    "\n",
    "- por rótulo dentro de colchetes []\n",
    "- por rótulo como atributo (não recomendado, pois existem restrições)\n",
    "- lista de rótulos dentro de colchetes [] (acessa várias colunas)"
   ]
  },
  {
   "cell_type": "code",
   "execution_count": 18,
   "metadata": {},
   "outputs": [
    {
     "name": "stdout",
     "output_type": "stream",
     "text": [
      "0    31\n",
      "1    31\n",
      "2    31\n",
      "3     3\n",
      "4     3\n",
      "5     3\n",
      "6     4\n",
      "7     4\n",
      "8     4\n",
      "Name: day, dtype: int64\n"
     ]
    }
   ],
   "source": [
    "print(df['day'])"
   ]
  },
  {
   "cell_type": "code",
   "execution_count": 19,
   "metadata": {},
   "outputs": [
    {
     "name": "stdout",
     "output_type": "stream",
     "text": [
      "0    31\n",
      "1    31\n",
      "2    31\n",
      "3     3\n",
      "4     3\n",
      "5     3\n",
      "6     4\n",
      "7     4\n",
      "8     4\n",
      "Name: day, dtype: int64\n"
     ]
    }
   ],
   "source": [
    "print(df.day)"
   ]
  },
  {
   "cell_type": "code",
   "execution_count": 20,
   "metadata": {},
   "outputs": [
    {
     "ename": "SyntaxError",
     "evalue": "invalid syntax (<ipython-input-20-b8bfe87f586e>, line 2)",
     "output_type": "error",
     "traceback": [
      "\u001b[1;36m  File \u001b[1;32m\"<ipython-input-20-b8bfe87f586e>\"\u001b[1;36m, line \u001b[1;32m2\u001b[0m\n\u001b[1;33m    print(df.num access)\u001b[0m\n\u001b[1;37m                 ^\u001b[0m\n\u001b[1;31mSyntaxError\u001b[0m\u001b[1;31m:\u001b[0m invalid syntax\n"
     ]
    }
   ],
   "source": [
    "# nao funciona para nome de variável / rótulo com espaços e outras restrições\n",
    "print(df.num access)"
   ]
  },
  {
   "cell_type": "code",
   "execution_count": 8,
   "metadata": {},
   "outputs": [
    {
     "output_type": "stream",
     "name": "stdout",
     "text": [
      "   day  num access\n0   31        9241\n1   31         830\n2   31          45\n3    3        9102\n4    3        1022\n5    3          30\n6    4       10301\n7    4         781\n8    4          81\n"
     ]
    }
   ],
   "source": [
    "print(df[['day', 'num access']])"
   ]
  },
  {
   "cell_type": "markdown",
   "metadata": {},
   "source": [
    "#### Convertendo para valores\n",
    "\n",
    "Use o atributo `values`, e posteriormente covnerta para o tipo desejado, por exemplo: lista:"
   ]
  },
  {
   "cell_type": "code",
   "execution_count": 9,
   "metadata": {},
   "outputs": [
    {
     "output_type": "stream",
     "name": "stdout",
     "text": [
      "[31, 31, 31, 3, 3, 3, 4, 4, 4]\n"
     ]
    }
   ],
   "source": [
    "lista_dias = list(df['day'].values)\n",
    "print(lista_dias)"
   ]
  },
  {
   "cell_type": "markdown",
   "metadata": {},
   "source": [
    "#### Busca (query)\n",
    "\n",
    "Permite definir expressões para busca dentro de uma coluna"
   ]
  },
  {
   "cell_type": "code",
   "execution_count": null,
   "metadata": {},
   "outputs": [],
   "source": [
    "df.query('month == 5')"
   ]
  },
  {
   "cell_type": "code",
   "execution_count": null,
   "metadata": {},
   "outputs": [],
   "source": [
    "df.query('month == 5 & category == \"teacher\"')"
   ]
  },
  {
   "cell_type": "code",
   "execution_count": null,
   "metadata": {},
   "outputs": [],
   "source": [
    "df.query('month == 5 & category == \"teacher\"')['num access']"
   ]
  },
  {
   "cell_type": "markdown",
   "metadata": {},
   "source": [
    "### Criando e removendo colunas\n",
    "\n",
    "Criar colunas é possível atribuindo valores e nomeando a nova coluna"
   ]
  },
  {
   "cell_type": "code",
   "execution_count": 10,
   "metadata": {},
   "outputs": [
    {
     "output_type": "execute_result",
     "data": {
      "text/plain": [
       "   day  month  num access     category  year\n",
       "0   31      5        9241      student  2021\n",
       "1   31      5         830      teacher  2021\n",
       "2   31      5          45  coordinator  2021\n",
       "3    3      6        9102      student  2021\n",
       "4    3      6        1022      teacher  2021\n",
       "5    3      6          30  coordinator  2021\n",
       "6    4      6       10301      student  2021\n",
       "7    4      6         781      teacher  2021\n",
       "8    4      6          81  coordinator  2021"
      ],
      "text/html": "<div>\n<style scoped>\n    .dataframe tbody tr th:only-of-type {\n        vertical-align: middle;\n    }\n\n    .dataframe tbody tr th {\n        vertical-align: top;\n    }\n\n    .dataframe thead th {\n        text-align: right;\n    }\n</style>\n<table border=\"1\" class=\"dataframe\">\n  <thead>\n    <tr style=\"text-align: right;\">\n      <th></th>\n      <th>day</th>\n      <th>month</th>\n      <th>num access</th>\n      <th>category</th>\n      <th>year</th>\n    </tr>\n  </thead>\n  <tbody>\n    <tr>\n      <th>0</th>\n      <td>31</td>\n      <td>5</td>\n      <td>9241</td>\n      <td>student</td>\n      <td>2021</td>\n    </tr>\n    <tr>\n      <th>1</th>\n      <td>31</td>\n      <td>5</td>\n      <td>830</td>\n      <td>teacher</td>\n      <td>2021</td>\n    </tr>\n    <tr>\n      <th>2</th>\n      <td>31</td>\n      <td>5</td>\n      <td>45</td>\n      <td>coordinator</td>\n      <td>2021</td>\n    </tr>\n    <tr>\n      <th>3</th>\n      <td>3</td>\n      <td>6</td>\n      <td>9102</td>\n      <td>student</td>\n      <td>2021</td>\n    </tr>\n    <tr>\n      <th>4</th>\n      <td>3</td>\n      <td>6</td>\n      <td>1022</td>\n      <td>teacher</td>\n      <td>2021</td>\n    </tr>\n    <tr>\n      <th>5</th>\n      <td>3</td>\n      <td>6</td>\n      <td>30</td>\n      <td>coordinator</td>\n      <td>2021</td>\n    </tr>\n    <tr>\n      <th>6</th>\n      <td>4</td>\n      <td>6</td>\n      <td>10301</td>\n      <td>student</td>\n      <td>2021</td>\n    </tr>\n    <tr>\n      <th>7</th>\n      <td>4</td>\n      <td>6</td>\n      <td>781</td>\n      <td>teacher</td>\n      <td>2021</td>\n    </tr>\n    <tr>\n      <th>8</th>\n      <td>4</td>\n      <td>6</td>\n      <td>81</td>\n      <td>coordinator</td>\n      <td>2021</td>\n    </tr>\n  </tbody>\n</table>\n</div>"
     },
     "metadata": {},
     "execution_count": 10
    }
   ],
   "source": [
    "# usando um único valor\n",
    "df['year'] = 2021\n",
    "df"
   ]
  },
  {
   "cell_type": "code",
   "execution_count": 11,
   "metadata": {},
   "outputs": [
    {
     "output_type": "execute_result",
     "data": {
      "text/plain": [
       "   day  month  num access     category  year  id\n",
       "0   31      5        9241      student  2021   1\n",
       "1   31      5         830      teacher  2021   2\n",
       "2   31      5          45  coordinator  2021   3\n",
       "3    3      6        9102      student  2021   4\n",
       "4    3      6        1022      teacher  2021   5\n",
       "5    3      6          30  coordinator  2021   6\n",
       "6    4      6       10301      student  2021   7\n",
       "7    4      6         781      teacher  2021   8\n",
       "8    4      6          81  coordinator  2021   9"
      ],
      "text/html": "<div>\n<style scoped>\n    .dataframe tbody tr th:only-of-type {\n        vertical-align: middle;\n    }\n\n    .dataframe tbody tr th {\n        vertical-align: top;\n    }\n\n    .dataframe thead th {\n        text-align: right;\n    }\n</style>\n<table border=\"1\" class=\"dataframe\">\n  <thead>\n    <tr style=\"text-align: right;\">\n      <th></th>\n      <th>day</th>\n      <th>month</th>\n      <th>num access</th>\n      <th>category</th>\n      <th>year</th>\n      <th>id</th>\n    </tr>\n  </thead>\n  <tbody>\n    <tr>\n      <th>0</th>\n      <td>31</td>\n      <td>5</td>\n      <td>9241</td>\n      <td>student</td>\n      <td>2021</td>\n      <td>1</td>\n    </tr>\n    <tr>\n      <th>1</th>\n      <td>31</td>\n      <td>5</td>\n      <td>830</td>\n      <td>teacher</td>\n      <td>2021</td>\n      <td>2</td>\n    </tr>\n    <tr>\n      <th>2</th>\n      <td>31</td>\n      <td>5</td>\n      <td>45</td>\n      <td>coordinator</td>\n      <td>2021</td>\n      <td>3</td>\n    </tr>\n    <tr>\n      <th>3</th>\n      <td>3</td>\n      <td>6</td>\n      <td>9102</td>\n      <td>student</td>\n      <td>2021</td>\n      <td>4</td>\n    </tr>\n    <tr>\n      <th>4</th>\n      <td>3</td>\n      <td>6</td>\n      <td>1022</td>\n      <td>teacher</td>\n      <td>2021</td>\n      <td>5</td>\n    </tr>\n    <tr>\n      <th>5</th>\n      <td>3</td>\n      <td>6</td>\n      <td>30</td>\n      <td>coordinator</td>\n      <td>2021</td>\n      <td>6</td>\n    </tr>\n    <tr>\n      <th>6</th>\n      <td>4</td>\n      <td>6</td>\n      <td>10301</td>\n      <td>student</td>\n      <td>2021</td>\n      <td>7</td>\n    </tr>\n    <tr>\n      <th>7</th>\n      <td>4</td>\n      <td>6</td>\n      <td>781</td>\n      <td>teacher</td>\n      <td>2021</td>\n      <td>8</td>\n    </tr>\n    <tr>\n      <th>8</th>\n      <td>4</td>\n      <td>6</td>\n      <td>81</td>\n      <td>coordinator</td>\n      <td>2021</td>\n      <td>9</td>\n    </tr>\n  </tbody>\n</table>\n</div>"
     },
     "metadata": {},
     "execution_count": 11
    }
   ],
   "source": [
    "# usando uma lista\n",
    "lista = list(range(1,df.shape[0]+1))\n",
    "df['id'] = lista\n",
    "df"
   ]
  },
  {
   "cell_type": "markdown",
   "metadata": {},
   "source": [
    "A remoção pode ser feita com:\n",
    "* `del`\n",
    "* `drop(<coluna>, axis=1)`: especificamos o eixo para definir se a remoção será de coluna (axis=1) ou de linha (axis=0)"
   ]
  },
  {
   "cell_type": "code",
   "execution_count": null,
   "metadata": {},
   "outputs": [],
   "source": [
    "# removendo com drop\n",
    "df.drop('id', axis=1)\n",
    "print(df)\n",
    "\n",
    "del df['year']\n",
    "print(df)"
   ]
  },
  {
   "cell_type": "markdown",
   "metadata": {},
   "source": [
    "### Acessando Linhas\n",
    "\n",
    "Para acessar linhas de um DataFrame:\n",
    "- <font color='blue'>iloc</font> - manipula o DataFrame como uma matriz com índices inteiros\n",
    "- <font color='blue'>loc</font> - seleciona linhas pelos seus rótulos (índices) ou por máscara booleana\n",
    "\n",
    "A princípio esses parecem redudantes, mas o que muda é a seleção pelo rótulo das linhas.\n",
    "\n",
    "Para melhor explicar vamos refazer o índice do dataframe\n",
    "\n",
    "O método `set_index()` permite definir um índice com base numa coluna. É preciso especificar o parâmetro `inplace=True` para que o dataframe seja modificado, do contrário, apenas uma cópia é retornada"
   ]
  },
  {
   "cell_type": "code",
   "execution_count": null,
   "metadata": {},
   "outputs": [],
   "source": [
    "# criando novamente a coluna ID\n",
    "lista = list(range(10,(df.shape[0]+1)*10,10))\n",
    "df['id'] = lista\n",
    "df"
   ]
  },
  {
   "cell_type": "code",
   "execution_count": null,
   "metadata": {},
   "outputs": [],
   "source": [
    "# sem passar o inplace\n",
    "df.set_index('id')\n"
   ]
  },
  {
   "cell_type": "code",
   "execution_count": null,
   "metadata": {},
   "outputs": [],
   "source": [
    "df.set_index('id', inplace=True)\n",
    "df"
   ]
  },
  {
   "cell_type": "markdown",
   "metadata": {},
   "source": [
    "O parâmetro `inplace` é também usado em outros métodos com o mesmo fim."
   ]
  },
  {
   "cell_type": "markdown",
   "metadata": {},
   "source": [
    "#### Usando `loc()`\n",
    "\n",
    "A seleção é feita pelo índice do dataframe\n"
   ]
  },
  {
   "cell_type": "code",
   "execution_count": null,
   "metadata": {},
   "outputs": [],
   "source": [
    "df.loc[20]"
   ]
  },
  {
   "cell_type": "code",
   "execution_count": null,
   "metadata": {},
   "outputs": [],
   "source": [
    "# podemos passar uma lista, que será retornada na ordem informada\n",
    "df.loc[[90,10,30]]"
   ]
  },
  {
   "cell_type": "markdown",
   "metadata": {},
   "source": [
    "Quando fatiamos, *excepcionalmente com o loc* o intervalo é fechado para os dois extremos\n",
    "\n",
    "Ou seja, será retornado o valor de índice final"
   ]
  },
  {
   "cell_type": "code",
   "execution_count": null,
   "metadata": {},
   "outputs": [],
   "source": [
    "df.loc[10:40]"
   ]
  },
  {
   "cell_type": "markdown",
   "metadata": {},
   "source": [
    "Podemos também especificar as colunas"
   ]
  },
  {
   "cell_type": "code",
   "execution_count": null,
   "metadata": {},
   "outputs": [],
   "source": [
    "df.loc[10:10, ['day', 'month']]"
   ]
  },
  {
   "cell_type": "code",
   "execution_count": null,
   "metadata": {},
   "outputs": [],
   "source": [
    "df.loc[10:10, 'category']"
   ]
  },
  {
   "cell_type": "markdown",
   "metadata": {},
   "source": [
    "**`loc()` com condicionais (booleanas)**"
   ]
  },
  {
   "cell_type": "code",
   "execution_count": null,
   "metadata": {},
   "outputs": [],
   "source": [
    "df['category'] == 'student'"
   ]
  },
  {
   "cell_type": "code",
   "execution_count": null,
   "metadata": {},
   "outputs": [],
   "source": [
    "df.loc[df['category'] == 'student']"
   ]
  },
  {
   "cell_type": "markdown",
   "metadata": {},
   "source": [
    "#### Usando `iloc()`\n",
    "\n",
    "A seleção é feita pela posição de linha e coluna relativa ao início, começando por zero, como se fosse uma matriz\n"
   ]
  },
  {
   "cell_type": "code",
   "execution_count": null,
   "metadata": {},
   "outputs": [],
   "source": [
    "df"
   ]
  },
  {
   "cell_type": "code",
   "execution_count": null,
   "metadata": {},
   "outputs": [],
   "source": [
    "df.iloc[1]"
   ]
  },
  {
   "cell_type": "code",
   "execution_count": null,
   "metadata": {},
   "outputs": [],
   "source": [
    "cat_pos1 = df.iloc[1,3]\n",
    "print(cat_pos1)"
   ]
  },
  {
   "cell_type": "code",
   "execution_count": null,
   "metadata": {},
   "outputs": [],
   "source": [
    "df.iloc[:,3]"
   ]
  },
  {
   "cell_type": "markdown",
   "metadata": {},
   "source": [
    "Aqui também podemos usar o atributo `values`"
   ]
  },
  {
   "cell_type": "code",
   "execution_count": null,
   "metadata": {},
   "outputs": [],
   "source": [
    "lista_cats = list(df.iloc[:,3].values)\n",
    "print(lista_cats)"
   ]
  },
  {
   "cell_type": "markdown",
   "metadata": {},
   "source": [
    "É possível fatiar ambas linhas e colunas, \n",
    "* padrão Python, em que o elemento final representa um intervalo ABERTO, ou seja não é retornado"
   ]
  },
  {
   "cell_type": "code",
   "execution_count": null,
   "metadata": {},
   "outputs": [],
   "source": [
    "df.iloc[3:5]"
   ]
  },
  {
   "cell_type": "code",
   "execution_count": null,
   "metadata": {},
   "outputs": [],
   "source": [
    "df.iloc[3:5,2:3]"
   ]
  },
  {
   "cell_type": "markdown",
   "metadata": {},
   "source": [
    "`iloc()` e `loc()` retornam uma cópia do dataframe"
   ]
  },
  {
   "cell_type": "code",
   "execution_count": null,
   "metadata": {},
   "outputs": [],
   "source": [
    "subdf1 = df.iloc[3:6, 2:]\n",
    "subdf1.iloc[2, 0] = -1\n",
    "print(subdf1)"
   ]
  },
  {
   "cell_type": "code",
   "execution_count": null,
   "metadata": {},
   "outputs": [],
   "source": [
    "df"
   ]
  },
  {
   "cell_type": "code",
   "execution_count": 21,
   "metadata": {},
   "outputs": [
    {
     "name": "stdout",
     "output_type": "stream",
     "text": [
      "Empty DataFrame\n",
      "Columns: [num access, category]\n",
      "Index: []\n"
     ]
    }
   ],
   "source": [
    "subdf2 = df.loc[40:60,['num access', 'category']]\n",
    "subdf2.iloc[1:, 0] = -1\n",
    "print(subdf2)"
   ]
  },
  {
   "cell_type": "code",
   "execution_count": null,
   "metadata": {},
   "outputs": [],
   "source": [
    "df"
   ]
  },
  {
   "cell_type": "code",
   "execution_count": null,
   "metadata": {},
   "outputs": [],
   "source": []
  }
 ],
 "metadata": {
  "colab": {
   "collapsed_sections": [],
   "name": "Python III.ipynb",
   "provenance": []
  },
  "kernelspec": {
   "name": "python3",
   "display_name": "Python 3.8.8 64-bit ('bpipi': virtualenv)"
  },
  "language_info": {
   "codemirror_mode": {
    "name": "ipython",
    "version": 3
   },
   "file_extension": ".py",
   "mimetype": "text/x-python",
   "name": "python",
   "nbconvert_exporter": "python",
   "pygments_lexer": "ipython3",
   "version": "3.8.8"
  },
  "toc": {
   "base_numbering": 1,
   "nav_menu": {},
   "number_sections": true,
   "sideBar": true,
   "skip_h1_title": false,
   "title_cell": "Table of Contents",
   "title_sidebar": "Contents",
   "toc_cell": false,
   "toc_position": {},
   "toc_section_display": true,
   "toc_window_display": false
  },
  "interpreter": {
   "hash": "56f943e18a32ea084b4476eca422bb50fb7e1fc98b2d150bdf152e6d8d95d564"
  }
 },
 "nbformat": 4,
 "nbformat_minor": 1
}