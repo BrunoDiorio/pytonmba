{
 "cells": [
  {
   "cell_type": "markdown",
   "metadata": {
    "colab_type": "text",
    "id": "Wu7ck6xvaP6b"
   },
   "source": [
    "# <font color=\"red\"> MBA em IA e Big Data</font>\n",
    "## <span style=\"color:red\">Linguagens e Ferramentas para Inteligência Artificial e Big Data (Python e SQL)</span>\n",
    "\n",
    "### <span style=\"color:darkred\">Python: conceitos básicos da linguagem</span>\n",
    "\n",
    "*Moacir Antonelli Ponti*<br>\n",
    "*ICMC/USP São Carlos*\n",
    "\n",
    "*(com material do Prof. Luis Gustavo Nonato)*"
   ]
  },
  {
   "cell_type": "markdown",
   "metadata": {
    "colab_type": "text",
    "id": "wOM5dIGtaP6d"
   },
   "source": [
    "### Conteúdo:\n",
    "- Python\n",
    "- Memória\n",
    "- Comentários e saída\n",
    "- Sequências\n",
    "- Estruturas de controle\n",
    "- Definindo funções"
   ]
  },
  {
   "cell_type": "markdown",
   "metadata": {
    "colab_type": "text",
    "id": "uMSKPCbnaP6e"
   },
   "source": [
    "# O que é Python?\n",
    "\n",
    "Python é uma linguagem de programação dinâmica e interpretada. \n",
    "\n",
    "As instruções são realizadas em *tempo de execução* e **diretamente ao invés de ser compilado**.\n",
    "\n",
    "> Compilação: significa que a linguagem é processada antes por um programa *compilador* e transformada em um arquivo binário executável\n",
    "\n",
    "> Interpretação: significa que a linguagem é processada instrução por instrução por um programa *interpretador*\n",
    "\n",
    "Um código em Python é um conjunto de símbolos e regras pré-definidas dessa linguagem\n",
    "* geralmente armazenamos esse código em um arquivo texto com extensão `.py`\n"
   ]
  },
  {
   "cell_type": "markdown",
   "metadata": {},
   "source": [
    "## Interpretador Python\n",
    "\n",
    "É basicamente um \"console\" ou \"terminal\" em que digitamos comandos em sequência\n",
    "\n",
    "Para configurar o Python no computador, é necessário fazer o download e instalar o kit de desenvolvimento em Python - https://www.python.org/downloads/\n",
    "\n",
    "Instalar a versão de acordo com Sistema Operacional, ex. Mac OSX, Linux, etc.\n",
    "\n",
    "Distribuições Linux geralmente possuem Python nativamente."
   ]
  },
  {
   "cell_type": "markdown",
   "metadata": {},
   "source": [
    "## Código-fonte Python\n",
    "\n",
    "Um arquivo contendo um código em python possui extensão `.py`\n",
    "\n",
    "Escrevemos funções e programas para serem carregados posteriormente e utilizados num interpretador.\n",
    "\n",
    "* O programador reúne seus principais programas e scripts em arquivos *.py* e depois abre e utiliza esses programas no interpretador."
   ]
  },
  {
   "cell_type": "markdown",
   "metadata": {},
   "source": [
    "## Notebook\n",
    "\n",
    "Permite misturar *código* com *conteúdo de apresentação*, salvando os resultados dos códigos, inclusive gráficos.\n",
    "\n",
    "* Arquivo notebook tem extensão `.ipynb`, utilizado para prototipação e apresentações e não para codificar programas a colocar em *produção*\n",
    "\n",
    "> Na computação separamos programas em *desenvolvimento* daqueles efetivamente funcionando na prática **em produção**\n",
    "\n",
    "O notebook também permite código em *HTML* e linguagem *Markdown*"
   ]
  },
  {
   "cell_type": "markdown",
   "metadata": {},
   "source": [
    "### Tipos de arquivo\n",
    "\n",
    "* Programa em Python (`.py` tipo texto)\n",
    "* Notebook (`.ipynb`) tem foco na *apresentação* e permite tanto código quanto linguagem *Markdown/HTML*\n",
    "\n",
    "Essa interface que estamos usando, chamada **Jupyter Notebook** funciona como interpretador Python! "
   ]
  },
  {
   "cell_type": "code",
   "execution_count": 1,
   "metadata": {},
   "outputs": [
    {
     "data": {
      "text/plain": [
       "-6.333333333333336"
      ]
     },
     "execution_count": 1,
     "metadata": {},
     "output_type": "execute_result"
    }
   ],
   "source": [
    "50 + 10 / 1.5 - 63"
   ]
  },
  {
   "cell_type": "code",
   "execution_count": 2,
   "metadata": {},
   "outputs": [
    {
     "data": {
      "text/plain": [
       "49.333333333333336"
      ]
     },
     "execution_count": 2,
     "metadata": {},
     "output_type": "execute_result"
    }
   ],
   "source": [
    "x = 2\n",
    "50 + x / 1.5 - x"
   ]
  },
  {
   "cell_type": "markdown",
   "metadata": {
    "colab_type": "text",
    "id": "yzfpXpz-aP6g"
   },
   "source": [
    "# Usando a *memória* do computador\n",
    "\n",
    "Um dos elementos mais importantes do computador é a sua memória, onde podemos:\n",
    "* armazenar dados \n",
    "* recuperar dados \n",
    "para posteriormente processá-los\n",
    "\n",
    "Eletronicamente, a memória codifica dados em **bits** - valores 0 e 1 fisicamente armazenados utilizando corrente elétrica\n",
    "\n",
    "Os bits são concatenados para representar valores mais complexos. \n",
    "\n",
    "Por exemplo, considerando os números inteiros\n",
    "> 00000001 é equivamente ao número `1`<br>\n",
    "> 00001000 é equivamente ao número `8`<br>\n",
    "> ...<br>\n",
    "> 00100011 é equivamente ao número `35`<br>\n",
    "\n",
    "Já se queremos representar caracteres\n",
    "> 01100001 representa a letra `a`<br>\n",
    "> 00100011 representa o caracter `#`\n",
    "\n",
    "**Mas como diferenciar** `#` de `35`?"
   ]
  },
  {
   "cell_type": "markdown",
   "metadata": {},
   "source": [
    "Em Python os chamados *literais* ou valores possuem um **tipo**\n",
    "\n",
    "* o tipo define a interpretação dos bits e o que podemos fazer com esse dado\n",
    "\n",
    "Existe uma **função** em Python para saber o tipo: `type()`"
   ]
  },
  {
   "cell_type": "code",
   "execution_count": 3,
   "metadata": {},
   "outputs": [
    {
     "data": {
      "text/plain": [
       "int"
      ]
     },
     "execution_count": 3,
     "metadata": {},
     "output_type": "execute_result"
    }
   ],
   "source": [
    "type(35)"
   ]
  },
  {
   "cell_type": "markdown",
   "metadata": {},
   "source": [
    "O tipo `int` é relativo a números inteiros"
   ]
  },
  {
   "cell_type": "code",
   "execution_count": 4,
   "metadata": {},
   "outputs": [
    {
     "data": {
      "text/plain": [
       "40"
      ]
     },
     "execution_count": 4,
     "metadata": {},
     "output_type": "execute_result"
    }
   ],
   "source": [
    "35 + 5"
   ]
  },
  {
   "cell_type": "code",
   "execution_count": 5,
   "metadata": {},
   "outputs": [
    {
     "data": {
      "text/plain": [
       "int"
      ]
     },
     "execution_count": 5,
     "metadata": {},
     "output_type": "execute_result"
    }
   ],
   "source": [
    "type(35 + 5)"
   ]
  },
  {
   "cell_type": "code",
   "execution_count": 6,
   "metadata": {},
   "outputs": [
    {
     "data": {
      "text/plain": [
       "str"
      ]
     },
     "execution_count": 6,
     "metadata": {},
     "output_type": "execute_result"
    }
   ],
   "source": [
    "type('#')"
   ]
  },
  {
   "cell_type": "markdown",
   "metadata": {},
   "source": [
    "O tipo `str` é relativo a *strings*, em Português *cadeias/sequências de caracteres*"
   ]
  },
  {
   "cell_type": "code",
   "execution_count": 7,
   "metadata": {},
   "outputs": [
    {
     "data": {
      "text/plain": [
       "'#bigdata'"
      ]
     },
     "execution_count": 7,
     "metadata": {},
     "output_type": "execute_result"
    }
   ],
   "source": [
    "'#' + 'bigdata'"
   ]
  },
  {
   "cell_type": "code",
   "execution_count": 8,
   "metadata": {},
   "outputs": [
    {
     "ename": "TypeError",
     "evalue": "can only concatenate str (not \"int\") to str",
     "output_type": "error",
     "traceback": [
      "\u001b[0;31m---------------------------------------------------------------------------\u001b[0m",
      "\u001b[0;31mTypeError\u001b[0m                                 Traceback (most recent call last)",
      "\u001b[0;32m<ipython-input-8-52e7e3887fa5>\u001b[0m in \u001b[0;36m<module>\u001b[0;34m\u001b[0m\n\u001b[0;32m----> 1\u001b[0;31m \u001b[0;34m'#'\u001b[0m \u001b[0;34m+\u001b[0m \u001b[0;36m35\u001b[0m\u001b[0;34m\u001b[0m\u001b[0;34m\u001b[0m\u001b[0m\n\u001b[0m",
      "\u001b[0;31mTypeError\u001b[0m: can only concatenate str (not \"int\") to str"
     ]
    }
   ],
   "source": [
    "'#' + 35"
   ]
  },
  {
   "cell_type": "markdown",
   "metadata": {},
   "source": [
    "**nosso primeiro erro!** (de muitos)\n",
    "> *é possível concatenar apenas str (e nao \"int\") com str*\n",
    "\n",
    "Sem saber já aprendemos que o `+` significa adição para inteiros, mas significa concatenação para strings"
   ]
  },
  {
   "cell_type": "markdown",
   "metadata": {},
   "source": [
    "## Tipos mais comuns\n",
    "\n",
    "### Inteiro - *int*\n",
    "- Ex: `42`\n",
    "\n",
    "### Ponto flutuante - *float*\n",
    "Simula números reais, porém sua precisão é limitada (e não infinita)\n",
    "\n",
    "- Ex: `3.14`, `3.14e-10`, `.0001`, `4.`\n",
    "\n",
    "### Booleanos - *bool*\n",
    "Resultado de uma expressão lógica\n",
    "- Ex: `True`, `False`\n",
    "\n",
    "### Cadeia de caracteres - *string*\n",
    "Descrita entre aspas, é também uma sequência (abordaremos posteriormente sequências)\n",
    "- Ex: `'palavra'`, `'uma frase'`\n",
    "\n",
    "### Números complexos\n",
    "- Ex: `3j`, `4+5j`\n"
   ]
  },
  {
   "cell_type": "code",
   "execution_count": 9,
   "metadata": {},
   "outputs": [
    {
     "data": {
      "text/plain": [
       "42"
      ]
     },
     "execution_count": 9,
     "metadata": {},
     "output_type": "execute_result"
    }
   ],
   "source": [
    "42"
   ]
  },
  {
   "cell_type": "code",
   "execution_count": 10,
   "metadata": {},
   "outputs": [
    {
     "data": {
      "text/plain": [
       "int"
      ]
     },
     "execution_count": 10,
     "metadata": {},
     "output_type": "execute_result"
    }
   ],
   "source": [
    "type(42)"
   ]
  },
  {
   "cell_type": "code",
   "execution_count": 11,
   "metadata": {},
   "outputs": [
    {
     "data": {
      "text/plain": [
       "3.14"
      ]
     },
     "execution_count": 11,
     "metadata": {},
     "output_type": "execute_result"
    }
   ],
   "source": [
    "3.14"
   ]
  },
  {
   "cell_type": "code",
   "execution_count": 12,
   "metadata": {},
   "outputs": [
    {
     "data": {
      "text/plain": [
       "float"
      ]
     },
     "execution_count": 12,
     "metadata": {},
     "output_type": "execute_result"
    }
   ],
   "source": [
    "type(3.14)"
   ]
  },
  {
   "cell_type": "code",
   "execution_count": 13,
   "metadata": {},
   "outputs": [
    {
     "data": {
      "text/plain": [
       "0.12345678901234568"
      ]
     },
     "execution_count": 13,
     "metadata": {},
     "output_type": "execute_result"
    }
   ],
   "source": [
    ".12345678901234567890123456789"
   ]
  },
  {
   "cell_type": "code",
   "execution_count": 14,
   "metadata": {},
   "outputs": [
    {
     "data": {
      "text/plain": [
       "3000000.0"
      ]
     },
     "execution_count": 14,
     "metadata": {},
     "output_type": "execute_result"
    }
   ],
   "source": [
    "3e6"
   ]
  },
  {
   "cell_type": "code",
   "execution_count": 15,
   "metadata": {},
   "outputs": [
    {
     "data": {
      "text/plain": [
       "0.0015"
      ]
     },
     "execution_count": 15,
     "metadata": {},
     "output_type": "execute_result"
    }
   ],
   "source": [
    "1.5e-3"
   ]
  },
  {
   "cell_type": "code",
   "execution_count": 16,
   "metadata": {},
   "outputs": [
    {
     "data": {
      "text/plain": [
       "13.375796178343949"
      ]
     },
     "execution_count": 16,
     "metadata": {},
     "output_type": "execute_result"
    }
   ],
   "source": [
    "42 / 3.14"
   ]
  },
  {
   "cell_type": "code",
   "execution_count": 17,
   "metadata": {},
   "outputs": [
    {
     "data": {
      "text/plain": [
       "bool"
      ]
     },
     "execution_count": 17,
     "metadata": {},
     "output_type": "execute_result"
    }
   ],
   "source": [
    "type(True)"
   ]
  },
  {
   "cell_type": "code",
   "execution_count": 18,
   "metadata": {},
   "outputs": [
    {
     "data": {
      "text/plain": [
       "False"
      ]
     },
     "execution_count": 18,
     "metadata": {},
     "output_type": "execute_result"
    }
   ],
   "source": [
    "42 == 3.14"
   ]
  },
  {
   "cell_type": "code",
   "execution_count": 19,
   "metadata": {},
   "outputs": [
    {
     "data": {
      "text/plain": [
       "bool"
      ]
     },
     "execution_count": 19,
     "metadata": {},
     "output_type": "execute_result"
    }
   ],
   "source": [
    "type(42 > 3.14)"
   ]
  },
  {
   "cell_type": "code",
   "execution_count": 20,
   "metadata": {},
   "outputs": [
    {
     "data": {
      "text/plain": [
       "'big data and artificial intelligence'"
      ]
     },
     "execution_count": 20,
     "metadata": {},
     "output_type": "execute_result"
    }
   ],
   "source": [
    "'big data and artificial intelligence'"
   ]
  },
  {
   "cell_type": "code",
   "execution_count": 21,
   "metadata": {},
   "outputs": [
    {
     "data": {
      "text/plain": [
       "str"
      ]
     },
     "execution_count": 21,
     "metadata": {},
     "output_type": "execute_result"
    }
   ],
   "source": [
    "type('big data')"
   ]
  },
  {
   "cell_type": "code",
   "execution_count": 22,
   "metadata": {},
   "outputs": [
    {
     "data": {
      "text/plain": [
       "10j"
      ]
     },
     "execution_count": 22,
     "metadata": {},
     "output_type": "execute_result"
    }
   ],
   "source": [
    "10j"
   ]
  },
  {
   "cell_type": "code",
   "execution_count": 23,
   "metadata": {},
   "outputs": [
    {
     "data": {
      "text/plain": [
       "complex"
      ]
     },
     "execution_count": 23,
     "metadata": {},
     "output_type": "execute_result"
    }
   ],
   "source": [
    "type(10j)"
   ]
  },
  {
   "cell_type": "code",
   "execution_count": 24,
   "metadata": {
    "scrolled": true
   },
   "outputs": [
    {
     "data": {
      "text/plain": [
       "(50+10j)"
      ]
     },
     "execution_count": 24,
     "metadata": {},
     "output_type": "execute_result"
    }
   ],
   "source": [
    "50+10j"
   ]
  },
  {
   "cell_type": "code",
   "execution_count": 25,
   "metadata": {},
   "outputs": [
    {
     "data": {
      "text/plain": [
       "(-30+150j)"
      ]
     },
     "execution_count": 25,
     "metadata": {},
     "output_type": "execute_result"
    }
   ],
   "source": [
    "(50+10j) * 3j"
   ]
  },
  {
   "cell_type": "markdown",
   "metadata": {},
   "source": [
    "## Variáveis\n",
    "\n",
    "São **símbolos** com identificadores associados a **valores/literais** guardados na memória\n",
    "\n",
    "Basta:\n",
    "* nomear utilizando um identificador contendo: caracteres em mínusculo, maiúsculo, underscore (\\_)\n",
    "* *atribuir* seu primeiro valor com o operador `=`\n",
    "\n",
    "Podemos usar dígitos, mas nunca como primeiro caracter do identificador."
   ]
  },
  {
   "cell_type": "code",
   "execution_count": 26,
   "metadata": {},
   "outputs": [],
   "source": [
    "x = 42\n",
    "y = 42.0\n",
    "_frase = 'inteligência artificial'"
   ]
  },
  {
   "cell_type": "markdown",
   "metadata": {},
   "source": [
    "Para recuperar os valores basta usar os símbolos/identificadores"
   ]
  },
  {
   "cell_type": "code",
   "execution_count": 27,
   "metadata": {},
   "outputs": [
    {
     "data": {
      "text/plain": [
       "42"
      ]
     },
     "execution_count": 27,
     "metadata": {},
     "output_type": "execute_result"
    }
   ],
   "source": [
    "x"
   ]
  },
  {
   "cell_type": "code",
   "execution_count": 28,
   "metadata": {},
   "outputs": [
    {
     "data": {
      "text/plain": [
       "1.0"
      ]
     },
     "execution_count": 28,
     "metadata": {},
     "output_type": "execute_result"
    }
   ],
   "source": [
    "x/y"
   ]
  },
  {
   "cell_type": "code",
   "execution_count": 29,
   "metadata": {},
   "outputs": [
    {
     "data": {
      "text/plain": [
       "'inteligência artificial e big data'"
      ]
     },
     "execution_count": 29,
     "metadata": {},
     "output_type": "execute_result"
    }
   ],
   "source": [
    "_frase + ' e big data'"
   ]
  },
  {
   "cell_type": "code",
   "execution_count": 30,
   "metadata": {},
   "outputs": [
    {
     "data": {
      "text/plain": [
       "'inteligência artificial e big data'"
      ]
     },
     "execution_count": 30,
     "metadata": {},
     "output_type": "execute_result"
    }
   ],
   "source": [
    "nova_frase = _frase + ' e big data'\n",
    "nova_frase"
   ]
  },
  {
   "cell_type": "code",
   "execution_count": 31,
   "metadata": {},
   "outputs": [
    {
     "ename": "NameError",
     "evalue": "name '_FRASE' is not defined",
     "output_type": "error",
     "traceback": [
      "\u001b[0;31m---------------------------------------------------------------------------\u001b[0m",
      "\u001b[0;31mNameError\u001b[0m                                 Traceback (most recent call last)",
      "\u001b[0;32m<ipython-input-31-593ed7c07943>\u001b[0m in \u001b[0;36m<module>\u001b[0;34m\u001b[0m\n\u001b[0;32m----> 1\u001b[0;31m \u001b[0m_FRASE\u001b[0m\u001b[0;34m\u001b[0m\u001b[0;34m\u001b[0m\u001b[0m\n\u001b[0m",
      "\u001b[0;31mNameError\u001b[0m: name '_FRASE' is not defined"
     ]
    }
   ],
   "source": [
    "_FRASE"
   ]
  },
  {
   "cell_type": "markdown",
   "metadata": {},
   "source": [
    "**erro: `_FRASE` não foi definido**\n",
    "\n",
    "a nomeação de identificadores é sensivel à caixa (*case sensitive*)"
   ]
  },
  {
   "cell_type": "markdown",
   "metadata": {},
   "source": [
    "#### Palavras Reservadas\n",
    "\n",
    "Há exceções para o uso de identificadores, pois há palavras que já são parte do código Python e são vedadas para evitar ambiguidade\n",
    "\n",
    "Ex: `False, if, not, and, None, global, try`, entre outras\n",
    "\n",
    "É razoavelmente fácil identificar essas palavras pois a maior parte dos interpretadores e interfaces colorem essas palavras quando digitadas, em negrito e alguma cor (aqui estará em verde escuro)"
   ]
  },
  {
   "cell_type": "code",
   "execution_count": 32,
   "metadata": {},
   "outputs": [
    {
     "ename": "SyntaxError",
     "evalue": "cannot assign to False (<ipython-input-32-7284c941258b>, line 1)",
     "output_type": "error",
     "traceback": [
      "\u001b[0;36m  File \u001b[0;32m\"<ipython-input-32-7284c941258b>\"\u001b[0;36m, line \u001b[0;32m1\u001b[0m\n\u001b[0;31m    False = 45.1\u001b[0m\n\u001b[0m    ^\u001b[0m\n\u001b[0;31mSyntaxError\u001b[0m\u001b[0;31m:\u001b[0m cannot assign to False\n"
     ]
    }
   ],
   "source": [
    "False = 45.1"
   ]
  },
  {
   "cell_type": "code",
   "execution_count": 33,
   "metadata": {},
   "outputs": [
    {
     "ename": "SyntaxError",
     "evalue": "invalid syntax (<ipython-input-33-17d26d14a71d>, line 1)",
     "output_type": "error",
     "traceback": [
      "\u001b[0;36m  File \u001b[0;32m\"<ipython-input-33-17d26d14a71d>\"\u001b[0;36m, line \u001b[0;32m1\u001b[0m\n\u001b[0;31m    if = 'se eu fosse'\u001b[0m\n\u001b[0m       ^\u001b[0m\n\u001b[0;31mSyntaxError\u001b[0m\u001b[0;31m:\u001b[0m invalid syntax\n"
     ]
    }
   ],
   "source": [
    "if = 'se eu fosse'"
   ]
  },
  {
   "cell_type": "code",
   "execution_count": 34,
   "metadata": {},
   "outputs": [],
   "source": [
    "IF = 'se eu fosse'"
   ]
  },
  {
   "cell_type": "markdown",
   "metadata": {},
   "source": [
    "agora funciona pois `if` e `IF` são identificadores distintos"
   ]
  },
  {
   "cell_type": "markdown",
   "metadata": {},
   "source": [
    "## Comentários de código e saída de dados"
   ]
  },
  {
   "cell_type": "code",
   "execution_count": 35,
   "metadata": {
    "colab": {
     "base_uri": "https://localhost:8080/",
     "height": 70
    },
    "colab_type": "code",
    "executionInfo": {
     "elapsed": 1482,
     "status": "ok",
     "timestamp": 1594143629447,
     "user": {
      "displayName": "Luis Gustavo Nonato",
      "photoUrl": "",
      "userId": "16109025348268293164"
     },
     "user_tz": 180
    },
    "id": "BK1zXr7-aP6i",
    "outputId": "560487fa-79fb-4958-95f8-3d351d7b8314"
   },
   "outputs": [
    {
     "name": "stdout",
     "output_type": "stream",
     "text": [
      "Tipo da variavel x =  <class 'int'>\n",
      "Tipo da variavel y =  <class 'str'>\n",
      "Tipo da variavel z =  <class 'float'>\n"
     ]
    }
   ],
   "source": [
    "# Comentários de uma linha em Python são iniciados com \"#\"\n",
    "# --> tudo que vem após \"#\" é ignorado e não considerado código\n",
    "\n",
    "x = 36      # Criando e inicializando x como número inteiro (int)\n",
    "y = 'Hello' # Criando e inicializando y como um conjunto de caracteres (str)\n",
    "z = 3.45    # Criando e inicializando z como um número real (float)\n",
    "\n",
    "#### Imprimindo os tipos de cada variável com as funções:\n",
    "# print(): utilizada para exibir o conteúdo de variáveis, textos, \n",
    "#          ou o resultado de operações e funções\n",
    "# type(): que retorna o tipo da literal/valor informado\n",
    "\n",
    "print('Tipo da variavel x = ',type(x))\n",
    "print('Tipo da variavel y = ',type(y))\n",
    "print('Tipo da variavel z = ',type(z))"
   ]
  },
  {
   "cell_type": "markdown",
   "metadata": {
    "colab_type": "text",
    "id": "KEOrbWQcaP6t"
   },
   "source": [
    "- A atrubuição cria e inicializa as variáveis\n",
    "- Cada tipo admite certas operações"
   ]
  },
  {
   "cell_type": "code",
   "execution_count": 36,
   "metadata": {
    "colab": {
     "base_uri": "https://localhost:8080/",
     "height": 87
    },
    "colab_type": "code",
    "executionInfo": {
     "elapsed": 737,
     "status": "ok",
     "timestamp": 1594143803632,
     "user": {
      "displayName": "Luis Gustavo Nonato",
      "photoUrl": "",
      "userId": "16109025348268293164"
     },
     "user_tz": 180
    },
    "id": "-KNJbNFlaP6v",
    "outputId": "36cd5d5d-dc61-40bb-d1b0-608745df70a3"
   },
   "outputs": [
    {
     "name": "stdout",
     "output_type": "stream",
     "text": [
      "x =  37 <class 'int'>\n",
      "y =  Rio grande <class 'str'>\n",
      "z =  5.45 <class 'float'>\n",
      "w =  18.5 <class 'float'>\n"
     ]
    }
   ],
   "source": [
    "# criando variáveis e atribuindo valores\n",
    "x = 36     \n",
    "y = \"Rio\" \n",
    "z = 3.45  \n",
    "\n",
    "x = x + 1         # preserva o tipo int\n",
    "y = y + \" grande\" # Concatenação de strings\n",
    "z = 2 + z         # preserva o tipo float\n",
    "w = x / 2         # embora x seja inteiro, a operação de divisão resulta em um float\n",
    "    \n",
    "# Imprimindo os resultados\n",
    "print('x = ',x,type(x))\n",
    "print('y = ',y,type(y))\n",
    "print('z = ',z,type(z))\n",
    "print('w = ',w,type(z))"
   ]
  },
  {
   "cell_type": "markdown",
   "metadata": {},
   "source": [
    "### Expressões aritméticas\n",
    "\n",
    "* Soma: `+`\n",
    "* Subtração: `-`\n",
    "* Multiplicação: `*`\n",
    "* Divisão: `/`\n",
    "* Divisão inteira: `//`\n",
    "* Resto da divisão: `%`\n",
    "* Exponenciação: `**`"
   ]
  },
  {
   "cell_type": "code",
   "execution_count": 37,
   "metadata": {
    "colab": {
     "base_uri": "https://localhost:8080/",
     "height": 34
    },
    "colab_type": "code",
    "executionInfo": {
     "elapsed": 1236,
     "status": "ok",
     "timestamp": 1594224498524,
     "user": {
      "displayName": "Tobias Mesquita Silva da Veiga",
      "photoUrl": "",
      "userId": "07074270641721439373"
     },
     "user_tz": 180
    },
    "id": "iLulysHxLwbX",
    "outputId": "a8070ceb-fff3-46a5-9ef0-5e819b5f57bf"
   },
   "outputs": [
    {
     "data": {
      "text/plain": [
       "8"
      ]
     },
     "execution_count": 37,
     "metadata": {},
     "output_type": "execute_result"
    }
   ],
   "source": [
    "2 ** 3"
   ]
  },
  {
   "cell_type": "code",
   "execution_count": 38,
   "metadata": {
    "colab": {
     "base_uri": "https://localhost:8080/",
     "height": 34
    },
    "colab_type": "code",
    "executionInfo": {
     "elapsed": 1037,
     "status": "ok",
     "timestamp": 1594224516186,
     "user": {
      "displayName": "Tobias Mesquita Silva da Veiga",
      "photoUrl": "",
      "userId": "07074270641721439373"
     },
     "user_tz": 180
    },
    "id": "5PZpCWWzL1A5",
    "outputId": "08f1cba1-0a8c-4f8d-c6bf-f2884975449b"
   },
   "outputs": [
    {
     "data": {
      "text/plain": [
       "2"
      ]
     },
     "execution_count": 38,
     "metadata": {},
     "output_type": "execute_result"
    }
   ],
   "source": [
    "5 // 2"
   ]
  },
  {
   "cell_type": "code",
   "execution_count": 39,
   "metadata": {},
   "outputs": [
    {
     "data": {
      "text/plain": [
       "2"
      ]
     },
     "execution_count": 39,
     "metadata": {},
     "output_type": "execute_result"
    }
   ],
   "source": [
    "17 % 5"
   ]
  },
  {
   "cell_type": "markdown",
   "metadata": {
    "colab_type": "text",
    "id": "M9YQqT4YaP62"
   },
   "source": [
    "- *strings* (str) suportam os operadores ``+`` (concatenação) e ``*`` (replicação), resultando em novas strings."
   ]
  },
  {
   "cell_type": "code",
   "execution_count": 40,
   "metadata": {
    "colab": {},
    "colab_type": "code",
    "id": "roD0Z4Z2aP64",
    "outputId": "13119066-bec6-44ad-e0c2-e2919c322fb7"
   },
   "outputs": [
    {
     "name": "stdout",
     "output_type": "stream",
     "text": [
      "Concatenacao y + ' Python ':  Aprendendo Python \n",
      "3*y replica y três vezes:  Aprendendo Python Aprendendo Python Aprendendo Python \n"
     ]
    }
   ],
   "source": [
    "# Exemplo da \"aritmética\" com strings\n",
    "y = 'Aprendendo'\n",
    "y = y + ' Python '\n",
    "print(\"Concatenacao y + ' Python ': \",y)\n",
    "w = 3*y   # A operação de replicação \"*\" asume um número inteiro e uma string como argumentos\n",
    "print(\"3*y replica y três vezes: \",w)"
   ]
  },
  {
   "cell_type": "markdown",
   "metadata": {
    "colab_type": "text",
    "id": "mDhh6IzJaP6-"
   },
   "source": [
    "**Propriedades de uso da memória**\n",
    "- Uma *variável* é uma *instância de um objeto* em Python alocado na memória\n",
    "- Se você tentar acessar uma variável antes que ela tenha sido criada, ocorre um erro\n",
    "- É possível atribuir valores a multiplas variáveis ao mesmo tempo"
   ]
  },
  {
   "cell_type": "code",
   "execution_count": 41,
   "metadata": {},
   "outputs": [
    {
     "ename": "NameError",
     "evalue": "name 'var' is not defined",
     "output_type": "error",
     "traceback": [
      "\u001b[0;31m---------------------------------------------------------------------------\u001b[0m",
      "\u001b[0;31mNameError\u001b[0m                                 Traceback (most recent call last)",
      "\u001b[0;32m<ipython-input-41-84ddba356ca3>\u001b[0m in \u001b[0;36m<module>\u001b[0;34m\u001b[0m\n\u001b[0;32m----> 1\u001b[0;31m \u001b[0mvar\u001b[0m\u001b[0;34m\u001b[0m\u001b[0;34m\u001b[0m\u001b[0m\n\u001b[0m",
      "\u001b[0;31mNameError\u001b[0m: name 'var' is not defined"
     ]
    }
   ],
   "source": [
    "var"
   ]
  },
  {
   "cell_type": "code",
   "execution_count": null,
   "metadata": {},
   "outputs": [],
   "source": [
    "a, b = 5, 10\n",
    "print(a)\n",
    "print(b)"
   ]
  },
  {
   "cell_type": "markdown",
   "metadata": {},
   "source": [
    "#### Conversão: explícita e implícita"
   ]
  },
  {
   "cell_type": "code",
   "execution_count": 42,
   "metadata": {
    "colab": {
     "base_uri": "https://localhost:8080/",
     "height": 70
    },
    "colab_type": "code",
    "executionInfo": {
     "elapsed": 1053,
     "status": "ok",
     "timestamp": 1594144414573,
     "user": {
      "displayName": "Luis Gustavo Nonato",
      "photoUrl": "",
      "userId": "16109025348268293164"
     },
     "user_tz": 180
    },
    "id": "ZlM84h9qaP7C",
    "outputId": "fbabc057-6936-4332-beb3-493af54edb70"
   },
   "outputs": [
    {
     "name": "stdout",
     "output_type": "stream",
     "text": [
      "x = 2.76  | tipo: <class 'float'>\n",
      "y = 2     | tipo: <class 'int'>\n",
      "z = False | tipo: <class 'bool'>\n"
     ]
    }
   ],
   "source": [
    "# exemplos de conversão explícita e implícita\n",
    "x = 2.76\n",
    "y = int(x)  # convertendo float para int\n",
    "z = y == 1  # resultado da comparação y == 1 (True/False) é armazenado em z\n",
    "\n",
    "print(\"x =\", x, \" | tipo:\", type(x))\n",
    "print(\"y =\", y, \"    | tipo:\", type(y))\n",
    "print(\"z =\", z, \"| tipo:\", type(z))"
   ]
  },
  {
   "cell_type": "markdown",
   "metadata": {
    "colab_type": "text",
    "id": "YdrmqhMtaP7H"
   },
   "source": [
    "Uma atribuição como\n",
    "```python\n",
    "x = 2.76\n",
    "```\n",
    "é uma maneira de dar um nome a um objeto (o que é chamado *binding*).\n",
    "- Variáveis em Python não tem um tipo intrínseco, apenas objetos tem tipo\n",
    "- Objetos tem identidade (endereço na memória), um tipo e um valor\n",
    "- O Python determinada o tipo da variável automaticamente baseado no objeto que ela faz referência\n",
    "- A identidade de um objeto e seu tipo não mudam\n",
    "- O valor de um objeto pode mudar"
   ]
  },
  {
   "cell_type": "markdown",
   "metadata": {},
   "source": [
    "---\n",
    "\n",
    "**<font color=\"Blue\">Exercício 1.1</font>**\n",
    "Qual o tipo do valor resultante das operações abaixo (ou das variáveis as quais foram atribuídos)?\n",
    "\n",
    "a) `False + True`<br>\n",
    "b) `2 * 1e2**2`<br>\n",
    "c) `a = 6/2`<br>\n",
    "d) `x = 6//2 + 6%2`<br>\n",
    "e) `(2 + 4) == 4 or 0 <= 1`<br>"
   ]
  },
  {
   "cell_type": "markdown",
   "metadata": {
    "colab_type": "text",
    "id": "fwFG9tNiaP7I"
   },
   "source": [
    "## Sequências\n",
    "\n",
    "Há três tipos nativos de sequências em Python\n",
    "\n",
    "#### Tupla - *tuple*\n",
    "- Sequência ordenada de elementos de qualquer tipo, incluindo outra sequência\n",
    "- Instanciada com valores entre parênteses separados por vírgula, ex: (1, 2, 3)\n",
    "- Elementos podem ser de tipos distintos, incluindo outra sequência\n",
    "- Comumente usadas como \"registros\" cuja ordem determina o significado dos valores que contém\n",
    "- Elementos individuais <font color='red'>não podem ser modificados</font> (imutáveis)\n",
    "\n",
    "#### Lista - *list*\n",
    "- Sequência mutável ordenada de elementos de qualquer tipo, incluindo outra sequência\n",
    "- Instanciada com valores entre colchetes separados por vírgula, ex: [1, 2, 3]\n",
    "- Elementos podem ser modificados, adicionados, removidos, etc.\n",
    "\n",
    "#### String - *str*\n",
    "- Sequência ordenada de caracteres\n",
    "- Instanciada com caracteres entre aspas simples ou duplas, ex: '123abc'\n",
    "- Elementos individuais <font color='red'>não podem ser modificados</font> (imutáveis)\n",
    "\n",
    "\n",
    "Elementos da sequência podem ser acessados pelo índice do elemento (sua posição) entre colchetes após o identificador da sequência.<br> \n",
    "\n",
    "O *índice dos elementos* inicia em `0` e vai até `n-1`, onde `n` é o número de elementos na sequência.\n",
    "\n"
   ]
  },
  {
   "cell_type": "markdown",
   "metadata": {},
   "source": [
    "---\n",
    "Exemplos de **tuplas**"
   ]
  },
  {
   "cell_type": "code",
   "execution_count": 43,
   "metadata": {
    "colab": {
     "base_uri": "https://localhost:8080/",
     "height": 105
    },
    "colab_type": "code",
    "executionInfo": {
     "elapsed": 1043,
     "status": "ok",
     "timestamp": 1594145073196,
     "user": {
      "displayName": "Luis Gustavo Nonato",
      "photoUrl": "",
      "userId": "16109025348268293164"
     },
     "user_tz": 180
    },
    "id": "qRSTJeWcaP7J",
    "outputId": "3cc807a8-33bb-4e02-ef5d-236751f592be"
   },
   "outputs": [
    {
     "name": "stdout",
     "output_type": "stream",
     "text": [
      "23\n",
      "abc\n",
      "4.56\n",
      "(2, 3)\n"
     ]
    }
   ],
   "source": [
    "tupla = (23, 'abc', 4.56, (2,3))  # Tupla é sequência definida usando parenteses ()\n",
    "    \n",
    "# os valores dos elementos podem ser acessados utilizando o índice do elemento entre colchetes\n",
    "print(tupla[0])\n",
    "print(tupla[1])\n",
    "print(tupla[2])\n",
    "print(tupla[3]) "
   ]
  },
  {
   "cell_type": "markdown",
   "metadata": {},
   "source": [
    "O valor na posição `3` é uma *outra tupla* portanto podemos aninhar sequências.\n",
    "\n",
    "Para acessar seus valores usamos um novo índice entre colchetes\n",
    "* elemento na posição 3 da tupla, e dentro dele um elemento na posição 0\n",
    "* elemento na posição 3 da tupla, e dentro dele um elemento na posição 1"
   ]
  },
  {
   "cell_type": "code",
   "execution_count": 44,
   "metadata": {
    "scrolled": true
   },
   "outputs": [
    {
     "name": "stdout",
     "output_type": "stream",
     "text": [
      "2\n",
      "3\n"
     ]
    }
   ],
   "source": [
    "print(tupla[3][0]) \n",
    "print(tupla[3][1]) "
   ]
  },
  {
   "cell_type": "markdown",
   "metadata": {},
   "source": [
    "> Erros típicos: \n",
    "* alterar elementos de tipos imutáveis\n",
    "* acessar posições não existentes"
   ]
  },
  {
   "cell_type": "code",
   "execution_count": 45,
   "metadata": {
    "colab": {
     "base_uri": "https://localhost:8080/",
     "height": 183
    },
    "colab_type": "code",
    "executionInfo": {
     "elapsed": 1029,
     "status": "error",
     "timestamp": 1594144968386,
     "user": {
      "displayName": "Luis Gustavo Nonato",
      "photoUrl": "",
      "userId": "16109025348268293164"
     },
     "user_tz": 180
    },
    "id": "SuaLxuwSaP7N",
    "outputId": "b8949de8-4c87-4df0-df4a-ebab2e17b812",
    "scrolled": true
   },
   "outputs": [
    {
     "ename": "TypeError",
     "evalue": "'tuple' object does not support item assignment",
     "output_type": "error",
     "traceback": [
      "\u001b[0;31m---------------------------------------------------------------------------\u001b[0m",
      "\u001b[0;31mTypeError\u001b[0m                                 Traceback (most recent call last)",
      "\u001b[0;32m<ipython-input-45-29d3dc9e9af3>\u001b[0m in \u001b[0;36m<module>\u001b[0;34m\u001b[0m\n\u001b[1;32m      1\u001b[0m \u001b[0;31m# Como tuplas são imutáveis, não se pode mudar o valor dos elementos (mensagem de erro é gerada)\u001b[0m\u001b[0;34m\u001b[0m\u001b[0;34m\u001b[0m\u001b[0;34m\u001b[0m\u001b[0m\n\u001b[0;32m----> 2\u001b[0;31m \u001b[0mtupla\u001b[0m\u001b[0;34m[\u001b[0m\u001b[0;36m2\u001b[0m\u001b[0;34m]\u001b[0m \u001b[0;34m=\u001b[0m \u001b[0;36m1.5\u001b[0m\u001b[0;34m\u001b[0m\u001b[0;34m\u001b[0m\u001b[0m\n\u001b[0m",
      "\u001b[0;31mTypeError\u001b[0m: 'tuple' object does not support item assignment"
     ]
    }
   ],
   "source": [
    "# Como tuplas são imutáveis, não se pode mudar o valor dos elementos (mensagem de erro é gerada)\n",
    "tupla[2] = 1.5"
   ]
  },
  {
   "cell_type": "code",
   "execution_count": 46,
   "metadata": {},
   "outputs": [
    {
     "ename": "IndexError",
     "evalue": "tuple index out of range",
     "output_type": "error",
     "traceback": [
      "\u001b[0;31m---------------------------------------------------------------------------\u001b[0m",
      "\u001b[0;31mIndexError\u001b[0m                                Traceback (most recent call last)",
      "\u001b[0;32m<ipython-input-46-0cbb90ea328a>\u001b[0m in \u001b[0;36m<module>\u001b[0;34m\u001b[0m\n\u001b[1;32m      1\u001b[0m \u001b[0;31m# tentar acessar um elemento fora do intervalo da sequencia gera erro\u001b[0m\u001b[0;34m\u001b[0m\u001b[0;34m\u001b[0m\u001b[0;34m\u001b[0m\u001b[0m\n\u001b[0;32m----> 2\u001b[0;31m \u001b[0mtupla\u001b[0m\u001b[0;34m[\u001b[0m\u001b[0;36m4\u001b[0m\u001b[0;34m]\u001b[0m\u001b[0;34m\u001b[0m\u001b[0;34m\u001b[0m\u001b[0m\n\u001b[0m",
      "\u001b[0;31mIndexError\u001b[0m: tuple index out of range"
     ]
    }
   ],
   "source": [
    "# tentar acessar um elemento fora do intervalo da sequencia gera erro\n",
    "tupla[4]"
   ]
  },
  {
   "cell_type": "markdown",
   "metadata": {},
   "source": [
    "---\n",
    "Exemplos de **listas** e seus usos\n",
    "\n",
    "* inclusão de elementos com o método `append()`\n",
    "* exclusão de elementos com a função `del`"
   ]
  },
  {
   "cell_type": "code",
   "execution_count": 47,
   "metadata": {
    "colab": {
     "base_uri": "https://localhost:8080/",
     "height": 105
    },
    "colab_type": "code",
    "executionInfo": {
     "elapsed": 1034,
     "status": "ok",
     "timestamp": 1594145560801,
     "user": {
      "displayName": "Luis Gustavo Nonato",
      "photoUrl": "",
      "userId": "16109025348268293164"
     },
     "user_tz": 180
    },
    "id": "Q10abLqzaP7R",
    "outputId": "9869d1e9-c88f-47dd-e9f2-d04f8d6d1b1d",
    "scrolled": false
   },
   "outputs": [
    {
     "name": "stdout",
     "output_type": "stream",
     "text": [
      "['abc', 34, 4.34, 23, 9, 98]\n",
      "abc\n",
      "34\n",
      "4.34\n",
      "23\n",
      "['abc', 34, 4.34, 10000, 9, 98]\n"
     ]
    }
   ],
   "source": [
    "# Listas são definidas utilizando colchetes [ ]\n",
    "ls = [\"abc\", 34, 4.34, 23, 9, 98]  \n",
    "                        \n",
    "print(ls)\n",
    "print(ls[0])\n",
    "print(ls[1])\n",
    "print(ls[2])\n",
    "print(ls[3])\n",
    "\n",
    "# mutável, podemos alterar elementos\n",
    "ls[3] = 10000\n",
    "print(ls)"
   ]
  },
  {
   "cell_type": "code",
   "execution_count": 48,
   "metadata": {
    "colab": {
     "base_uri": "https://localhost:8080/",
     "height": 87
    },
    "colab_type": "code",
    "executionInfo": {
     "elapsed": 1011,
     "status": "ok",
     "timestamp": 1594145306333,
     "user": {
      "displayName": "Luis Gustavo Nonato",
      "photoUrl": "",
      "userId": "16109025348268293164"
     },
     "user_tz": 180
    },
    "id": "eSc6dM7XaP7W",
    "outputId": "67fc356a-6db8-4ec8-de49-0c612216d841",
    "scrolled": true
   },
   "outputs": [
    {
     "name": "stdout",
     "output_type": "stream",
     "text": [
      "[]\n",
      "['maçã', 'manga', 'banana', 'laranja']\n"
     ]
    }
   ],
   "source": [
    "lsn = []  # cria um lista lsn vazia\n",
    "print(lsn)\n",
    "\n",
    "# inserindo elementos em uma lista após ela ter sido criada\n",
    "lsn.append('maçã')\n",
    "lsn.append('manga')\n",
    "lsn.append('banana')\n",
    "lsn.append('laranja')\n",
    "print(lsn)"
   ]
  },
  {
   "cell_type": "code",
   "execution_count": 49,
   "metadata": {},
   "outputs": [
    {
     "name": "stdout",
     "output_type": "stream",
     "text": [
      "['abacate', 'maçã', 'manga', 'banana', 'laranja', 'manga']\n",
      "['abacate', 'maçã', 'amora', 'manga', 'banana', 'laranja', 'manga']\n"
     ]
    }
   ],
   "source": [
    "lsn.insert(0,'abacate')\n",
    "lsn.append('manga')\n",
    "print(lsn)\n",
    "\n",
    "lsn.insert(2,'amora')\n",
    "print(lsn)"
   ]
  },
  {
   "cell_type": "code",
   "execution_count": 50,
   "metadata": {},
   "outputs": [
    {
     "name": "stdout",
     "output_type": "stream",
     "text": [
      "--- Removendo elememtos inseridos\n",
      "['abacate', 'maçã', 'amora', 'manga', 'banana', 'laranja', 'manga']\n",
      "- deleta posição 0\n",
      "['maçã', 'amora', 'manga', 'banana', 'laranja', 'manga']\n",
      "- deleta posição 2\n",
      "['maçã', 'amora', 'banana', 'laranja', 'manga']\n"
     ]
    }
   ],
   "source": [
    "# elementos também podem ser removidos com o comando 'del'\n",
    "print(3*'-','Removendo elememtos inseridos')\n",
    "\n",
    "print(lsn)\n",
    "print('-','deleta posição 0')\n",
    "del(lsn[0])\n",
    "print(lsn)\n",
    "\n",
    "print('-','deleta posição 2')\n",
    "del(lsn[2])\n",
    "print(lsn)"
   ]
  },
  {
   "cell_type": "markdown",
   "metadata": {},
   "source": [
    "OBS: a função `del()` é mais geral e funciona inclusive para variáveis"
   ]
  },
  {
   "cell_type": "code",
   "execution_count": 51,
   "metadata": {},
   "outputs": [
    {
     "ename": "NameError",
     "evalue": "name 'x' is not defined",
     "output_type": "error",
     "traceback": [
      "\u001b[0;31m---------------------------------------------------------------------------\u001b[0m",
      "\u001b[0;31mNameError\u001b[0m                                 Traceback (most recent call last)",
      "\u001b[0;32m<ipython-input-51-f85867067c4c>\u001b[0m in \u001b[0;36m<module>\u001b[0;34m\u001b[0m\n\u001b[1;32m      1\u001b[0m \u001b[0mx\u001b[0m \u001b[0;34m=\u001b[0m \u001b[0;36m10\u001b[0m\u001b[0;34m\u001b[0m\u001b[0;34m\u001b[0m\u001b[0m\n\u001b[1;32m      2\u001b[0m \u001b[0;32mdel\u001b[0m\u001b[0;34m(\u001b[0m\u001b[0mx\u001b[0m\u001b[0;34m)\u001b[0m\u001b[0;34m\u001b[0m\u001b[0;34m\u001b[0m\u001b[0m\n\u001b[0;32m----> 3\u001b[0;31m \u001b[0mprint\u001b[0m\u001b[0;34m(\u001b[0m\u001b[0mx\u001b[0m\u001b[0;34m)\u001b[0m\u001b[0;34m\u001b[0m\u001b[0;34m\u001b[0m\u001b[0m\n\u001b[0m",
      "\u001b[0;31mNameError\u001b[0m: name 'x' is not defined"
     ]
    }
   ],
   "source": [
    "x = 10\n",
    "del(x)\n",
    "print(x)"
   ]
  },
  {
   "cell_type": "markdown",
   "metadata": {},
   "source": [
    "---\n",
    "Exemplos e uso de **strings**"
   ]
  },
  {
   "cell_type": "code",
   "execution_count": 52,
   "metadata": {
    "colab": {
     "base_uri": "https://localhost:8080/",
     "height": 105
    },
    "colab_type": "code",
    "executionInfo": {
     "elapsed": 1596,
     "status": "ok",
     "timestamp": 1594145507838,
     "user": {
      "displayName": "Luis Gustavo Nonato",
      "photoUrl": "",
      "userId": "16109025348268293164"
     },
     "user_tz": 180
    },
    "id": "N7DpYgHTaP7a",
    "outputId": "e262b758-3e57-4777-9e5f-251efdf3e5d5",
    "scrolled": true
   },
   "outputs": [
    {
     "name": "stdout",
     "output_type": "stream",
     "text": [
      "N\n",
      "ã\n",
      "o\n"
     ]
    }
   ],
   "source": [
    "st = 'Não é uma string'  # Strings são definidas utilizando aspas simples '' ou duplas \"\"\n",
    "print(st[0])\n",
    "print(st[1])\n",
    "print(st[2])"
   ]
  },
  {
   "cell_type": "markdown",
   "metadata": {},
   "source": [
    "Strings possui alguns métodos como\n",
    "* `upper()`\n",
    "* `replace()` \n",
    "\n",
    "Ver lista completa em https://docs.python.org/3/library/string.html"
   ]
  },
  {
   "cell_type": "code",
   "execution_count": 53,
   "metadata": {},
   "outputs": [
    {
     "name": "stdout",
     "output_type": "stream",
     "text": [
      "NÃO É UMA STRING\n",
      "Não é uma string\n"
     ]
    }
   ],
   "source": [
    "print(st.upper())\n",
    "print(st)"
   ]
  },
  {
   "cell_type": "code",
   "execution_count": 54,
   "metadata": {},
   "outputs": [
    {
     "name": "stdout",
     "output_type": "stream",
     "text": [
      "Sim, é uma string\n"
     ]
    }
   ],
   "source": [
    "st = st.replace('Não', 'Sim,')\n",
    "print(st)"
   ]
  },
  {
   "cell_type": "markdown",
   "metadata": {
    "colab_type": "text",
    "id": "lz7Wi3ssaP7k"
   },
   "source": [
    "O número de elementos de uma sequência pode ser consultado utilizando a função **len()**"
   ]
  },
  {
   "cell_type": "code",
   "execution_count": 55,
   "metadata": {
    "colab": {},
    "colab_type": "code",
    "id": "XXALaRBnaP7l",
    "outputId": "f5d39656-84e9-43f0-8cc7-1894416013e1",
    "scrolled": true
   },
   "outputs": [
    {
     "name": "stdout",
     "output_type": "stream",
     "text": [
      "(23, 'abc', 4.56, (2, 3))\n",
      "tamanho da tupla:  4 \n",
      "\n",
      "['abc', 34, 4.34, 10000, 9, 98]\n",
      "tamanho da lista:  6 \n",
      "\n",
      "Sim, é uma string\n",
      "tamanho da string:  17\n"
     ]
    }
   ],
   "source": [
    "print(tupla)\n",
    "print(\"tamanho da tupla: \",len(tupla),\"\\n\")\n",
    "print(ls)\n",
    "print(\"tamanho da lista: \",len(ls),\"\\n\")\n",
    "print(st)\n",
    "print(\"tamanho da string: \",len(st))"
   ]
  },
  {
   "cell_type": "markdown",
   "metadata": {
    "colab_type": "text",
    "id": "mKN5C2u9aP8E"
   },
   "source": [
    "---\n",
    "\n",
    "# Estruturas de controle"
   ]
  },
  {
   "cell_type": "markdown",
   "metadata": {
    "colab_type": "text",
    "id": "lQgw-QdZaP8E"
   },
   "source": [
    "## Condicional `if`\n",
    "O comando <font color='blue'>if</font> é o principal comando para condicionar o fluxo de execução do código.\n",
    "\n",
    "```python\n",
    "if <condicao>:\n",
    "    <bloco indentado dentro do escopo da condicao verdadeira>\n",
    "```\n",
    "\n",
    "Sempre que a condição for verdadeira (__True__) o bloco de código identado abaixo é executado.\n",
    "\n",
    "***Erros comuns:***\n",
    "1. esquecer \"dois pontos\"\n",
    "1. errar a indentação no código a ser executado se o `if` for verdadeiro"
   ]
  },
  {
   "cell_type": "markdown",
   "metadata": {
    "colab_type": "text",
    "id": "dFpvIl6SaP8E"
   },
   "source": [
    "#### Indentação\n",
    "\n",
    "Indentação denota blocos de código em um determinado escopo\n",
    "```python\n",
    "if z == 3.45:\n",
    "    x = x + z\n",
    "    z = z / 2\n",
    "```\n",
    "\n",
    "Esse espaço inicial dado às duas linhas abaixo da instrução `if` indicam que as linhas estão no escopo desse `if`\n",
    "\n",
    "**Identação é obrigatória** e deve ser utilizada com cuidado, já que, diferente de linguagens como Java e C++, Python utilizada apenas indentação para delimitar blocos.\n",
    "\n",
    "Linhas de código no mesmo nível de indentação formam um bloco"
   ]
  },
  {
   "cell_type": "code",
   "execution_count": 56,
   "metadata": {},
   "outputs": [
    {
     "name": "stdout",
     "output_type": "stream",
     "text": [
      "Código será executado se condicao for VERDADEIRA (True)\n"
     ]
    }
   ],
   "source": [
    "condicao = True\n",
    "\n",
    "if condicao:\n",
    "    print(\"Código será executado se condicao for VERDADEIRA (True)\")"
   ]
  },
  {
   "cell_type": "code",
   "execution_count": 57,
   "metadata": {},
   "outputs": [],
   "source": [
    "condicao = False\n",
    "\n",
    "if condicao:\n",
    "    print(\"Código será executado se condicao for VERDADEIRA (True)\")"
   ]
  },
  {
   "cell_type": "code",
   "execution_count": 58,
   "metadata": {},
   "outputs": [
    {
     "name": "stdout",
     "output_type": "stream",
     "text": [
      "fora do IF, valor de t= 1\n"
     ]
    }
   ],
   "source": [
    "condicao = False\n",
    "\n",
    "t = 1\n",
    "\n",
    "if condicao:\n",
    "    print(\"Essa condicao foi verdadeira\")\n",
    "    print(\"do contrario esses prints nao executariam\")\n",
    "    t = 1000\n",
    "print(\"fora do IF, valor de t=\", t)"
   ]
  },
  {
   "cell_type": "markdown",
   "metadata": {},
   "source": [
    "---\n",
    "Além da condição principal, também é possível utilizar os comandos __*else*__ (senão) e __*elif*__ (senão se) para controlar o fluxo do programa\n",
    "\n",
    "* `elif` será testado apenas se as condições anteriores forem falsas\n",
    "* um bloco abaixo de `else` será executado quando *todas* as condições anteriores forem falsas"
   ]
  },
  {
   "cell_type": "code",
   "execution_count": 59,
   "metadata": {
    "colab": {
     "base_uri": "https://localhost:8080/",
     "height": 52
    },
    "colab_type": "code",
    "executionInfo": {
     "elapsed": 1066,
     "status": "ok",
     "timestamp": 1594147033098,
     "user": {
      "displayName": "Luis Gustavo Nonato",
      "photoUrl": "",
      "userId": "16109025348268293164"
     },
     "user_tz": 180
    },
    "id": "plw5MQ8laP8I",
    "outputId": "c9acc20a-1fe7-4443-8855-8bf583533af4"
   },
   "outputs": [
    {
     "name": "stdout",
     "output_type": "stream",
     "text": [
      "x vale 2\n",
      "Este print está fora do 'if'\n"
     ]
    }
   ],
   "source": [
    "x = 2   # alterar valor de x e testar\n",
    "\n",
    "if x == 3:\n",
    "    print(\"x vale 3\")\n",
    "elif x == 2:\n",
    "    print(\"x vale 2\")\n",
    "else:\n",
    "    print(\"x não vale nem 3 nem 2\")\n",
    "print(\"Este print está fora do 'if'\")"
   ]
  },
  {
   "cell_type": "markdown",
   "metadata": {
    "colab_type": "text",
    "id": "XgJY0H2gaP8L"
   },
   "source": [
    "Python suporta comandos _if_ ternário"
   ]
  },
  {
   "cell_type": "code",
   "execution_count": 60,
   "metadata": {
    "colab": {
     "base_uri": "https://localhost:8080/",
     "height": 52
    },
    "colab_type": "code",
    "executionInfo": {
     "elapsed": 1020,
     "status": "ok",
     "timestamp": 1594147087946,
     "user": {
      "displayName": "Luis Gustavo Nonato",
      "photoUrl": "",
      "userId": "16109025348268293164"
     },
     "user_tz": 180
    },
    "id": "3g5GnwpWaP8L",
    "outputId": "570643d5-a55f-45e7-f021-b3c687ad0367"
   },
   "outputs": [
    {
     "name": "stdout",
     "output_type": "stream",
     "text": [
      "outro número\n",
      "outro número\n"
     ]
    }
   ],
   "source": [
    "x = 2  \n",
    "\n",
    "# O seguinte trecho de código\n",
    "if x == 3:\n",
    "    y = 'três'\n",
    "else:\n",
    "    y = 'outro número'\n",
    "    \n",
    "print(y)\n",
    "\n",
    "# É equivalente a\n",
    "y = 'três' if x == 3 else 'outro número' # isto é um 'if' ternário\n",
    "print(y)\n",
    "\n",
    "# mude o valor de x no início da célula para 3 e veja o resultado"
   ]
  },
  {
   "cell_type": "markdown",
   "metadata": {},
   "source": [
    "---\n",
    "**<font color=\"blue\">Exercício 1.2</font>**\n",
    "\n",
    "Crie uma variável contendo um ano (um valor inteiro entre 0 e 3000)\n",
    "\n",
    "A seguir, se o ano for divisível por 4, exiba na tela 'Pode ser um ano bissexto'; caso contrário exiba 'Definitivamente não é um ano bissexto'\n",
    "\n",
    "__Dica:__ Utilize o operador `%` que retorna o resto da divisão de um número por outro."
   ]
  },
  {
   "cell_type": "markdown",
   "metadata": {},
   "source": [
    "## Iterando por sequências\n",
    "\n",
    "Uma tarefa bastante comum é realizar uma ação para cada elemento da sequência, inspecionando cada um dos valores.\n",
    "\n",
    "Por exemplo: um programa que, dada uma palavra, soletre cada uma das letras.\n",
    "\n",
    "```python\n",
    "Entre com uma palavra: excesso\n",
    "Soletrando:\n",
    "    e\n",
    "    x\n",
    "    c\n",
    "    e\n",
    "    s\n",
    "    s\n",
    "    o\n",
    "```\n",
    "\n",
    "Começa com a entrada de uma palavra:"
   ]
  },
  {
   "cell_type": "code",
   "execution_count": 63,
   "metadata": {},
   "outputs": [
    {
     "name": "stdout",
     "output_type": "stream",
     "text": [
      "excesso\n"
     ]
    }
   ],
   "source": [
    "palavra = str(input())"
   ]
  },
  {
   "cell_type": "code",
   "execution_count": 64,
   "metadata": {
    "scrolled": true
   },
   "outputs": [
    {
     "name": "stdout",
     "output_type": "stream",
     "text": [
      "e\n",
      "x\n",
      "c\n",
      "e\n",
      "s\n",
      "s\n",
      "o\n"
     ]
    }
   ],
   "source": [
    "print(palavra[0])\n",
    "print(palavra[1])\n",
    "print(palavra[2])\n",
    "print(palavra[3])\n",
    "print(palavra[4])\n",
    "print(palavra[5])\n",
    "print(palavra[6])"
   ]
  },
  {
   "cell_type": "markdown",
   "metadata": {},
   "source": [
    "Agora precisamos, **para cada** caracter da palavra, imprimí-lo na tela"
   ]
  },
  {
   "cell_type": "code",
   "execution_count": 65,
   "metadata": {},
   "outputs": [
    {
     "name": "stdout",
     "output_type": "stream",
     "text": [
      "asdf\n",
      "soletrando:\n",
      "a\n",
      "s\n",
      "d\n",
      "f\n"
     ]
    }
   ],
   "source": [
    "palavra = str(input())\n",
    "print(\"soletrando:\")\n",
    "for caracter in palavra:\n",
    "    print(caracter)"
   ]
  },
  {
   "cell_type": "markdown",
   "metadata": {},
   "source": [
    "### laço `for`\n",
    "\n",
    "Estrutura de repetição ou iteração chamada de laço `for` (em inglês `for` loop)\n",
    "\n",
    "No exemplo acima o `for` é relativo às linhas 3 e 4:\n",
    "* linha 3: define `caracter` como uma variável\n",
    "    * `caracter` vai receber repetidamente elementos contidos em (`in`) `palavra`\n",
    "* linha 4: para cada atribuição podemos realizar ações\n",
    "    * nesse caso imprimimos o caracter\n",
    "    * note que o `print` está indentado! é obrigatório indentar para colocar comandos dentro do escopo do `for`\n",
    "\n",
    "Sintaxe:\n",
    "```\n",
    "for <variavel> in <sequencia>:\n",
    "    <bloco indentado>\n",
    "    ...\n",
    "    <ultimo comando indentado>\n",
    "    \n",
    "<comando não identado (fora do for)>\n",
    "```\n",
    "\n",
    "Podemos usar o laço `for` para iterar por itens em qualquer sequência, como listas"
   ]
  },
  {
   "cell_type": "code",
   "execution_count": 66,
   "metadata": {},
   "outputs": [
    {
     "name": "stdout",
     "output_type": "stream",
     "text": [
      "['zebra', 'person', 5, 'airplane', 10, 'car']\n"
     ]
    }
   ],
   "source": [
    "categorias = ['zebra', 'person', 5, 'airplane', 10, 'car']\n",
    "print(categorias)"
   ]
  },
  {
   "cell_type": "code",
   "execution_count": 67,
   "metadata": {},
   "outputs": [
    {
     "name": "stdout",
     "output_type": "stream",
     "text": [
      "zebra\n",
      "person\n",
      "5\n",
      "airplane\n",
      "10\n",
      "car\n"
     ]
    }
   ],
   "source": [
    "for elem in categorias:\n",
    "    print(elem)"
   ]
  },
  {
   "cell_type": "markdown",
   "metadata": {},
   "source": [
    "Podemos combinar `for` e outras estruturas como `if`\n",
    "\n",
    "Abaixo, vamos imprimir apenas elementos que sejam strings\n"
   ]
  },
  {
   "cell_type": "code",
   "execution_count": 68,
   "metadata": {},
   "outputs": [
    {
     "name": "stdout",
     "output_type": "stream",
     "text": [
      "zebra\n",
      "person\n",
      "airplane\n",
      "car\n"
     ]
    }
   ],
   "source": [
    "for elem in categorias:\n",
    "    if type(elem) == str:\n",
    "        print(elem)"
   ]
  },
  {
   "cell_type": "markdown",
   "metadata": {},
   "source": [
    "#### Função `range()` em conjunto com `for`\n",
    "\n",
    "A função `range()` gera *intervalo*, o qual pode ser convertido para lista ou outra sequência\n",
    "\n",
    "Cria um intervalo de `i` até anterior a `j` com um `passo` definido:\n",
    "`range(i,j, passo)`"
   ]
  },
  {
   "cell_type": "code",
   "execution_count": 69,
   "metadata": {},
   "outputs": [
    {
     "data": {
      "text/plain": [
       "range(1, 10)"
      ]
     },
     "execution_count": 69,
     "metadata": {},
     "output_type": "execute_result"
    }
   ],
   "source": [
    "range(1,10)"
   ]
  },
  {
   "cell_type": "code",
   "execution_count": 70,
   "metadata": {},
   "outputs": [
    {
     "data": {
      "text/plain": [
       "[1, 2, 3, 4, 5, 6, 7, 8, 9]"
      ]
     },
     "execution_count": 70,
     "metadata": {},
     "output_type": "execute_result"
    }
   ],
   "source": [
    "list(range(1,10))"
   ]
  },
  {
   "cell_type": "code",
   "execution_count": 71,
   "metadata": {},
   "outputs": [
    {
     "data": {
      "text/plain": [
       "(1, 2, 3, 4, 5, 6, 7, 8, 9)"
      ]
     },
     "execution_count": 71,
     "metadata": {},
     "output_type": "execute_result"
    }
   ],
   "source": [
    "tuple(range(1,10))"
   ]
  },
  {
   "cell_type": "code",
   "execution_count": 72,
   "metadata": {},
   "outputs": [
    {
     "name": "stdout",
     "output_type": "stream",
     "text": [
      "1\n",
      "2\n",
      "3\n",
      "4\n",
      "5\n",
      "6\n",
      "7\n",
      "8\n",
      "9\n"
     ]
    }
   ],
   "source": [
    "for x in range(1,10):\n",
    "    print(x)"
   ]
  },
  {
   "cell_type": "code",
   "execution_count": 73,
   "metadata": {
    "colab": {},
    "colab_type": "code",
    "id": "Wb2Pi6wzaP8R",
    "outputId": "06997fe8-0b0f-4dd3-ffdd-7c4924ea6f86"
   },
   "outputs": [
    {
     "name": "stdout",
     "output_type": "stream",
     "text": [
      "numero de elementos na lista:  10\n",
      "[0, 2, 4, 6, 8, 10, 12, 14, 16, 18]\n"
     ]
    }
   ],
   "source": [
    "lista_numeros = []\n",
    "for i in range(20):\n",
    "    if (i%2 == 0):\n",
    "        lista_numeros.append(i) \n",
    "    \n",
    "print('numero de elementos na lista: ',len(lista_numeros))\n",
    "print(lista_numeros)\n"
   ]
  },
  {
   "cell_type": "markdown",
   "metadata": {},
   "source": [
    "#### Laços aninhados"
   ]
  },
  {
   "cell_type": "code",
   "execution_count": 74,
   "metadata": {
    "scrolled": true
   },
   "outputs": [
    {
     "name": "stdout",
     "output_type": "stream",
     "text": [
      "aX\n",
      "aZ\n",
      "bX\n",
      "bZ\n",
      "cX\n",
      "cZ\n"
     ]
    }
   ],
   "source": [
    "l1 = ['a', 'b', 'c']\n",
    "l2 = ['X', 'Z']\n",
    "\n",
    "# iterar pela lista l1\n",
    "for i in l1:\n",
    "    #print(i)\n",
    "    for j in l2:\n",
    "        #print(\"\\t\",j)\n",
    "        print(\"%s%s\" % (i,j))"
   ]
  },
  {
   "cell_type": "markdown",
   "metadata": {},
   "source": [
    "---\n",
    "\n",
    "**<font color=\"blue\">Exercício 1.3 </font>**\n",
    "\n",
    "Dada a lista `valores` abaixo, crie uma nova lista chamada `numeros` contendo apenas elementos `float` ou `int`.\n",
    "\n",
    "Note que essa nova lista pode ter menos elementos do que a lista existente.\n",
    "\n",
    "Ao final exiba a nova lista `numeros`\n",
    "\n",
    "__Dica__: Percorra a lista com uma estrutura de repetição e utilize `type()` para retornar o tipo e compare com o desejado. Exemplo:\n",
    "```python\n",
    "type(3) == int\n",
    "```\n",
    "Retorna `True`\n",
    "\n",
    "---"
   ]
  },
  {
   "cell_type": "code",
   "execution_count": 75,
   "metadata": {},
   "outputs": [],
   "source": [
    "valores = ['três', 56, 342, 12.4e-5, 4+3j, ('A', 1, 50.1), -0.19e4, 1000, 960, -406]"
   ]
  },
  {
   "cell_type": "markdown",
   "metadata": {},
   "source": [
    "### Diretivas `continue`  e `break`\n",
    "\n",
    "São formas de burlar a estrutura de iteração original\n",
    "\n",
    "* `continue` pula a iteração atual e vai para a próxima\n",
    "* `break` interrompe a iteração e sai da estrutura\n",
    "\n",
    "Ambas são pouco recomendadas, mas existem e podem ser usadas se não houver uma outra alternativa."
   ]
  },
  {
   "cell_type": "code",
   "execution_count": 76,
   "metadata": {},
   "outputs": [],
   "source": [
    "lista = ['a', 10.5, .20, 'b', 30.0, 100, ('tupla', 1, 2), 10, 'fim', 1000, 405, 'x']"
   ]
  },
  {
   "cell_type": "code",
   "execution_count": 77,
   "metadata": {},
   "outputs": [
    {
     "name": "stdout",
     "output_type": "stream",
     "text": [
      "Soma dos floats e ints anteriores a 'fim': 150.7\n"
     ]
    }
   ],
   "source": [
    "soma = 0\n",
    "for x in lista:\n",
    "    # se o elemento for fim, encerra o loop\n",
    "    if (x == 'fim'):\n",
    "        break\n",
    "        \n",
    "    # se o elemento for diferente de inteiro e float, vai para o proximo\n",
    "    if (type(x) != int and type(x) != float):\n",
    "        continue\n",
    "        \n",
    "    soma = soma + x\n",
    "    \n",
    "print(\"Soma dos floats e ints anteriores a 'fim':\", soma)    "
   ]
  },
  {
   "cell_type": "markdown",
   "metadata": {},
   "source": [
    "---\n",
    "\n",
    "## Laço `while` \n",
    "\n",
    "A estrutura `while` é mais geral do que a `for` e permite repetir um bloco de código mediante uma *condição*\n",
    "\n",
    "Vamos relembrar a estrutura condicional `if` que tinha a seguinte sintaxe:\n",
    "\n",
    "```\n",
    "if <condicao>:\n",
    "    <bloco indentado, executado se condicao for verdadeira>\n",
    "    \n",
    "<comando nao indentado, fora do if>\n",
    "```\n",
    "\n",
    "Nessa estrutura, caso a condição seja verdadeira, \n",
    "* o programa executa o `bloco indentado`\n",
    "* a seguir, sai da estrutura `if` e executa o `comando nao indentado`\n",
    "\n",
    "Caso a condição seja falsa\n",
    "* pula o bloco `if` e executa diretamente o `comando nao indentado`\n",
    "\n",
    "---\n",
    "\n",
    "No caso de um `while` a sintaxe é \n",
    "```\n",
    "while <condicao>:\n",
    "    <bloco indentado, executado se condicao for verdadeira>\n",
    "    \n",
    "<comando nao indentado, fora do while>\n",
    "```\n",
    "\n",
    "Assim o `bloco indentado` pode ser executado *múltiplas* vezes, **enquanto** a condição for verdadeira\n",
    "\n",
    "**Agora a condição de parada é importante**\n",
    "* é preciso que, em algum momento, a condição seja falsa, para que o programa continue executando"
   ]
  },
  {
   "cell_type": "markdown",
   "metadata": {},
   "source": [
    "**Exemplo**: a partir de um número, divida o número sucessivas vezes por 2 enquanto o valor permaneça maior do que 1"
   ]
  },
  {
   "cell_type": "code",
   "execution_count": 78,
   "metadata": {
    "colab": {
     "base_uri": "https://localhost:8080/",
     "height": 210
    },
    "colab_type": "code",
    "executionInfo": {
     "elapsed": 1028,
     "status": "ok",
     "timestamp": 1594147637892,
     "user": {
      "displayName": "Luis Gustavo Nonato",
      "photoUrl": "",
      "userId": "16109025348268293164"
     },
     "user_tz": 180
    },
    "id": "cK5QcT3-aP8d",
    "outputId": "0e0a3376-c3ec-4818-802e-28b540a59930"
   },
   "outputs": [
    {
     "name": "stdout",
     "output_type": "stream",
     "text": [
      "44\n",
      "22\n",
      "11\n",
      "5\n",
      "2\n",
      "1\n",
      "Divisoes por 2:  5\n"
     ]
    }
   ],
   "source": [
    "# entrada do número\n",
    "num = int(input())\n",
    "\n",
    "c = 0 # contador\n",
    "\n",
    "# enquanto número for maior do que 1\n",
    "while (num > 1):\n",
    "    num = num//2\n",
    "    c = c + 1\n",
    "    print(num)\n",
    "    \n",
    "print(\"Divisoes por 2: \", c)"
   ]
  },
  {
   "cell_type": "markdown",
   "metadata": {},
   "source": [
    "---\n",
    "\n",
    "## Codificando Funções\n",
    "\n",
    "Já usamos diversas funções nativas do Python, que foram implementadas para facilitar nossa vida:\n",
    "\n",
    "* `len()`\n",
    "* `sum()`\n",
    "* `type()`\n",
    "* `input()`\n",
    "\n",
    "Funções são úteis quando temos que repetir uma tarefa várias vezes.\n",
    "\n",
    "Podemos programar nossa própria função, usando a seguinte sintaxe:\n",
    "\n",
    "```\n",
    "def <identificador_da_funcao>(<uma ou mais variaveis parametros da funcao>):\n",
    "    <codigo indentado parte da funcao>\n",
    "    <return : caso essa funcao retorne algo>\n",
    "```\n",
    "\n",
    "A palavra `def` indica a definição da função, que passará a ficar disponível para uso.\n",
    "\n",
    "Vamos criar uma função que receba um número e verifique se esse número é `int` ou `float` o que pode ser útil para controle de entrada"
   ]
  },
  {
   "cell_type": "code",
   "execution_count": 79,
   "metadata": {},
   "outputs": [],
   "source": [
    "def is_intfloat(x):\n",
    "    if (type(x) == int or type(x) == float):\n",
    "        print(\"é inteiro ou float\")\n",
    "    else:\n",
    "        print(\"não é inteiro nem float\")"
   ]
  },
  {
   "cell_type": "code",
   "execution_count": 80,
   "metadata": {},
   "outputs": [
    {
     "name": "stdout",
     "output_type": "stream",
     "text": [
      "é inteiro ou float\n",
      "é inteiro ou float\n",
      "não é inteiro nem float\n"
     ]
    }
   ],
   "source": [
    "val1 = 3.0\n",
    "is_intfloat(val1)\n",
    "\n",
    "val2 = 3\n",
    "is_intfloat(val2)\n",
    "\n",
    "val3 = '5.5'\n",
    "is_intfloat(val3)"
   ]
  },
  {
   "cell_type": "markdown",
   "metadata": {},
   "source": [
    "A nossa função *imprime* o resultado na tela, mas **não é recomendado** que funções possuam operações de *entrada e saída*.\n",
    "\n",
    "É muito mais útil que a função devolva o resultado de alguma forma. Isso é feito pelo comando `return`\n",
    "\n",
    "> Esse é um erro comum: usar `print()` ao invés de return."
   ]
  },
  {
   "cell_type": "code",
   "execution_count": 81,
   "metadata": {},
   "outputs": [
    {
     "name": "stdout",
     "output_type": "stream",
     "text": [
      "True\n",
      "False\n"
     ]
    }
   ],
   "source": [
    "def is_intfloat(x):\n",
    "    if (type(x) == int or type(x) == float):\n",
    "        return True\n",
    "    else:\n",
    "        return False\n",
    "    \n",
    "val1 = 3.0\n",
    "print(is_intfloat(val1))\n",
    "\n",
    "val3 = '5.5'\n",
    "print(is_intfloat(val3))"
   ]
  },
  {
   "cell_type": "markdown",
   "metadata": {},
   "source": [
    "Assim, conseguimos usar essa função como parte das nossas soluções."
   ]
  },
  {
   "cell_type": "code",
   "execution_count": 82,
   "metadata": {},
   "outputs": [],
   "source": [
    "val = 'dd'\n",
    "if is_intfloat(val):\n",
    "    val = val/2\n",
    "    print(val)    "
   ]
  },
  {
   "cell_type": "markdown",
   "metadata": {},
   "source": [
    "---\n",
    "\n",
    "#### <font color=\"blue\">Exercício 1.4 </font>\n",
    "\n",
    "Escreva uma **função** que receba por parâmetro uma taxa de juros pagas ao ano, calcule e retorne um número inteiro relativo a quantos anos serão necessários para que um investimento nessa taxa dobre de valor. Assuma juros compostos e use uma estrutura de repetição para calcular.\n",
    "\n",
    "---\n"
   ]
  },
  {
   "cell_type": "code",
   "execution_count": null,
   "metadata": {},
   "outputs": [],
   "source": []
  }
 ],
 "metadata": {
  "colab": {
   "collapsed_sections": [],
   "name": "Python I.ipynb",
   "provenance": []
  },
  "kernelspec": {
   "display_name": "Python 3",
   "language": "python",
   "name": "python3"
  },
  "language_info": {
   "codemirror_mode": {
    "name": "ipython",
    "version": 3
   },
   "file_extension": ".py",
   "mimetype": "text/x-python",
   "name": "python",
   "nbconvert_exporter": "python",
   "pygments_lexer": "ipython3",
   "version": "3.9.5"
  },
  "toc": {
   "base_numbering": 1,
   "nav_menu": {},
   "number_sections": true,
   "sideBar": true,
   "skip_h1_title": false,
   "title_cell": "Table of Contents",
   "title_sidebar": "Contents",
   "toc_cell": false,
   "toc_position": {},
   "toc_section_display": true,
   "toc_window_display": false
  }
 },
 "nbformat": 4,
 "nbformat_minor": 1
}
