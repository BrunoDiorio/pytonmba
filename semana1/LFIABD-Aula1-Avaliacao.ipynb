{
 "cells": [
  {
   "cell_type": "markdown",
   "metadata": {},
   "source": [
    "# <font color=\"red\"> MBA em IA e Big Data</font>\n",
    "## <span style=\"color:red\">Linguagens e Ferramentas para Inteligência Artificial e Big Data (Python e SQL)</span>\n",
    "\n",
    "### <span style=\"color:darkred\">Python: referências, operações e funções</span>\n",
    "\n",
    "## Avaliação\n",
    "\n",
    "*Moacir Antonelli Ponti*<br>\n",
    "*ICMC/USP São Carlos*"
   ]
  },
  {
   "cell_type": "markdown",
   "metadata": {},
   "source": [
    "<font color='red'> As respostas devem ser fornecidas no Moodle. O notebook é apenas para a implementação dos códigos que fornecerão as respostas</font>"
   ]
  },
  {
   "cell_type": "markdown",
   "metadata": {},
   "source": [
    "## Questão 1\n",
    "\n",
    "Considere que temos tuplas contendo registros de passageiros em um vôo. As tuplas são organizadas de forma que os elementos estão sempre nessa ordem:\n",
    "* Abreviação do país com 3 letras (ex. 'BRA', 'ARG')\n",
    "* Passaporte\n",
    "* Mês de vencimento do passaporte\n",
    "* Ano de vencimento do passaporte\n",
    "* Valor pago pelo trecho\n",
    "\n",
    "Seja uma lista contendo tuplas do tipo acima.  Calcule o valor médio pago pelo trecho entre todos os passageiros\n",
    "\n",
    "a) 996.4<br>\n",
    "b) 999.99<br>\n",
    "c) 1009.1<br>\n",
    "d) 990.50"
   ]
  },
  {
   "cell_type": "code",
   "execution_count": 21,
   "metadata": {},
   "outputs": [
    {
     "data": {
      "text/plain": [
       "[('BRA', 'DFD-2992', 12, 2021, 999.0),\n",
       " ('ARG', '1112992', 1, 2022, 899.0),\n",
       " ('EUA', 'AB3DA000', 11, 2021, 1023.0),\n",
       " ('BRA', 'GCG-1112', 9, 2021, 900.0),\n",
       " ('ESP', 'DFD-2992', 11, 2021, 899.0),\n",
       " ('URU', 'AEC423', 3, 2023, 699.0),\n",
       " ('PAR', 'DFD-2992', 2, 2025, 1099.0),\n",
       " ('ARL', 'X123111Z', 10, 2021, 954.0),\n",
       " ('URU', 'BAC203', 2, 2025, 1011.0),\n",
       " ('ARG', '3112323', 10, 2021, 1250.0),\n",
       " ('URU', 'ABC123', 12, 2024, 1001.5),\n",
       " ('BRA', 'AAB-2992', 8, 2021, 1050.9),\n",
       " ('BRA', 'EFE-2992', 8, 2022, 1170.1),\n",
       " ('VEN', 'GAC292', 4, 2023, 1000.6),\n",
       " ('PER', '2992DDE', 9, 2021, 989.9)]"
      ]
     },
     "execution_count": 21,
     "metadata": {},
     "output_type": "execute_result"
    }
   ],
   "source": [
    "lv = [('BRA', 'DFD-2992', 12, 2021, 999.0),\n",
    "      ('ARG', '1112992', 1, 2022, 899.0),\n",
    "      ('EUA', 'AB3DA000', 11, 2021, 1023.0),\n",
    "      ('BRA', 'GCG-1112', 9, 2021, 900.0),\n",
    "      ('ESP', 'DFD-2992', 11, 2021, 899.0),\n",
    "      ('URU', 'AEC423', 3, 2023, 699.0),\n",
    "      ('PAR', 'DFD-2992', 2, 2025, 1099.0),\n",
    "      ('ARL', 'X123111Z', 10, 2021, 954.0),\n",
    "      ('URU', 'BAC203', 2, 2025, 1011.0),\n",
    "      ('ARG', '3112323', 10, 2021, 1250.0),\n",
    "      ('URU', 'ABC123', 12, 2024, 1001.5),\n",
    "      ('BRA', 'AAB-2992', 8, 2021, 1050.9),\n",
    "      ('BRA', 'EFE-2992', 8, 2022, 1170.1),\n",
    "      ('VEN', 'GAC292', 4, 2023, 1000.6),\n",
    "      ('PER', '2992DDE', 9, 2021, 989.9)]\n",
    "\n",
    "lv"
   ]
  },
  {
   "cell_type": "code",
   "execution_count": 2,
   "metadata": {},
   "outputs": [],
   "source": [
    "###"
   ]
  },
  {
   "cell_type": "markdown",
   "metadata": {},
   "source": [
    "## Questão 2\n",
    "\n",
    "Considere a mesma lista anteriormente utilizada. Escreva um programa para calcular: quantos passageiros no vôo dos países: 'BRA' e 'ARG' e todos os outros possuem passaporte com vencimento em dezembro de 2021 ou anterior?\n",
    "\n",
    "a) BRA = 3, ARG = 1, Outros = 4<br>\n",
    "b) BRA = 4, ARG = 2, Outros = 4<br>\n",
    "c) BRA = 3, ARG = 1, Outros = 9<br>\n",
    "d) BRA = 4, ARG = 2, Outros = 9"
   ]
  },
  {
   "cell_type": "code",
   "execution_count": 3,
   "metadata": {},
   "outputs": [],
   "source": [
    "##"
   ]
  },
  {
   "cell_type": "markdown",
   "metadata": {},
   "source": [
    "## Questão 3\n",
    "\n",
    "Considere ainda a mesma lista de tuplas anterior. Agora crie uma nova lista contendo strings formada pelo mes e ano de vencimento no formato: `mm/aaaa`. Exemplo: se temos mes = 9 e ano = 2022 a string resultante será `'9/2022'`\n",
    "\n",
    "A seguir, conte quantas dessas strings possuem tamanho maior do que 6.\n",
    "\n",
    "a) 10<br>\n",
    "b) 4<br>\n",
    "c) 6<br>\n",
    "d) 3"
   ]
  },
  {
   "cell_type": "code",
   "execution_count": 4,
   "metadata": {},
   "outputs": [],
   "source": [
    "### "
   ]
  },
  {
   "cell_type": "markdown",
   "metadata": {},
   "source": [
    "## Questão 4\n",
    "\n",
    "Carregue o arquivo <font style=\"font-family: monaco\">WorldCupMatches.csv</font>, disponível para download. Baixe o arquivo no seu diretório de trabalho para responder as questões.\n",
    "\n",
    "O arquivo <font style=\"font-family: monaco\">WorldCupMatches.csv</font> contém informações sobre todas as partidas de copas do mundo entre 1930 e 2014, ou seja, cada linha no arquivo corresponde a uma partida de futebol em copa do mundo.\n",
    "\n",
    "Algumas das colunas que serão importantes para resolver as questões são:\n",
    "- __Year__: indica o ano da copa\n",
    "- __Stage__: em qual fase da copa a partida aconteceu\n",
    "- __HomeTeamName__: nome do time anfitrião da partida\n",
    "- __AwayTeamName__: nome do time adversário na partida\n",
    "- __Attendance__: número de espectadores da partida\n",
    "- __Stadium__: estádio onde a partida foi realizada\n",
    "\n",
    "Qual o número de colunas do dataframe e quantas colunas são de tipos numéricos?\n",
    "\n",
    "a) 20 colunas, 12 numéricas<br>\n",
    "b) 836 colunas, 12 numéricas<br>\n",
    "c) 20 colunas, 8 numéricas<br>\n",
    "d) 836 colunas, 8 numéricas"
   ]
  },
  {
   "cell_type": "code",
   "execution_count": 5,
   "metadata": {},
   "outputs": [],
   "source": [
    "import pandas as pd\n",
    "###"
   ]
  },
  {
   "cell_type": "markdown",
   "metadata": {},
   "source": [
    "## Questão 5\n",
    "\n",
    "Crie uma nova coluna 'TotalGoals' com o total de gols em cada jogo. A seguir, selecione apenas partidas entre Brasil e México. Conte quantas partidas aconteceram entre esses países, e calcule qual foi o ano cuja partida teve o maior número de gols?\n",
    "\n",
    "a) 2 jogos, 1954<br>\n",
    "b) 4 jogos, 1962<br>\n",
    "c) 2 jogos, 1962<br>\n",
    "d) 4 jogos, 1954\n",
    "\n",
    "__Dica:__ Utilize o método <font color='blue'>query</font> combinando operadores lógicos <font color='blue'>&</font> (AND) e <font color='blue'>|</font> (OR) e o método `max()` do dataframe pandas"
   ]
  },
  {
   "cell_type": "code",
   "execution_count": 6,
   "metadata": {},
   "outputs": [],
   "source": [
    "####"
   ]
  },
  {
   "cell_type": "code",
   "execution_count": null,
   "metadata": {},
   "outputs": [],
   "source": []
  }
 ],
 "metadata": {
  "kernelspec": {
   "display_name": "Python 3",
   "language": "python",
   "name": "python3"
  },
  "language_info": {
   "codemirror_mode": {
    "name": "ipython",
    "version": 3
   },
   "file_extension": ".py",
   "mimetype": "text/x-python",
   "name": "python",
   "nbconvert_exporter": "python",
   "pygments_lexer": "ipython3",
   "version": "3.9.5"
  },
  "toc": {
   "base_numbering": 1,
   "nav_menu": {},
   "number_sections": true,
   "sideBar": true,
   "skip_h1_title": false,
   "title_cell": "Table of Contents",
   "title_sidebar": "Contents",
   "toc_cell": false,
   "toc_position": {},
   "toc_section_display": true,
   "toc_window_display": false
  }
 },
 "nbformat": 4,
 "nbformat_minor": 2
}
